{
 "cells": [
  {
   "cell_type": "code",
   "execution_count": 2,
   "id": "3c7f0de9-df9d-4c40-9942-3e9131ad35b8",
   "metadata": {},
   "outputs": [],
   "source": [
    "# 데이터 불러오기와 간단한 분석까지\n",
    "import numpy as np\n",
    "import pandas as pd"
   ]
  },
  {
   "cell_type": "code",
   "execution_count": null,
   "id": "eebae5a8-fc30-4a78-b876-96d1f6423eaa",
   "metadata": {},
   "outputs": [],
   "source": [
    "# 파일 다루기\n",
    "# csv, json"
   ]
  },
  {
   "cell_type": "code",
   "execution_count": null,
   "id": "f5b68ec6-ce3b-4be2-ac78-ea0b2ef46771",
   "metadata": {},
   "outputs": [],
   "source": [
    "# csv 파일 불러오기"
   ]
  },
  {
   "cell_type": "code",
   "execution_count": 6,
   "id": "525077a5-4c7b-49ac-861e-c6996eed9e4e",
   "metadata": {},
   "outputs": [
    {
     "name": "stdout",
     "output_type": "stream",
     "text": [
      "   student_id  math  eng  kor\n",
      "0         101    80   95   88\n",
      "1         102    92   85   90\n",
      "2         103    75   80   66\n",
      "RangeIndex(start=0, stop=3, step=1)\n"
     ]
    },
    {
     "data": {
      "text/html": [
       "<div>\n",
       "<style scoped>\n",
       "    .dataframe tbody tr th:only-of-type {\n",
       "        vertical-align: middle;\n",
       "    }\n",
       "\n",
       "    .dataframe tbody tr th {\n",
       "        vertical-align: top;\n",
       "    }\n",
       "\n",
       "    .dataframe thead th {\n",
       "        text-align: right;\n",
       "    }\n",
       "</style>\n",
       "<table border=\"1\" class=\"dataframe\">\n",
       "  <thead>\n",
       "    <tr style=\"text-align: right;\">\n",
       "      <th></th>\n",
       "      <th>math</th>\n",
       "      <th>eng</th>\n",
       "      <th>kor</th>\n",
       "    </tr>\n",
       "    <tr>\n",
       "      <th>student_id</th>\n",
       "      <th></th>\n",
       "      <th></th>\n",
       "      <th></th>\n",
       "    </tr>\n",
       "  </thead>\n",
       "  <tbody>\n",
       "    <tr>\n",
       "      <th>101</th>\n",
       "      <td>80</td>\n",
       "      <td>95</td>\n",
       "      <td>88</td>\n",
       "    </tr>\n",
       "    <tr>\n",
       "      <th>102</th>\n",
       "      <td>92</td>\n",
       "      <td>85</td>\n",
       "      <td>90</td>\n",
       "    </tr>\n",
       "    <tr>\n",
       "      <th>103</th>\n",
       "      <td>75</td>\n",
       "      <td>80</td>\n",
       "      <td>66</td>\n",
       "    </tr>\n",
       "  </tbody>\n",
       "</table>\n",
       "</div>"
      ],
      "text/plain": [
       "            math  eng  kor\n",
       "student_id                \n",
       "101           80   95   88\n",
       "102           92   85   90\n",
       "103           75   80   66"
      ]
     },
     "execution_count": 6,
     "metadata": {},
     "output_type": "execute_result"
    }
   ],
   "source": [
    "# 판다스를 사용해서 csv 파일 불러오기\n",
    "# read_csv(파일의 경로)\n",
    "# 상대경로 / 절대경로\n",
    "# 현재 나의 위치: python-data-study\n",
    "# 찾고자 하는 파일: sample1.csv\n",
    "# read_csv 는 csv 파일을 읽어서 데이터 프레임으로 반환\n",
    "df = pd.read_csv('sample/sample1.csv') # 상대 경로\n",
    "print(df)\n",
    "# 읽어온 데이터 속성 확인\n",
    "# 행열 이름 확인\n",
    "print(df.index)\n",
    "df.columns\n",
    "# 행 인덱스: 자동으로 정수 인덱스가 설정됨\n",
    "# 열 컬럼: 자동으로 첫번째 행이 컬럼으로 설정됨\n",
    "\n",
    "# 행 인덱스 바꾸기\n",
    "# 학번을 인덱스로 설정\n",
    "df.set_index('student_id')"
   ]
  },
  {
   "cell_type": "code",
   "execution_count": null,
   "id": "225170a6-d333-4608-8b82-cc5b404516ca",
   "metadata": {},
   "outputs": [],
   "source": []
  },
  {
   "cell_type": "code",
   "execution_count": 23,
   "id": "7b2587b4-4cf4-427e-b37b-6b3a7d812a49",
   "metadata": {},
   "outputs": [
    {
     "name": "stdout",
     "output_type": "stream",
     "text": [
      "Index(['노트북', '키보드', '마우스'], dtype='object', name='상품명')\n",
      "Index(['가격', '재고'], dtype='object')\n"
     ]
    }
   ],
   "source": [
    "# sample 폴더 아래 2번째 csv 파일 불러오기\n",
    "# 파일에 한글이 포함되어 있으면 한글을 지원하는 인코딩 설정\n",
    "# 한글을 지원하는 인코딩: utf-8, euc-kr\n",
    "df = pd.read_csv('sample/sample2.csv',encoding='euc-kr')\n",
    "df\n",
    "# 나중에 데이터를 쉽게 조회/수정/삭제 하기 위해\n",
    "# 상품명을 행 인덱스로 설정\n",
    "df = df.set_index('상품명')\n",
    "\n",
    "print(df.index)\n",
    "print(df.columns)\n",
    "\n",
    "# 다시 2번째 csv 파일 불러오기\n",
    "df = pd.read_csv('sample/sample2.csv',encoding='euc-kr')\n",
    "df\n",
    "\n",
    "df.index = df['상품명']"
   ]
  },
  {
   "cell_type": "code",
   "execution_count": null,
   "id": "1ed5b9ed-1b5e-404a-8b4d-ab598cd3f107",
   "metadata": {},
   "outputs": [],
   "source": []
  },
  {
   "cell_type": "code",
   "execution_count": 25,
   "id": "e1900795-4d2b-4a24-87a6-e039c71b3103",
   "metadata": {},
   "outputs": [
    {
     "data": {
      "text/plain": [
       "{'id': 101, 'name': 'alice', 'age': 30}"
      ]
     },
     "execution_count": 25,
     "metadata": {},
     "output_type": "execute_result"
    }
   ],
   "source": [
    "# json 파일 불러오기\n",
    "import json\n",
    "# 파이썬 방식으로 파일 열기\n",
    "f = open('sample/sample3.json','r')\n",
    "# json 모듈로 파일을 딕셔너리로 변환\n",
    "dic = json.load(f)\n",
    "dic"
   ]
  },
  {
   "cell_type": "code",
   "execution_count": null,
   "id": "7c1cdd0c-dd0c-463b-9db4-c23803a6975c",
   "metadata": {},
   "outputs": [],
   "source": []
  },
  {
   "cell_type": "code",
   "execution_count": 37,
   "id": "b9aa1db6-625e-4538-8c24-9b9ddba9b7e1",
   "metadata": {},
   "outputs": [
    {
     "name": "stdout",
     "output_type": "stream",
     "text": [
      "name 홍길동\n",
      "age 25\n",
      "city 서울\n"
     ]
    }
   ],
   "source": [
    "# 파이썬 방식으로 파일 불러오기\n",
    "f = open('sample/sample4.json','r', encoding='utf-8')\n",
    "\n",
    "dic = json.load(f)\n",
    "dic\n",
    "\n",
    "# 딕셔너리에서 키와 값 꺼내기\n",
    "for key, value in dic.items():\n",
    "    print(key, value)\n",
    "\n",
    "# dict_items([('name': '홍길동'), ('age': 25), ('city': '서울')])"
   ]
  },
  {
   "cell_type": "code",
   "execution_count": null,
   "id": "a13459d5-d7b5-42ca-8f5d-eeecd4cc3114",
   "metadata": {},
   "outputs": [],
   "source": []
  },
  {
   "cell_type": "code",
   "execution_count": 44,
   "id": "5246982a-4ab0-4479-b62c-42c25cb93479",
   "metadata": {},
   "outputs": [
    {
     "data": {
      "text/plain": [
       "[{'name': '홍길동', 'age': 25, 'city': '서울'},\n",
       " {'name': '김철수', 'age': 30, 'city': '부산'}]"
      ]
     },
     "execution_count": 44,
     "metadata": {},
     "output_type": "execute_result"
    }
   ],
   "source": [
    "# CSV 파일 불러오기\n",
    "f = open('sample/sample5.json','r', encoding='utf-8')\n",
    "dic = json.load(f)\n",
    "dic"
   ]
  },
  {
   "cell_type": "code",
   "execution_count": 47,
   "id": "6a9f12b5-6667-46cc-b439-f3940c14ac8b",
   "metadata": {},
   "outputs": [
    {
     "name": "stdout",
     "output_type": "stream",
     "text": [
      "RangeIndex(start=0, stop=2, step=1)\n",
      "Index(['name', 'age', 'city'], dtype='object')\n"
     ]
    },
    {
     "data": {
      "text/plain": [
       "name    김철수\n",
       "age      30\n",
       "city     부산\n",
       "Name: 1, dtype: object"
      ]
     },
     "execution_count": 47,
     "metadata": {},
     "output_type": "execute_result"
    }
   ],
   "source": [
    "# 판다스를 사용해서 dataframe 으로 변환\n",
    "df = pd.read_json('sample/sample5.json')\n",
    "df\n",
    "\n",
    "# 데이터 프레임의 행열 이름\n",
    "print(df.index)\n",
    "print(df.columns)\n",
    "\n",
    "df.loc[1]"
   ]
  },
  {
   "cell_type": "code",
   "execution_count": null,
   "id": "0674b5d4-2dba-43f5-a5ba-e5ad6aa3c0d7",
   "metadata": {},
   "outputs": [],
   "source": []
  },
  {
   "cell_type": "code",
   "execution_count": null,
   "id": "4ca7e4f5-4bf9-4797-bf26-ed10b09f2bf1",
   "metadata": {},
   "outputs": [],
   "source": [
    "# 데이터베이스 연결하기"
   ]
  },
  {
   "cell_type": "code",
   "execution_count": 72,
   "id": "4a066d66-5a89-48d0-86b8-d194030c767c",
   "metadata": {},
   "outputs": [],
   "source": [
    "import sqlite3"
   ]
  },
  {
   "cell_type": "code",
   "execution_count": null,
   "id": "2ace863a-5fe6-4e37-992a-18f930e91a8f",
   "metadata": {},
   "outputs": [],
   "source": [
    "# mydata.sqlite 라는 이름으로 데이터베이스 생성 또는 연결\n",
    "con = sqlite3.connect(\"mydata.sqlite\")\n",
    "\n",
    "# 테이블 생성 쿼리\n",
    "# con.execute(\"CREATE TABLE student (id INTEGER, name TEXT, age INTEGER)\")\n",
    "\n",
    "# 데이터 추가\n",
    "# con.execute(\"INSERT INTO student VALUES (1, '홍길동', 25)\")\n",
    "# con.execute(\"INSERT INTO student VALUES (2, '김철수', 30)\")\n",
    "# con.commit()"
   ]
  },
  {
   "cell_type": "code",
   "execution_count": 68,
   "id": "5f4c2c87-7a8b-4c12-a059-00b4988e67c4",
   "metadata": {},
   "outputs": [],
   "source": [
    "# SELECT 실행\n",
    "cur = con.execute(\"SELECT * FROM student\")\n",
    "\n",
    "# 결과 가져오기\n",
    "rows = cur.fetchall()\n",
    "# 튜플이 담긴 리스트\n",
    "rows\n",
    "# 출력\n",
    "for row in rows:\n",
    "    print(row)"
   ]
  },
  {
   "cell_type": "code",
   "execution_count": 76,
   "id": "abdaa904-dcb9-4e3a-adc1-70c1d614a4f4",
   "metadata": {},
   "outputs": [],
   "source": [
    "# SELECT 실행 (특정 id=1 학생만 조회)\n",
    "cur = con.execute(\"SELECT * FROM student WHERE id = 1\")\n",
    "\n",
    "# 단건 가져오기\n",
    "row = cur.fetchone()\n",
    "\n",
    "# 출력\n",
    "row"
   ]
  },
  {
   "cell_type": "code",
   "execution_count": null,
   "id": "2762154e-7029-421a-aed3-b963712df632",
   "metadata": {},
   "outputs": [],
   "source": []
  },
  {
   "cell_type": "code",
   "execution_count": 96,
   "id": "680f4d56-74b5-4d13-93eb-d7384849daf4",
   "metadata": {},
   "outputs": [
    {
     "data": {
      "text/html": [
       "<div>\n",
       "<style scoped>\n",
       "    .dataframe tbody tr th:only-of-type {\n",
       "        vertical-align: middle;\n",
       "    }\n",
       "\n",
       "    .dataframe tbody tr th {\n",
       "        vertical-align: top;\n",
       "    }\n",
       "\n",
       "    .dataframe thead th {\n",
       "        text-align: right;\n",
       "    }\n",
       "</style>\n",
       "<table border=\"1\" class=\"dataframe\">\n",
       "  <thead>\n",
       "    <tr style=\"text-align: right;\">\n",
       "      <th></th>\n",
       "      <th>지점</th>\n",
       "      <th>지점명</th>\n",
       "      <th>일시</th>\n",
       "      <th>기온</th>\n",
       "      <th>습도</th>\n",
       "    </tr>\n",
       "  </thead>\n",
       "  <tbody>\n",
       "    <tr>\n",
       "      <th>0</th>\n",
       "      <td>112</td>\n",
       "      <td>인천</td>\n",
       "      <td>2025-09-14 1:00</td>\n",
       "      <td>22.2</td>\n",
       "      <td>84</td>\n",
       "    </tr>\n",
       "    <tr>\n",
       "      <th>1</th>\n",
       "      <td>112</td>\n",
       "      <td>인천</td>\n",
       "      <td>2025-09-14 2:00</td>\n",
       "      <td>21.8</td>\n",
       "      <td>86</td>\n",
       "    </tr>\n",
       "    <tr>\n",
       "      <th>2</th>\n",
       "      <td>112</td>\n",
       "      <td>인천</td>\n",
       "      <td>2025-09-14 3:00</td>\n",
       "      <td>21.7</td>\n",
       "      <td>87</td>\n",
       "    </tr>\n",
       "    <tr>\n",
       "      <th>3</th>\n",
       "      <td>112</td>\n",
       "      <td>인천</td>\n",
       "      <td>2025-09-14 4:00</td>\n",
       "      <td>21.4</td>\n",
       "      <td>87</td>\n",
       "    </tr>\n",
       "    <tr>\n",
       "      <th>4</th>\n",
       "      <td>112</td>\n",
       "      <td>인천</td>\n",
       "      <td>2025-09-14 5:00</td>\n",
       "      <td>21.2</td>\n",
       "      <td>87</td>\n",
       "    </tr>\n",
       "    <tr>\n",
       "      <th>5</th>\n",
       "      <td>112</td>\n",
       "      <td>인천</td>\n",
       "      <td>2025-09-14 6:00</td>\n",
       "      <td>21.2</td>\n",
       "      <td>87</td>\n",
       "    </tr>\n",
       "    <tr>\n",
       "      <th>6</th>\n",
       "      <td>112</td>\n",
       "      <td>인천</td>\n",
       "      <td>2025-09-14 7:00</td>\n",
       "      <td>21.3</td>\n",
       "      <td>87</td>\n",
       "    </tr>\n",
       "    <tr>\n",
       "      <th>7</th>\n",
       "      <td>112</td>\n",
       "      <td>인천</td>\n",
       "      <td>2025-09-14 8:00</td>\n",
       "      <td>22.3</td>\n",
       "      <td>86</td>\n",
       "    </tr>\n",
       "    <tr>\n",
       "      <th>8</th>\n",
       "      <td>112</td>\n",
       "      <td>인천</td>\n",
       "      <td>2025-09-14 9:00</td>\n",
       "      <td>22.9</td>\n",
       "      <td>85</td>\n",
       "    </tr>\n",
       "    <tr>\n",
       "      <th>9</th>\n",
       "      <td>112</td>\n",
       "      <td>인천</td>\n",
       "      <td>2025-09-14 10:00</td>\n",
       "      <td>23.8</td>\n",
       "      <td>82</td>\n",
       "    </tr>\n",
       "    <tr>\n",
       "      <th>10</th>\n",
       "      <td>112</td>\n",
       "      <td>인천</td>\n",
       "      <td>2025-09-14 11:00</td>\n",
       "      <td>24.6</td>\n",
       "      <td>79</td>\n",
       "    </tr>\n",
       "    <tr>\n",
       "      <th>11</th>\n",
       "      <td>112</td>\n",
       "      <td>인천</td>\n",
       "      <td>2025-09-14 12:00</td>\n",
       "      <td>25.9</td>\n",
       "      <td>71</td>\n",
       "    </tr>\n",
       "    <tr>\n",
       "      <th>12</th>\n",
       "      <td>112</td>\n",
       "      <td>인천</td>\n",
       "      <td>2025-09-14 13:00</td>\n",
       "      <td>26.9</td>\n",
       "      <td>64</td>\n",
       "    </tr>\n",
       "    <tr>\n",
       "      <th>13</th>\n",
       "      <td>112</td>\n",
       "      <td>인천</td>\n",
       "      <td>2025-09-14 14:00</td>\n",
       "      <td>27.4</td>\n",
       "      <td>61</td>\n",
       "    </tr>\n",
       "    <tr>\n",
       "      <th>14</th>\n",
       "      <td>112</td>\n",
       "      <td>인천</td>\n",
       "      <td>2025-09-14 15:00</td>\n",
       "      <td>27.7</td>\n",
       "      <td>65</td>\n",
       "    </tr>\n",
       "    <tr>\n",
       "      <th>15</th>\n",
       "      <td>112</td>\n",
       "      <td>인천</td>\n",
       "      <td>2025-09-14 16:00</td>\n",
       "      <td>27.4</td>\n",
       "      <td>70</td>\n",
       "    </tr>\n",
       "    <tr>\n",
       "      <th>16</th>\n",
       "      <td>112</td>\n",
       "      <td>인천</td>\n",
       "      <td>2025-09-14 17:00</td>\n",
       "      <td>27.0</td>\n",
       "      <td>68</td>\n",
       "    </tr>\n",
       "    <tr>\n",
       "      <th>17</th>\n",
       "      <td>112</td>\n",
       "      <td>인천</td>\n",
       "      <td>2025-09-14 18:00</td>\n",
       "      <td>26.4</td>\n",
       "      <td>70</td>\n",
       "    </tr>\n",
       "    <tr>\n",
       "      <th>18</th>\n",
       "      <td>112</td>\n",
       "      <td>인천</td>\n",
       "      <td>2025-09-14 19:00</td>\n",
       "      <td>25.2</td>\n",
       "      <td>73</td>\n",
       "    </tr>\n",
       "    <tr>\n",
       "      <th>19</th>\n",
       "      <td>112</td>\n",
       "      <td>인천</td>\n",
       "      <td>2025-09-14 20:00</td>\n",
       "      <td>24.7</td>\n",
       "      <td>78</td>\n",
       "    </tr>\n",
       "    <tr>\n",
       "      <th>20</th>\n",
       "      <td>112</td>\n",
       "      <td>인천</td>\n",
       "      <td>2025-09-14 21:00</td>\n",
       "      <td>24.5</td>\n",
       "      <td>82</td>\n",
       "    </tr>\n",
       "    <tr>\n",
       "      <th>21</th>\n",
       "      <td>112</td>\n",
       "      <td>인천</td>\n",
       "      <td>2025-09-14 22:00</td>\n",
       "      <td>24.2</td>\n",
       "      <td>85</td>\n",
       "    </tr>\n",
       "    <tr>\n",
       "      <th>22</th>\n",
       "      <td>112</td>\n",
       "      <td>인천</td>\n",
       "      <td>2025-09-14 23:00</td>\n",
       "      <td>23.9</td>\n",
       "      <td>84</td>\n",
       "    </tr>\n",
       "    <tr>\n",
       "      <th>23</th>\n",
       "      <td>112</td>\n",
       "      <td>인천</td>\n",
       "      <td>2025-09-15 0:00</td>\n",
       "      <td>23.7</td>\n",
       "      <td>84</td>\n",
       "    </tr>\n",
       "  </tbody>\n",
       "</table>\n",
       "</div>"
      ],
      "text/plain": [
       "     지점 지점명                일시    기온  습도\n",
       "0   112  인천   2025-09-14 1:00  22.2  84\n",
       "1   112  인천   2025-09-14 2:00  21.8  86\n",
       "2   112  인천   2025-09-14 3:00  21.7  87\n",
       "3   112  인천   2025-09-14 4:00  21.4  87\n",
       "4   112  인천   2025-09-14 5:00  21.2  87\n",
       "5   112  인천   2025-09-14 6:00  21.2  87\n",
       "6   112  인천   2025-09-14 7:00  21.3  87\n",
       "7   112  인천   2025-09-14 8:00  22.3  86\n",
       "8   112  인천   2025-09-14 9:00  22.9  85\n",
       "9   112  인천  2025-09-14 10:00  23.8  82\n",
       "10  112  인천  2025-09-14 11:00  24.6  79\n",
       "11  112  인천  2025-09-14 12:00  25.9  71\n",
       "12  112  인천  2025-09-14 13:00  26.9  64\n",
       "13  112  인천  2025-09-14 14:00  27.4  61\n",
       "14  112  인천  2025-09-14 15:00  27.7  65\n",
       "15  112  인천  2025-09-14 16:00  27.4  70\n",
       "16  112  인천  2025-09-14 17:00  27.0  68\n",
       "17  112  인천  2025-09-14 18:00  26.4  70\n",
       "18  112  인천  2025-09-14 19:00  25.2  73\n",
       "19  112  인천  2025-09-14 20:00  24.7  78\n",
       "20  112  인천  2025-09-14 21:00  24.5  82\n",
       "21  112  인천  2025-09-14 22:00  24.2  85\n",
       "22  112  인천  2025-09-14 23:00  23.9  84\n",
       "23  112  인천   2025-09-15 0:00  23.7  84"
      ]
     },
     "execution_count": 96,
     "metadata": {},
     "output_type": "execute_result"
    }
   ],
   "source": [
    "# CSV 파일 읽기\n",
    "df = pd.read_csv('sample/OBS_ASOS_TIM_20250916161214.csv', encoding='euc-kr')\n",
    "# df.columns\n",
    "df"
   ]
  },
  {
   "cell_type": "code",
   "execution_count": null,
   "id": "3f04d6e1-edaf-4471-933b-2f3d64e175c9",
   "metadata": {},
   "outputs": [],
   "source": [
    "# 하루 평균 기온과 습도 구하기"
   ]
  },
  {
   "cell_type": "code",
   "execution_count": 92,
   "id": "fbf4d568-3640-4b68-b35d-7da3bb9b339b",
   "metadata": {},
   "outputs": [
    {
     "name": "stdout",
     "output_type": "stream",
     "text": [
      "9/14 평균 기온: 24(℃)\n",
      "9/14 평균 습도: 78(%)\n"
     ]
    }
   ],
   "source": [
    "# 기온\n",
    "avg1 = int(df['기온'].mean())\n",
    "avg2 = int(df['습도'].mean())\n",
    "print(f'9/14 평균 기온: {avg1}(℃)')\n",
    "print(f'9/14 평균 습도: {avg2}(%)')"
   ]
  },
  {
   "cell_type": "code",
   "execution_count": null,
   "id": "e686dd78-4763-4693-8749-aae4dca058bc",
   "metadata": {},
   "outputs": [],
   "source": [
    "# 하루중에 제일 더웠던 시간은?"
   ]
  },
  {
   "cell_type": "code",
   "execution_count": 105,
   "id": "326c5f93-8042-4212-a287-6eee6ce57bcf",
   "metadata": {},
   "outputs": [
    {
     "data": {
      "text/plain": [
       "'2025-09-14 15:00'"
      ]
     },
     "execution_count": 105,
     "metadata": {},
     "output_type": "execute_result"
    }
   ],
   "source": [
    "# idxmax: 가장 큰값이 포함되어 있는 행의 위치\n",
    "i = df['기온'].idxmax()\n",
    "df.loc[i, '일시']"
   ]
  },
  {
   "cell_type": "code",
   "execution_count": null,
   "id": "d3b16e15-4cd1-46bf-95ed-74791d8a33d6",
   "metadata": {},
   "outputs": [],
   "source": []
  },
  {
   "cell_type": "code",
   "execution_count": null,
   "id": "7bbf660f-d7aa-418d-9b2e-9a4dadcc2683",
   "metadata": {},
   "outputs": [],
   "source": []
  },
  {
   "cell_type": "code",
   "execution_count": null,
   "id": "5f2351a9-9135-473f-959c-cb44213cecb1",
   "metadata": {},
   "outputs": [],
   "source": []
  },
  {
   "cell_type": "code",
   "execution_count": null,
   "id": "a7549349-4c28-4f40-aeef-8407c0b4ee07",
   "metadata": {},
   "outputs": [],
   "source": []
  }
 ],
 "metadata": {
  "kernelspec": {
   "display_name": "Python 3 (ipykernel)",
   "language": "python",
   "name": "python3"
  },
  "language_info": {
   "codemirror_mode": {
    "name": "ipython",
    "version": 3
   },
   "file_extension": ".py",
   "mimetype": "text/x-python",
   "name": "python",
   "nbconvert_exporter": "python",
   "pygments_lexer": "ipython3",
   "version": "3.10.18"
  }
 },
 "nbformat": 4,
 "nbformat_minor": 5
}
