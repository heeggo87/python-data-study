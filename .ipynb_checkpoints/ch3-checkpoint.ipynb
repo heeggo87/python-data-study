{
 "cells": [
  {
   "cell_type": "code",
   "execution_count": 1,
   "id": "8f2c2570-d68a-4fa8-b254-f2fe14e1f666",
   "metadata": {},
   "outputs": [],
   "source": [
    "import numpy as np"
   ]
  },
  {
   "cell_type": "code",
   "execution_count": null,
   "id": "d4fdfa11-6672-4e90-8ae2-f6784a76deba",
   "metadata": {},
   "outputs": [],
   "source": [
    "# 2차원 배열의 인덱싱"
   ]
  },
  {
   "cell_type": "code",
   "execution_count": 58,
   "id": "408391a9-c733-4013-877b-148e0026b473",
   "metadata": {},
   "outputs": [
    {
     "name": "stdout",
     "output_type": "stream",
     "text": [
      "[[1 2 3]\n",
      " [4 5 6]\n",
      " [7 8 9]]\n"
     ]
    }
   ],
   "source": [
    "# 3행 3열 2차원 배열 생성\n",
    "arr = np.array([[1,2,3], [4,5,6], [7,8,9]])\n",
    "print(arr)"
   ]
  },
  {
   "cell_type": "code",
   "execution_count": null,
   "id": "ac17e7d1-14dc-406c-86be-cbb84eca3696",
   "metadata": {},
   "outputs": [],
   "source": []
  },
  {
   "cell_type": "code",
   "execution_count": 59,
   "id": "646ff9e4-be35-407d-9755-38caa41960e9",
   "metadata": {},
   "outputs": [
    {
     "data": {
      "text/plain": [
       "array([7, 8, 9])"
      ]
     },
     "execution_count": 59,
     "metadata": {},
     "output_type": "execute_result"
    }
   ],
   "source": [
    "# 2차원 배열의 인덱스\n",
    "# 행(인덱스)\n",
    "# 열(컬럼)\n",
    "arr[2]"
   ]
  },
  {
   "cell_type": "code",
   "execution_count": null,
   "id": "54f21e2e-d05a-43f8-8090-0c66893a750f",
   "metadata": {},
   "outputs": [],
   "source": []
  },
  {
   "cell_type": "code",
   "execution_count": 60,
   "id": "bde645e8-9204-4de2-9889-557f49ff490d",
   "metadata": {},
   "outputs": [
    {
     "data": {
      "text/plain": [
       "array([[1, 2, 3],\n",
       "       [4, 0, 6],\n",
       "       [7, 8, 9]])"
      ]
     },
     "execution_count": 60,
     "metadata": {},
     "output_type": "execute_result"
    }
   ],
   "source": [
    "arr[1][1] = 0\n",
    "arr"
   ]
  },
  {
   "cell_type": "code",
   "execution_count": null,
   "id": "41bdabf1-1705-4147-900b-7fbd8e1bac03",
   "metadata": {},
   "outputs": [],
   "source": []
  },
  {
   "cell_type": "code",
   "execution_count": null,
   "id": "023cbad9-5ae0-4d1e-b604-8aedfbd3b103",
   "metadata": {},
   "outputs": [],
   "source": [
    "# 2차원 배열 슬라이스"
   ]
  },
  {
   "cell_type": "code",
   "execution_count": 61,
   "id": "f2ced27d-11b1-47f0-9818-5dffa9ae120b",
   "metadata": {},
   "outputs": [
    {
     "data": {
      "text/plain": [
       "array([[1, 2, 3],\n",
       "       [4, 5, 6],\n",
       "       [7, 8, 9]])"
      ]
     },
     "execution_count": 61,
     "metadata": {},
     "output_type": "execute_result"
    }
   ],
   "source": [
    "arr = np.array([[1,2,3], [4,5,6], [7,8,9]])\n",
    "arr"
   ]
  },
  {
   "cell_type": "code",
   "execution_count": null,
   "id": "14aefeed-166d-4be0-a29a-b344858cc2d1",
   "metadata": {},
   "outputs": [],
   "source": []
  },
  {
   "cell_type": "code",
   "execution_count": 19,
   "id": "17ec0c64-28dd-4755-bd71-24ccaaf48889",
   "metadata": {},
   "outputs": [
    {
     "data": {
      "text/plain": [
       "array([4, 5])"
      ]
     },
     "execution_count": 19,
     "metadata": {},
     "output_type": "execute_result"
    }
   ],
   "source": [
    "# 행: 1번\n",
    "# 열: 0번 1번\n",
    "arr[1, 0:2]"
   ]
  },
  {
   "cell_type": "code",
   "execution_count": null,
   "id": "e7ead237-54cb-477a-94e0-b0426f9cbd3d",
   "metadata": {},
   "outputs": [],
   "source": []
  },
  {
   "cell_type": "code",
   "execution_count": 65,
   "id": "79c363c2-8ec9-41cb-ae65-c2baf6869696",
   "metadata": {},
   "outputs": [],
   "source": [
    "students = np.array(['철수','영희','민수','철수','철수'])\n",
    "\n",
    "books = np.array([['수학의 정석', 7], ['해리포터', 10], ['파이썬 입문', 5], ['한국사', 5], ['데미안', 12]])"
   ]
  },
  {
   "cell_type": "code",
   "execution_count": 66,
   "id": "a34d67d8-d353-4ca4-9651-e1941c955890",
   "metadata": {},
   "outputs": [
    {
     "data": {
      "text/plain": [
       "array([ True, False, False,  True,  True])"
      ]
     },
     "execution_count": 66,
     "metadata": {},
     "output_type": "execute_result"
    }
   ],
   "source": [
    "arr = (students == '철수')\n",
    "arr"
   ]
  },
  {
   "cell_type": "code",
   "execution_count": 67,
   "id": "3187461f-4a52-4b09-9c80-e7c93beb0e50",
   "metadata": {},
   "outputs": [
    {
     "data": {
      "text/plain": [
       "array([['수학의 정석', '7'],\n",
       "       ['한국사', '5'],\n",
       "       ['데미안', '12']], dtype='<U21')"
      ]
     },
     "execution_count": 67,
     "metadata": {},
     "output_type": "execute_result"
    }
   ],
   "source": [
    "books[students == '철수']"
   ]
  },
  {
   "cell_type": "code",
   "execution_count": null,
   "id": "d21b222a-866d-47d5-8f0d-95a7e06e3640",
   "metadata": {},
   "outputs": [],
   "source": []
  },
  {
   "cell_type": "code",
   "execution_count": 68,
   "id": "659fa0c8-494a-411e-8bee-06c253da1679",
   "metadata": {},
   "outputs": [
    {
     "name": "stdout",
     "output_type": "stream",
     "text": [
      "[False  True  True False False]\n"
     ]
    },
    {
     "data": {
      "text/plain": [
       "array([['해리포터', '10'],\n",
       "       ['파이썬 입문', '5']], dtype='<U21')"
      ]
     },
     "execution_count": 68,
     "metadata": {},
     "output_type": "execute_result"
    }
   ],
   "source": [
    "print(students != '철수')\n",
    "\n",
    "books[ students != '철수' ]\n"
   ]
  },
  {
   "cell_type": "code",
   "execution_count": null,
   "id": "2bc2762f-65a9-42c4-bd1f-a8a4093d4610",
   "metadata": {},
   "outputs": [],
   "source": []
  },
  {
   "cell_type": "code",
   "execution_count": null,
   "id": "57eeb575-780d-4c32-accd-983e45addf9c",
   "metadata": {},
   "outputs": [],
   "source": []
  },
  {
   "cell_type": "code",
   "execution_count": 72,
   "id": "b1500a77-6830-438d-acca-d9404d76993e",
   "metadata": {},
   "outputs": [
    {
     "data": {
      "text/plain": [
       "array([['자바의 정석', '7'],\n",
       "       ['해리포터', '10'],\n",
       "       ['파이썬 입문', '5'],\n",
       "       ['한국사', '5'],\n",
       "       ['데미안', '12']], dtype='<U21')"
      ]
     },
     "execution_count": 72,
     "metadata": {},
     "output_type": "execute_result"
    }
   ],
   "source": [
    "books == '수학의 정석'\n",
    "\n",
    "books[books == '수학의 정석'] = '자바의 정석'\n",
    "books"
   ]
  },
  {
   "cell_type": "code",
   "execution_count": 74,
   "id": "2b624ac4-62ea-484c-a91d-b196adfcc1a1",
   "metadata": {},
   "outputs": [
    {
     "data": {
      "text/plain": [
       "array([False,  True,  True, False, False])"
      ]
     },
     "execution_count": 74,
     "metadata": {},
     "output_type": "execute_result"
    }
   ],
   "source": [
    "students != '철수'"
   ]
  },
  {
   "cell_type": "code",
   "execution_count": 76,
   "id": "54508926-4fa1-441a-9e94-640ac8dcf088",
   "metadata": {},
   "outputs": [
    {
     "data": {
      "text/plain": [
       "array([['자바의 정석', '7'],\n",
       "       ['7', '7'],\n",
       "       ['7', '7'],\n",
       "       ['한국사', '5'],\n",
       "       ['데미안', '12']], dtype='<U21')"
      ]
     },
     "execution_count": 76,
     "metadata": {},
     "output_type": "execute_result"
    }
   ],
   "source": [
    "books[students != '철수'] = 7\n",
    "books"
   ]
  },
  {
   "cell_type": "code",
   "execution_count": null,
   "id": "4b470f8c-7a56-4f4d-89d0-72a59b6f7847",
   "metadata": {},
   "outputs": [],
   "source": []
  },
  {
   "cell_type": "code",
   "execution_count": null,
   "id": "2fa3feec-9b0b-4a2f-b123-2642eaf4be71",
   "metadata": {},
   "outputs": [],
   "source": []
  },
  {
   "cell_type": "code",
   "execution_count": 79,
   "id": "05871430-75e2-4c64-a037-8ca4a31297f2",
   "metadata": {},
   "outputs": [
    {
     "name": "stdout",
     "output_type": "stream",
     "text": [
      "[1 2 3 4 5 6 7 8 9]\n"
     ]
    },
    {
     "data": {
      "text/plain": [
       "array([[1, 2, 3],\n",
       "       [4, 5, 6],\n",
       "       [7, 8, 9]])"
      ]
     },
     "execution_count": 79,
     "metadata": {},
     "output_type": "execute_result"
    }
   ],
   "source": [
    "print(np.arange(1,10))\n",
    "arr = np.arange(1,10).reshape(3,3)\n",
    "arr"
   ]
  },
  {
   "cell_type": "code",
   "execution_count": null,
   "id": "099709ed-9946-406a-a150-e2a14311f510",
   "metadata": {},
   "outputs": [],
   "source": []
  },
  {
   "cell_type": "code",
   "execution_count": 82,
   "id": "e005a7b6-fd90-4615-8dae-0fd607dc1c58",
   "metadata": {},
   "outputs": [
    {
     "name": "stdout",
     "output_type": "stream",
     "text": [
      "[ 1  2  3  4  5  6  7  8  9 10 11 12 13 14 15 16]\n"
     ]
    },
    {
     "data": {
      "text/plain": [
       "array([[ 1,  2,  3,  4],\n",
       "       [ 5,  6,  7,  8],\n",
       "       [ 9, 10, 11, 12],\n",
       "       [13, 14, 15, 16]])"
      ]
     },
     "execution_count": 82,
     "metadata": {},
     "output_type": "execute_result"
    }
   ],
   "source": [
    "print(np.arange(1,17))\n",
    "a = np.arange(1,17).reshape(4,4)\n",
    "a"
   ]
  },
  {
   "cell_type": "code",
   "execution_count": null,
   "id": "19a6839e-558e-4eef-89f9-562b4600c9d7",
   "metadata": {},
   "outputs": [],
   "source": []
  },
  {
   "cell_type": "code",
   "execution_count": null,
   "id": "d9c4dbb9-eda3-4d40-8e5b-ba60135cc4bb",
   "metadata": {},
   "outputs": [],
   "source": []
  },
  {
   "cell_type": "code",
   "execution_count": 85,
   "id": "15a96784-8cca-4dfb-8e79-34444377996f",
   "metadata": {},
   "outputs": [
    {
     "name": "stdout",
     "output_type": "stream",
     "text": [
      "[ 1  2  3  4  5  6  7  8  9 10 11 12]\n"
     ]
    },
    {
     "data": {
      "text/plain": [
       "array([[ 1,  2,  3,  4],\n",
       "       [ 5,  6,  7,  8],\n",
       "       [ 9, 10, 11, 12]])"
      ]
     },
     "execution_count": 85,
     "metadata": {},
     "output_type": "execute_result"
    }
   ],
   "source": [
    "print(np.arange(1,17))\n",
    "a = np.arange(1,17).reshape(4,4)\n",
    "a"
   ]
  },
  {
   "cell_type": "code",
   "execution_count": null,
   "id": "1eb83be7-b233-4899-9b90-4c0803fb4245",
   "metadata": {},
   "outputs": [],
   "source": []
  },
  {
   "cell_type": "code",
   "execution_count": 98,
   "id": "25c42861-8d41-4f7e-8e68-c768c07d8474",
   "metadata": {},
   "outputs": [
    {
     "name": "stdout",
     "output_type": "stream",
     "text": [
      "[10 11 12 13 14 15 16 17 18 19 20 21 22 23 24 25]\n"
     ]
    },
    {
     "data": {
      "text/plain": [
       "array([[10, 11, 12, 13],\n",
       "       [14, 15, 16, 17],\n",
       "       [18, 19, 20, 21],\n",
       "       [22, 23, 24, 25]])"
      ]
     },
     "execution_count": 98,
     "metadata": {},
     "output_type": "execute_result"
    }
   ],
   "source": [
    "print(np.arange(10,26))\n",
    "a = np.arange(10,26).reshape(4,4)\n",
    "a"
   ]
  },
  {
   "cell_type": "code",
   "execution_count": null,
   "id": "50c0dbc4-d3ea-483d-bc1a-4149740f14a2",
   "metadata": {},
   "outputs": [],
   "source": []
  },
  {
   "cell_type": "code",
   "execution_count": 100,
   "id": "8b5256c1-3402-4465-88d5-3b113ed18a9c",
   "metadata": {},
   "outputs": [
    {
     "data": {
      "text/plain": [
       "array([ 0.47442314,  0.18655855, -0.17335258, -0.56897107,  1.60466942,\n",
       "        1.25706996, -0.3961545 ,  0.03773171,  0.00272204, -0.66572936])"
      ]
     },
     "execution_count": 100,
     "metadata": {},
     "output_type": "execute_result"
    }
   ],
   "source": [
    "# 랜덤값 10개 생성\n",
    "arr = np.random.standard_normal(size=10)\n",
    "arr"
   ]
  },
  {
   "cell_type": "code",
   "execution_count": null,
   "id": "165941a9-6df8-478a-9241-16c4724cb828",
   "metadata": {},
   "outputs": [],
   "source": []
  },
  {
   "cell_type": "code",
   "execution_count": 101,
   "id": "d2e07654-ed0b-4967-bd63-dbf95875c0c3",
   "metadata": {},
   "outputs": [
    {
     "data": {
      "text/plain": [
       "array([0.51986542, 0.52218862, 0.67526565, 0.70323728, 0.2131744 ,\n",
       "       0.98418257, 0.29114614, 0.17954918, 0.01443452, 0.7573571 ])"
      ]
     },
     "execution_count": 101,
     "metadata": {},
     "output_type": "execute_result"
    }
   ],
   "source": [
    "arr = np.random.uniform(size=10)\n",
    "arr"
   ]
  },
  {
   "cell_type": "code",
   "execution_count": null,
   "id": "6b62f34d-294b-47c7-86d9-9665177b7ee7",
   "metadata": {},
   "outputs": [],
   "source": []
  },
  {
   "cell_type": "code",
   "execution_count": null,
   "id": "dba37ee2-38c3-427f-8c4b-4f1334f24c43",
   "metadata": {},
   "outputs": [],
   "source": []
  },
  {
   "cell_type": "code",
   "execution_count": 102,
   "id": "e7802438-bbd4-44e3-930d-50041e7f58e6",
   "metadata": {},
   "outputs": [
    {
     "data": {
      "text/plain": [
       "array([0, 1, 2, 3, 4, 5, 6, 7, 8, 9])"
      ]
     },
     "execution_count": 102,
     "metadata": {},
     "output_type": "execute_result"
    }
   ],
   "source": [
    "arr = np.arange(10)\n",
    "arr"
   ]
  },
  {
   "cell_type": "code",
   "execution_count": null,
   "id": "23fcaca1-8053-4c7f-86d6-f0c4cae050cc",
   "metadata": {},
   "outputs": [],
   "source": []
  },
  {
   "cell_type": "code",
   "execution_count": 104,
   "id": "6c0c8d34-f3f7-4eac-b229-7d2a1dab5e33",
   "metadata": {},
   "outputs": [
    {
     "data": {
      "text/plain": [
       "array([ 3,  4,  5,  6,  7,  8,  9, 10, 11, 12])"
      ]
     },
     "execution_count": 104,
     "metadata": {},
     "output_type": "execute_result"
    }
   ],
   "source": [
    "np.add(arr,3)"
   ]
  },
  {
   "cell_type": "code",
   "execution_count": 107,
   "id": "1aaa5901-7934-45a4-904f-0e972a7c552a",
   "metadata": {},
   "outputs": [
    {
     "data": {
      "text/plain": [
       "array([ 3,  7,  5,  6, 10])"
      ]
     },
     "execution_count": 107,
     "metadata": {},
     "output_type": "execute_result"
    }
   ],
   "source": [
    "a = np.array([1,7,2,4,10])\n",
    "b = np.array([3,4,5,6,7])\n",
    "\n",
    "np.maximum(a,b)"
   ]
  },
  {
   "cell_type": "code",
   "execution_count": null,
   "id": "ba20d1b5-210b-49b6-85f4-da3b415aecae",
   "metadata": {},
   "outputs": [],
   "source": []
  },
  {
   "cell_type": "code",
   "execution_count": null,
   "id": "3da0332e-5875-4832-b1a6-fddc9b5ea457",
   "metadata": {},
   "outputs": [],
   "source": []
  },
  {
   "cell_type": "code",
   "execution_count": 110,
   "id": "f19dabcb-2974-4d46-817a-551369a2a1db",
   "metadata": {},
   "outputs": [],
   "source": [
    "a = np.array([1,2,3])\n",
    "b = np.array([10,20,30])\n",
    "\n",
    "cond = np.array([True, True, False])"
   ]
  },
  {
   "cell_type": "code",
   "execution_count": 111,
   "id": "62492bc3-e8c3-4c32-ad35-d7101d98a9bc",
   "metadata": {},
   "outputs": [
    {
     "data": {
      "text/plain": [
       "array([ 1,  2, 30])"
      ]
     },
     "execution_count": 111,
     "metadata": {},
     "output_type": "execute_result"
    }
   ],
   "source": [
    "result = np.where(cond, a, b)\n",
    "result"
   ]
  },
  {
   "cell_type": "code",
   "execution_count": null,
   "id": "dd657d6a-4710-4601-be4c-3565c0ae64b9",
   "metadata": {},
   "outputs": [],
   "source": []
  },
  {
   "cell_type": "code",
   "execution_count": 113,
   "id": "95c0ddac-c382-4e8c-a86b-f143b1e219a5",
   "metadata": {},
   "outputs": [
    {
     "data": {
      "text/plain": [
       "array(['x', 'x', 'x', '0', '0'], dtype='<U1')"
      ]
     },
     "execution_count": 113,
     "metadata": {},
     "output_type": "execute_result"
    }
   ],
   "source": [
    "arr = np.array([-2, -1, 0, 1, 2])\n",
    "\n",
    "np.where(arr > 0, '0', 'x')"
   ]
  },
  {
   "cell_type": "code",
   "execution_count": null,
   "id": "49003fb3-4cc8-4600-b121-5d6e183057b4",
   "metadata": {},
   "outputs": [],
   "source": []
  },
  {
   "cell_type": "code",
   "execution_count": null,
   "id": "0a62345f-10e1-4a7e-9faa-06d1fa948d73",
   "metadata": {},
   "outputs": [],
   "source": []
  },
  {
   "cell_type": "code",
   "execution_count": 9,
   "id": "56671be8-ebfd-4c95-b589-1fb655be4919",
   "metadata": {},
   "outputs": [
    {
     "name": "stdout",
     "output_type": "stream",
     "text": [
      "15\n",
      "3.0\n",
      "5\n",
      "1\n"
     ]
    }
   ],
   "source": [
    "arr = np.array([1,2,3,4,5])\n",
    "print(np.sum(arr)) \n",
    "\n",
    "# 평균\n",
    "print(np.mean(arr))\n",
    "\n",
    "print(np.max(arr))\n",
    "\n",
    "print(np.min(arr))"
   ]
  },
  {
   "cell_type": "code",
   "execution_count": null,
   "id": "f9f0c83a-4f1e-4d14-9c4e-732a18660a53",
   "metadata": {},
   "outputs": [],
   "source": []
  },
  {
   "cell_type": "code",
   "execution_count": null,
   "id": "58c2ea8a-595c-49c2-afa2-038cd19b68de",
   "metadata": {},
   "outputs": [],
   "source": []
  },
  {
   "cell_type": "code",
   "execution_count": 16,
   "id": "5e730842-28b0-4590-a71b-a2b3a608b149",
   "metadata": {},
   "outputs": [
    {
     "name": "stdout",
     "output_type": "stream",
     "text": [
      "[[1 2 3]\n",
      " [4 5 6]\n",
      " [7 8 9]]\n"
     ]
    },
    {
     "data": {
      "text/plain": [
       "array([ 6, 15, 24])"
      ]
     },
     "execution_count": 16,
     "metadata": {},
     "output_type": "execute_result"
    }
   ],
   "source": [
    "arr = np.arange(1,10).reshape(3,3)\n",
    "print(arr)\n",
    "\n",
    "arr.sum()\n",
    "\n",
    "arr.sum(axis=0)\n",
    "\n",
    "# 가로방향 으로 계산\n",
    "arr.sum(axis=1)  "
   ]
  },
  {
   "cell_type": "code",
   "execution_count": 17,
   "id": "505356e9-eddb-4684-9646-567002229165",
   "metadata": {},
   "outputs": [
    {
     "data": {
      "text/plain": [
       "array([1, 2, 3, 4, 5])"
      ]
     },
     "execution_count": 17,
     "metadata": {},
     "output_type": "execute_result"
    }
   ],
   "source": [
    "arr = np.array([1,2,3,4,5])\n",
    "arr.cumsum"
   ]
  },
  {
   "cell_type": "code",
   "execution_count": null,
   "id": "73bcc820-896b-49a8-8872-2acee55192ae",
   "metadata": {},
   "outputs": [],
   "source": []
  },
  {
   "cell_type": "code",
   "execution_count": 5,
   "id": "fa536fc3-4a12-476b-b5c5-a4d7492e3e9b",
   "metadata": {},
   "outputs": [
    {
     "name": "stdout",
     "output_type": "stream",
     "text": [
      "[[0 1 2]\n",
      " [3 4 5]\n",
      " [6 7 8]]\n",
      "[[ 0  1  3]\n",
      " [ 3  7 12]\n",
      " [ 6 13 21]]\n"
     ]
    }
   ],
   "source": [
    "arr = np.array([[0,1,2], [3,4,5], [6,7,8]])\n",
    "print(arr)\n",
    "\n",
    "# 앞에 있는 숫자를 더함\n",
    "print(arr.cumsum(axis=1))"
   ]
  },
  {
   "cell_type": "code",
   "execution_count": null,
   "id": "a974c221-70ed-4861-86b3-238fc923a0d5",
   "metadata": {},
   "outputs": [],
   "source": []
  },
  {
   "cell_type": "code",
   "execution_count": null,
   "id": "77a6fc0a-43be-466e-acdc-11b202e0c82f",
   "metadata": {},
   "outputs": [],
   "source": []
  },
  {
   "cell_type": "code",
   "execution_count": null,
   "id": "15f8ddf1-28b9-4a0d-a147-b3423ac43ac1",
   "metadata": {},
   "outputs": [],
   "source": []
  },
  {
   "cell_type": "code",
   "execution_count": null,
   "id": "4d0304c3-ebb7-40c1-a361-368e7c5a14c5",
   "metadata": {},
   "outputs": [],
   "source": []
  },
  {
   "cell_type": "code",
   "execution_count": null,
   "id": "8ff625e9-f489-4b7f-ba34-16db02055537",
   "metadata": {},
   "outputs": [],
   "source": []
  },
  {
   "cell_type": "code",
   "execution_count": null,
   "id": "695fcdc0-6341-49b9-b68f-dcf005db5ca4",
   "metadata": {},
   "outputs": [],
   "source": []
  },
  {
   "cell_type": "code",
   "execution_count": null,
   "id": "fd92872a-659c-445b-852b-4c6533b7a340",
   "metadata": {},
   "outputs": [],
   "source": []
  },
  {
   "cell_type": "code",
   "execution_count": null,
   "id": "b39445a0-33a2-4bd6-8c7f-d498e1b0c0b1",
   "metadata": {},
   "outputs": [],
   "source": []
  },
  {
   "cell_type": "code",
   "execution_count": null,
   "id": "b8de8157-4e11-4b0b-a2b0-1e14025e4e4c",
   "metadata": {},
   "outputs": [],
   "source": []
  }
 ],
 "metadata": {
  "kernelspec": {
   "display_name": "Python 3 (ipykernel)",
   "language": "python",
   "name": "python3"
  },
  "language_info": {
   "codemirror_mode": {
    "name": "ipython",
    "version": 3
   },
   "file_extension": ".py",
   "mimetype": "text/x-python",
   "name": "python",
   "nbconvert_exporter": "python",
   "pygments_lexer": "ipython3",
   "version": "3.10.18"
  }
 },
 "nbformat": 4,
 "nbformat_minor": 5
}
