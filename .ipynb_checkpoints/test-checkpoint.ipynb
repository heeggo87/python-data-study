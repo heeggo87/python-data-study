{
 "cells": [
  {
   "cell_type": "markdown",
   "id": "e2e01bf4-19b7-4c95-acf3-a1b807dfa1b0",
   "metadata": {},
   "source": [
    "마크다운이란? html 과 비슷하게 텍스트를 작성하는 언어\n",
    "# *기호로 제목이나 목록을 작성할 수 있다"
   ]
  },
  {
   "cell_type": "code",
   "execution_count": 5,
   "id": "31c719e3-46d8-4673-8165-475851ba4d9e",
   "metadata": {},
   "outputs": [
    {
     "data": {
      "text/plain": [
       "5"
      ]
     },
     "execution_count": 5,
     "metadata": {},
     "output_type": "execute_result"
    }
   ],
   "source": [
    "# 실행: shift + enter\n",
    "a = 5\n",
    "a"
   ]
  },
  {
   "cell_type": "code",
   "execution_count": 3,
   "id": "64251dd0-7e94-486f-8837-d39707c96e1e",
   "metadata": {},
   "outputs": [],
   "source": [
    "var1 = 10\n",
    "var2 = 20"
   ]
  },
  {
   "cell_type": "code",
   "execution_count": 7,
   "id": "44011af2-1099-440d-8532-be3ae4fa929b",
   "metadata": {},
   "outputs": [
    {
     "data": {
      "text/plain": [
       "10"
      ]
     },
     "execution_count": 7,
     "metadata": {},
     "output_type": "execute_result"
    }
   ],
   "source": [
    "var1"
   ]
  },
  {
   "cell_type": "code",
   "execution_count": null,
   "id": "d4e1b571-400b-4ec4-947f-e0d4e0564a76",
   "metadata": {},
   "outputs": [],
   "source": []
  }
 ],
 "metadata": {
  "kernelspec": {
   "display_name": "Python 3 (ipykernel)",
   "language": "python",
   "name": "python3"
  },
  "language_info": {
   "codemirror_mode": {
    "name": "ipython",
    "version": 3
   },
   "file_extension": ".py",
   "mimetype": "text/x-python",
   "name": "python",
   "nbconvert_exporter": "python",
   "pygments_lexer": "ipython3",
   "version": "3.10.18"
  }
 },
 "nbformat": 4,
 "nbformat_minor": 5
}
