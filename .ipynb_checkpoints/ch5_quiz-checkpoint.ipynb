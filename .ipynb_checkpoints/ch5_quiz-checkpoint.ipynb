{
 "cells": [
  {
   "cell_type": "code",
   "execution_count": 1,
   "id": "3c75b293-d1bc-4bbc-8c17-e40ab89dc682",
   "metadata": {},
   "outputs": [],
   "source": [
    "import numpy as np\n",
    "import pandas as pd"
   ]
  },
  {
   "cell_type": "code",
   "execution_count": 2,
   "id": "493181f6-9731-402a-848a-baad99e35d39",
   "metadata": {},
   "outputs": [
    {
     "data": {
      "text/html": [
       "<div>\n",
       "<style scoped>\n",
       "    .dataframe tbody tr th:only-of-type {\n",
       "        vertical-align: middle;\n",
       "    }\n",
       "\n",
       "    .dataframe tbody tr th {\n",
       "        vertical-align: top;\n",
       "    }\n",
       "\n",
       "    .dataframe thead th {\n",
       "        text-align: right;\n",
       "    }\n",
       "</style>\n",
       "<table border=\"1\" class=\"dataframe\">\n",
       "  <thead>\n",
       "    <tr style=\"text-align: right;\">\n",
       "      <th></th>\n",
       "      <th>가격</th>\n",
       "      <th>재고</th>\n",
       "    </tr>\n",
       "    <tr>\n",
       "      <th>상품명</th>\n",
       "      <th></th>\n",
       "      <th></th>\n",
       "    </tr>\n",
       "  </thead>\n",
       "  <tbody>\n",
       "    <tr>\n",
       "      <th>사과</th>\n",
       "      <td>3000</td>\n",
       "      <td>10</td>\n",
       "    </tr>\n",
       "    <tr>\n",
       "      <th>바나나</th>\n",
       "      <td>2000</td>\n",
       "      <td>20</td>\n",
       "    </tr>\n",
       "    <tr>\n",
       "      <th>포도</th>\n",
       "      <td>4500</td>\n",
       "      <td>15</td>\n",
       "    </tr>\n",
       "    <tr>\n",
       "      <th>딸기</th>\n",
       "      <td>5000</td>\n",
       "      <td>10</td>\n",
       "    </tr>\n",
       "  </tbody>\n",
       "</table>\n",
       "</div>"
      ],
      "text/plain": [
       "       가격  재고\n",
       "상품명          \n",
       "사과   3000  10\n",
       "바나나  2000  20\n",
       "포도   4500  15\n",
       "딸기   5000  10"
      ]
     },
     "execution_count": 2,
     "metadata": {},
     "output_type": "execute_result"
    }
   ],
   "source": [
    "# products.csv 파일을 불러오세요.\n",
    "df = pd.read_csv('quiz/products.csv')\n",
    "# print(df)\n",
    "\n",
    "# 상품명을 인덱스로 설정하세요.\n",
    "df = df.set_index('상품명')\n",
    "\n",
    "# 모든 상품명을 출력하세요.\n",
    "df.index\n",
    "\n",
    "# 첫 번째 상품(사과)의 가격을 출력하세요.\n",
    "df.loc['사과','가격']\n",
    "\n",
    "# 바나나의 재고를 출력하세요.\n",
    "df.loc['바나나','재고']\n",
    "\n",
    "# 포도의 가격을 4500으로 수정하세요.\n",
    "df.loc['포도','가격'] = 4500\n",
    "df\n",
    "\n",
    "# 딸기의 재고를 10으로 수정하세요.\n",
    "df.loc['딸기','재고'] = 10\n",
    "df"
   ]
  },
  {
   "cell_type": "code",
   "execution_count": null,
   "id": "222934af-43ac-4dc7-81e5-9c1833d3c5ed",
   "metadata": {},
   "outputs": [],
   "source": []
  },
  {
   "cell_type": "code",
   "execution_count": null,
   "id": "11e3366c-3734-4f1b-88db-9ea0a9a00a16",
   "metadata": {},
   "outputs": [],
   "source": []
  },
  {
   "cell_type": "code",
   "execution_count": 3,
   "id": "0c5494f5-ee25-4eda-a4c9-170f6a634037",
   "metadata": {},
   "outputs": [
    {
     "name": "stdout",
     "output_type": "stream",
     "text": [
      "RangeIndex(start=0, stop=4, step=1)\n",
      "Index(['month', 'sales', 'profit'], dtype='object')\n",
      "1400\n",
      "350.0\n"
     ]
    },
    {
     "data": {
      "text/html": [
       "<div>\n",
       "<style scoped>\n",
       "    .dataframe tbody tr th:only-of-type {\n",
       "        vertical-align: middle;\n",
       "    }\n",
       "\n",
       "    .dataframe tbody tr th {\n",
       "        vertical-align: top;\n",
       "    }\n",
       "\n",
       "    .dataframe thead th {\n",
       "        text-align: right;\n",
       "    }\n",
       "</style>\n",
       "<table border=\"1\" class=\"dataframe\">\n",
       "  <thead>\n",
       "    <tr style=\"text-align: right;\">\n",
       "      <th></th>\n",
       "      <th>sales</th>\n",
       "      <th>profit</th>\n",
       "    </tr>\n",
       "    <tr>\n",
       "      <th>month</th>\n",
       "      <th></th>\n",
       "      <th></th>\n",
       "    </tr>\n",
       "  </thead>\n",
       "  <tbody>\n",
       "    <tr>\n",
       "      <th>2월</th>\n",
       "      <td>1500</td>\n",
       "      <td>300</td>\n",
       "    </tr>\n",
       "    <tr>\n",
       "      <th>3월</th>\n",
       "      <td>2000</td>\n",
       "      <td>400</td>\n",
       "    </tr>\n",
       "    <tr>\n",
       "      <th>4월</th>\n",
       "      <td>2500</td>\n",
       "      <td>500</td>\n",
       "    </tr>\n",
       "  </tbody>\n",
       "</table>\n",
       "</div>"
      ],
      "text/plain": [
       "       sales  profit\n",
       "month               \n",
       "2월      1500     300\n",
       "3월      2000     400\n",
       "4월      2500     500"
      ]
     },
     "execution_count": 3,
     "metadata": {},
     "output_type": "execute_result"
    }
   ],
   "source": [
    "# sales.csv 파일을 불러오세요.\n",
    "df = pd.read_csv('quiz/sales.csv',encoding='euc-kr')\n",
    "print(df.index)\n",
    "print(df.columns)\n",
    "df\n",
    "\n",
    "# month를 인덱스로 설정하세요.\n",
    "df = df.set_index('month')\n",
    "df\n",
    "\n",
    "# sales 컬럼 전체를 출력하세요.\n",
    "df['sales']\n",
    "\n",
    "# 2월의 모든 데이터를 출력하세요.\n",
    "df.loc['2월']\n",
    "\n",
    "# 이윤의 합계와 평균을 구하세요. (1400, 350)\n",
    "df['profit']\n",
    "print(df['profit'].sum())\n",
    "print(df['profit'].mean())\n",
    "\n",
    "# 이윤이 300이상인 행만 출력하세요.\n",
    "df[df['profit'] >= 300]"
   ]
  },
  {
   "cell_type": "code",
   "execution_count": null,
   "id": "6ef1a7ac-0209-474e-8d64-1c5ba30fbf60",
   "metadata": {},
   "outputs": [],
   "source": []
  },
  {
   "cell_type": "code",
   "execution_count": 4,
   "id": "84902048-01b6-48b3-bf46-6fc282ff7dcf",
   "metadata": {},
   "outputs": [
    {
     "data": {
      "text/html": [
       "<div>\n",
       "<style scoped>\n",
       "    .dataframe tbody tr th:only-of-type {\n",
       "        vertical-align: middle;\n",
       "    }\n",
       "\n",
       "    .dataframe tbody tr th {\n",
       "        vertical-align: top;\n",
       "    }\n",
       "\n",
       "    .dataframe thead th {\n",
       "        text-align: right;\n",
       "    }\n",
       "</style>\n",
       "<table border=\"1\" class=\"dataframe\">\n",
       "  <thead>\n",
       "    <tr style=\"text-align: right;\">\n",
       "      <th></th>\n",
       "      <th>spring</th>\n",
       "      <th>summer</th>\n",
       "      <th>winter</th>\n",
       "    </tr>\n",
       "    <tr>\n",
       "      <th>city</th>\n",
       "      <th></th>\n",
       "      <th></th>\n",
       "      <th></th>\n",
       "    </tr>\n",
       "  </thead>\n",
       "  <tbody>\n",
       "    <tr>\n",
       "      <th>서울</th>\n",
       "      <td>15</td>\n",
       "      <td>28</td>\n",
       "      <td>2</td>\n",
       "    </tr>\n",
       "    <tr>\n",
       "      <th>부산</th>\n",
       "      <td>17</td>\n",
       "      <td>29</td>\n",
       "      <td>5</td>\n",
       "    </tr>\n",
       "    <tr>\n",
       "      <th>대구</th>\n",
       "      <td>18</td>\n",
       "      <td>30</td>\n",
       "      <td>1</td>\n",
       "    </tr>\n",
       "  </tbody>\n",
       "</table>\n",
       "</div>"
      ],
      "text/plain": [
       "      spring  summer  winter\n",
       "city                        \n",
       "서울        15      28       2\n",
       "부산        17      29       5\n",
       "대구        18      30       1"
      ]
     },
     "execution_count": 4,
     "metadata": {},
     "output_type": "execute_result"
    }
   ],
   "source": [
    "# weather.csv 파일을 불러오세요.\n",
    "df = pd.read_csv('quiz/weather.csv',encoding='euc-kr')\n",
    "\n",
    "df = df.set_index('city')\n",
    "\n",
    "# 각 도시의 봄 기온(spring)을 모두 출력하세요.\n",
    "df['spring']\n",
    "\n",
    "# 서울의 모든 데이터를 출력하세요.\n",
    "df.loc['서울']\n",
    "\n",
    "# 겨울(winter)의 평균 기온을 구하세요.\n",
    "df['winter']\n",
    "int(df['winter'].mean())\n",
    "\n",
    "\n",
    "# 여름 기온(summer)이 28도 이상인 도시만 출력하세요\n",
    "df[df['summer'] >= 28]"
   ]
  },
  {
   "cell_type": "code",
   "execution_count": null,
   "id": "2cf4979f-f244-46ac-a347-6070e44e7d83",
   "metadata": {},
   "outputs": [],
   "source": []
  },
  {
   "cell_type": "code",
   "execution_count": 5,
   "id": "083e4d1c-4663-4779-ad0d-cc31ae9ee142",
   "metadata": {},
   "outputs": [
    {
     "name": "stdout",
     "output_type": "stream",
     "text": [
      "상품명\n",
      "사과     30000\n",
      "바나나    40000\n",
      "포도     60000\n",
      "딸기     40000\n",
      "dtype: int64\n"
     ]
    },
    {
     "data": {
      "text/html": [
       "<div>\n",
       "<style scoped>\n",
       "    .dataframe tbody tr th:only-of-type {\n",
       "        vertical-align: middle;\n",
       "    }\n",
       "\n",
       "    .dataframe tbody tr th {\n",
       "        vertical-align: top;\n",
       "    }\n",
       "\n",
       "    .dataframe thead th {\n",
       "        text-align: right;\n",
       "    }\n",
       "</style>\n",
       "<table border=\"1\" class=\"dataframe\">\n",
       "  <thead>\n",
       "    <tr style=\"text-align: right;\">\n",
       "      <th></th>\n",
       "      <th>가격</th>\n",
       "    </tr>\n",
       "    <tr>\n",
       "      <th>상품명</th>\n",
       "      <th></th>\n",
       "    </tr>\n",
       "  </thead>\n",
       "  <tbody>\n",
       "    <tr>\n",
       "      <th>사과</th>\n",
       "      <td>3000</td>\n",
       "    </tr>\n",
       "    <tr>\n",
       "      <th>바나나</th>\n",
       "      <td>2000</td>\n",
       "    </tr>\n",
       "    <tr>\n",
       "      <th>포도</th>\n",
       "      <td>4000</td>\n",
       "    </tr>\n",
       "    <tr>\n",
       "      <th>딸기</th>\n",
       "      <td>6000</td>\n",
       "    </tr>\n",
       "  </tbody>\n",
       "</table>\n",
       "</div>"
      ],
      "text/plain": [
       "       가격\n",
       "상품명      \n",
       "사과   3000\n",
       "바나나  2000\n",
       "포도   4000\n",
       "딸기   6000"
      ]
     },
     "execution_count": 5,
     "metadata": {},
     "output_type": "execute_result"
    }
   ],
   "source": [
    "# products.json 파일을 불러오세요.\n",
    "df = pd.read_json('quiz/products.json')\n",
    "# df\n",
    "\n",
    "# 모든 상품명을 출력하세요.\n",
    "df = df.set_index('상품명')\n",
    "df.index\n",
    "\n",
    "# 가격이 3000원 이상인 상품만 출력하세요.\n",
    "df[df['가격'] >= 3000]\n",
    "\n",
    "# 평균 가격을 구하세요.\n",
    "# 새로운 컬럼 총액(가격*재고)을 추가하세요.\n",
    "print(df['가격'] * df['재고'])\n",
    "# 딸기의 가격을 6000으로 수정하세요.\n",
    "df.loc['딸기'] = 6000\n",
    "# df\n",
    "# 재고 컬럼을 삭제하세요.\n",
    "del df['재고']\n",
    "df"
   ]
  },
  {
   "cell_type": "code",
   "execution_count": 6,
   "id": "1f4842bd-09a1-4f6d-b647-dc6cf0f37a16",
   "metadata": {},
   "outputs": [
    {
     "data": {
      "text/plain": [
       "23000"
      ]
     },
     "execution_count": 6,
     "metadata": {},
     "output_type": "execute_result"
    }
   ],
   "source": [
    "# books.json 파일을 불러오세요.\n",
    "df = pd.read_json('quiz/books.json')\n",
    "\n",
    "# 책 제목을 인덱스로 설정하세요.\n",
    "df = df.set_index('제목')\n",
    "\n",
    "# 가격이 20000원 이상인 책만 출력하세요.\n",
    "df [df['가격'] >= 20000]\n",
    "\n",
    "# 대출가능권수가 2권 이하인 책을 출력하세요.\n",
    "df[df['대출가능권수'] <= 2]\n",
    "\n",
    "# 가격이 비싼 순으로 정렬하여 출력하세요.\n",
    "df.sort_values('가격', ascending=False)\n",
    "\n",
    "# 대출가능권수가 많은 순으로 정렬하여 출력하세요.\n",
    "df.sort_values('대출가능권수', ascending=False)\n",
    "\n",
    "# 전체 평균 가격을 구하세요.\n",
    "int(df['가격'].mean())"
   ]
  },
  {
   "cell_type": "code",
   "execution_count": null,
   "id": "5d25f0c3-026a-41fd-ac1b-8d46250f5851",
   "metadata": {},
   "outputs": [],
   "source": []
  },
  {
   "cell_type": "code",
   "execution_count": 7,
   "id": "b7091939-a04d-4eb5-bf6b-4113d5c96aa5",
   "metadata": {
    "scrolled": true
   },
   "outputs": [
    {
     "data": {
      "text/html": [
       "<div>\n",
       "<style scoped>\n",
       "    .dataframe tbody tr th:only-of-type {\n",
       "        vertical-align: middle;\n",
       "    }\n",
       "\n",
       "    .dataframe tbody tr th {\n",
       "        vertical-align: top;\n",
       "    }\n",
       "\n",
       "    .dataframe thead th {\n",
       "        text-align: right;\n",
       "    }\n",
       "</style>\n",
       "<table border=\"1\" class=\"dataframe\">\n",
       "  <thead>\n",
       "    <tr style=\"text-align: right;\">\n",
       "      <th></th>\n",
       "      <th>정류소명</th>\n",
       "      <th>정류소아이디</th>\n",
       "      <th>총승차건수</th>\n",
       "      <th>총하차건수</th>\n",
       "      <th>승차건수(카드)</th>\n",
       "      <th>하차건수(카드)</th>\n",
       "      <th>승차건수(현금)</th>\n",
       "      <th>일평균승하차건수</th>\n",
       "    </tr>\n",
       "  </thead>\n",
       "  <tbody>\n",
       "    <tr>\n",
       "      <th>917</th>\n",
       "      <td>국화리야영장앞</td>\n",
       "      <td>43843</td>\n",
       "      <td>1</td>\n",
       "      <td>52</td>\n",
       "      <td>0</td>\n",
       "      <td>52</td>\n",
       "      <td>1</td>\n",
       "      <td>1</td>\n",
       "    </tr>\n",
       "    <tr>\n",
       "      <th>2942</th>\n",
       "      <td>상용진료소앞</td>\n",
       "      <td>90004</td>\n",
       "      <td>2</td>\n",
       "      <td>69</td>\n",
       "      <td>0</td>\n",
       "      <td>69</td>\n",
       "      <td>2</td>\n",
       "      <td>2</td>\n",
       "    </tr>\n",
       "    <tr>\n",
       "      <th>5149</th>\n",
       "      <td>인화성입구</td>\n",
       "      <td>90063</td>\n",
       "      <td>2</td>\n",
       "      <td>24</td>\n",
       "      <td>0</td>\n",
       "      <td>24</td>\n",
       "      <td>2</td>\n",
       "      <td>0</td>\n",
       "    </tr>\n",
       "  </tbody>\n",
       "</table>\n",
       "</div>"
      ],
      "text/plain": [
       "         정류소명  정류소아이디  총승차건수  총하차건수  승차건수(카드)  하차건수(카드)  승차건수(현금)  일평균승하차건수\n",
       "917   국화리야영장앞   43843      1     52         0        52         1         1\n",
       "2942   상용진료소앞   90004      2     69         0        69         2         2\n",
       "5149    인화성입구   90063      2     24         0        24         2         0"
      ]
     },
     "execution_count": 7,
     "metadata": {},
     "output_type": "execute_result"
    }
   ],
   "source": [
    "# 공공 데이터 포털에서 인천 정류장별 이용승객 현황을 검색하세요.\n",
    "# csv 파일을 다운받고, 파이썬 프로그램으로 불러오세요.\n",
    "df = pd.read_csv('sample/인천광역시_정류장별 이용승객 현황_20250731.csv', encoding='euc-kr')\n",
    "# df\n",
    "# df.index\n",
    "# df.columns\n",
    "\n",
    "# 총승차건수가 10만 이상인 정류장을 출력하세요.\n",
    "df[df['총승차건수'] >= 100000]\n",
    "\n",
    "# 총하차건수가 0건인 정류장을 출력하세요.\n",
    "df[df['총하차건수'] == 0]\n",
    "\n",
    "# 승차건수(현금)이 100건 이상인 정류장을 출력하세요.\n",
    "df[df['승차건수(현금)'] >= 100]\n",
    "\n",
    "# 승차건수(현금)이 승차건수(카드)보다 많은 정류장을 출력하세요.\n",
    "df[df['승차건수(현금)'] > df['승차건수(카드)']]\n"
   ]
  },
  {
   "cell_type": "code",
   "execution_count": null,
   "id": "ca9e6257-aec2-4a18-9703-181f17c04369",
   "metadata": {},
   "outputs": [],
   "source": []
  },
  {
   "cell_type": "code",
   "execution_count": null,
   "id": "5a45c45b-d144-458b-b5e6-1faace1411e7",
   "metadata": {},
   "outputs": [],
   "source": []
  },
  {
   "cell_type": "code",
   "execution_count": 32,
   "id": "b4465fe7-5c9e-4150-ad20-5d1ab63cd68c",
   "metadata": {
    "scrolled": true
   },
   "outputs": [
    {
     "data": {
      "text/plain": [
       "np.float64(32.31764705882353)"
      ]
     },
     "execution_count": 32,
     "metadata": {},
     "output_type": "execute_result"
    }
   ],
   "source": [
    "# 공공 데이터 포털에서 인천광역시 중구 공영주차장을 검색하세요.\n",
    "# csv 파일을 다운받고, 파이썬 프로그램으로 불러오세요.\n",
    "df = pd.read_csv('sample/인천광역시 중구_공영주차장 현황_20250601.csv', encoding='utf-8')\n",
    "df\n",
    "\n",
    "# 주차구획수가 100대 이상인 주차장\n",
    "df[df[\"주차구획수\"] >= 100]\n",
    "\n",
    "# 평일 종료 시간이 '21:00'인 주차장\n",
    "df[df[\"평일운영종료시각\"] == \"21:00\"]\n",
    "\n",
    "# 요금정보가 '무료'인 주차장\n",
    "df[df[\"요금정보\"] == \"무료\"]\n",
    "\n",
    "# 모든 주차장의 총 주차구획수와 평균\n",
    "df[\"주차구획수\"].sum()\n",
    "df[\"주차구획수\"].mean()"
   ]
  },
  {
   "cell_type": "code",
   "execution_count": null,
   "id": "8927a48f-b972-48f5-ab82-7ce53f32f86c",
   "metadata": {},
   "outputs": [],
   "source": []
  },
  {
   "cell_type": "code",
   "execution_count": null,
   "id": "4cc4095a-ad48-42d3-8118-f802216661c5",
   "metadata": {},
   "outputs": [],
   "source": []
  }
 ],
 "metadata": {
  "kernelspec": {
   "display_name": "Python 3 (ipykernel)",
   "language": "python",
   "name": "python3"
  },
  "language_info": {
   "codemirror_mode": {
    "name": "ipython",
    "version": 3
   },
   "file_extension": ".py",
   "mimetype": "text/x-python",
   "name": "python",
   "nbconvert_exporter": "python",
   "pygments_lexer": "ipython3",
   "version": "3.10.18"
  }
 },
 "nbformat": 4,
 "nbformat_minor": 5
}
