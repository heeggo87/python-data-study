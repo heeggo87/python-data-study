{
 "cells": [
  {
   "cell_type": "code",
   "execution_count": null,
   "id": "b63fc623-3741-41dc-a18f-24365757f6ec",
   "metadata": {},
   "outputs": [],
   "source": [
    "# 판다스 (pandas)\n",
    "데이터를 관리하기 위한 모듈로 시리즈와 데이터 프레임을 제공함"
   ]
  },
  {
   "cell_type": "code",
   "execution_count": 8,
   "id": "e9165fbd-7781-4e5b-b6d1-935a5747ae8c",
   "metadata": {},
   "outputs": [],
   "source": [
    "import numpy as np"
   ]
  },
  {
   "cell_type": "code",
   "execution_count": 7,
   "id": "8eab9ab3-7b17-4365-bfac-b64006105473",
   "metadata": {},
   "outputs": [],
   "source": [
    "import pandas as pd"
   ]
  },
  {
   "cell_type": "code",
   "execution_count": null,
   "id": "54943b98-201c-46bd-b37b-e6baf95c7d5e",
   "metadata": {},
   "outputs": [],
   "source": [
    "pip install pandas"
   ]
  },
  {
   "cell_type": "code",
   "execution_count": null,
   "id": "1a585001-eee3-4c61-a847-2b90d3e5a62d",
   "metadata": {},
   "outputs": [],
   "source": [
    "# 시리즈 (series)\n",
    "데이터를 한줄로 담는 자료 구조\n",
    "리스트와 다른 점은 데이터에 이름표를 붙일 수 있다 (index)"
   ]
  },
  {
   "cell_type": "code",
   "execution_count": 12,
   "id": "f01471d7-7777-4ec8-8715-dc1db6b1a442",
   "metadata": {},
   "outputs": [
    {
     "name": "stdout",
     "output_type": "stream",
     "text": [
      "0    1\n",
      "1    2\n",
      "2    3\n",
      "3    4\n",
      "dtype: int64\n"
     ]
    }
   ],
   "source": [
    "# 시리즈 생성\n",
    "s = pd.Series([1,2,3,4])\n",
    "print(s)\n",
    "# 인덱스가 자동으로 설정됨 (0~3)\n",
    "# 시리즈의 인덱스 확인"
   ]
  },
  {
   "cell_type": "code",
   "execution_count": 11,
   "id": "4efa5f26-62eb-45be-a28d-bc5558972c2e",
   "metadata": {},
   "outputs": [
    {
     "data": {
      "text/plain": [
       "RangeIndex(start=0, stop=4, step=1)"
      ]
     },
     "execution_count": 11,
     "metadata": {},
     "output_type": "execute_result"
    }
   ],
   "source": [
    "s.index"
   ]
  },
  {
   "cell_type": "code",
   "execution_count": null,
   "id": "1484dc68-8e3a-4e61-8622-e56da8d369fb",
   "metadata": {},
   "outputs": [],
   "source": []
  },
  {
   "cell_type": "code",
   "execution_count": 29,
   "id": "49604ac5-b4e9-43ce-ba96-000d2fc00b74",
   "metadata": {},
   "outputs": [
    {
     "data": {
      "text/plain": [
       "a    1\n",
       "b    2\n",
       "c    3\n",
       "dtype: int64"
      ]
     },
     "execution_count": 29,
     "metadata": {},
     "output_type": "execute_result"
    }
   ],
   "source": [
    "# 인덱스를 직접 설정하여 시리즈 생성\n",
    "s = pd.Series([1,2,3], index=['a','b','c'])\n",
    "s"
   ]
  },
  {
   "cell_type": "code",
   "execution_count": 15,
   "id": "08610874-c606-4cfc-a869-0d1695d5df1e",
   "metadata": {},
   "outputs": [
    {
     "data": {
      "text/plain": [
       "Index(['a', 'b', 'c'], dtype='object')"
      ]
     },
     "execution_count": 15,
     "metadata": {},
     "output_type": "execute_result"
    }
   ],
   "source": [
    "s.index"
   ]
  },
  {
   "cell_type": "code",
   "execution_count": null,
   "id": "19c6aa43-daa1-4dac-84d9-37940a30f474",
   "metadata": {},
   "outputs": [],
   "source": []
  },
  {
   "cell_type": "code",
   "execution_count": null,
   "id": "6573f9ae-46c9-47df-8f0a-1a791b7c9b0e",
   "metadata": {},
   "outputs": [],
   "source": [
    "# 시리즈에서 값 꺼내기\n",
    "# 값을 찾는 방법: 인덱스의 이름과 위치\n",
    "# loc: 인덱스 이름으로 데이터를 찾는다\n",
    "# iloc: 인덱스 위치로 데이터를 찾는다\n",
    "# 대괄호[]: 인덱스 이름으로 데이터를 찾는다"
   ]
  },
  {
   "cell_type": "code",
   "execution_count": 21,
   "id": "d6ac0752-3563-4e27-9ff9-4286800aa3f4",
   "metadata": {},
   "outputs": [
    {
     "name": "stdout",
     "output_type": "stream",
     "text": [
      "a    1\n",
      "b    2\n",
      "c    3\n",
      "dtype: int64\n"
     ]
    },
    {
     "data": {
      "text/plain": [
       "np.int64(3)"
      ]
     },
     "execution_count": 21,
     "metadata": {},
     "output_type": "execute_result"
    }
   ],
   "source": [
    "print(s)\n",
    "# 이 시리즈의 인덱스 이름: a, b, c\n",
    "# 이 시리즈의 인덱스 위치: 0, 1, 2\n",
    "\n",
    "# 인덱스 이름으로 숫자 1 꺼내기\n",
    "s.loc['a']\n",
    "\n",
    "# 인덱스 이름으로 숫자 2 꺼내기\n",
    "s['b']\n",
    "\n",
    "# 인덱스 이름으로 숫자 3 꺼내기\n",
    "s.iloc[2]"
   ]
  },
  {
   "cell_type": "code",
   "execution_count": 28,
   "id": "ba75796a-d277-49f9-96f9-fdb17d665f59",
   "metadata": {},
   "outputs": [
    {
     "data": {
      "text/plain": [
       "a     0\n",
       "b     2\n",
       "c    99\n",
       "dtype: int64"
      ]
     },
     "execution_count": 28,
     "metadata": {},
     "output_type": "execute_result"
    }
   ],
   "source": [
    "s\n",
    "# 1을 0으로 변경\n",
    "# 찾기 -> 변경\n",
    "s.loc['a'] = 0\n",
    "\n",
    "# 3을 99로 변경\n",
    "s['c'] = 99\n",
    "s"
   ]
  },
  {
   "cell_type": "code",
   "execution_count": null,
   "id": "032e2e04-23f8-451d-8c5d-c8a2dd4bc64a",
   "metadata": {},
   "outputs": [],
   "source": []
  },
  {
   "cell_type": "code",
   "execution_count": null,
   "id": "a68510fe-d005-4f11-b6f6-959559083922",
   "metadata": {},
   "outputs": [],
   "source": [
    "# 데이터 프레임\n",
    "# 표 형식의 2차원 데이터를 담기 위한 자료 구조\n",
    "# 데이터 프레임 생성"
   ]
  },
  {
   "cell_type": "code",
   "execution_count": 32,
   "id": "f4d85ac7-e076-4630-b9db-3edaa89bcd4e",
   "metadata": {},
   "outputs": [
    {
     "data": {
      "text/html": [
       "<div>\n",
       "<style scoped>\n",
       "    .dataframe tbody tr th:only-of-type {\n",
       "        vertical-align: middle;\n",
       "    }\n",
       "\n",
       "    .dataframe tbody tr th {\n",
       "        vertical-align: top;\n",
       "    }\n",
       "\n",
       "    .dataframe thead th {\n",
       "        text-align: right;\n",
       "    }\n",
       "</style>\n",
       "<table border=\"1\" class=\"dataframe\">\n",
       "  <thead>\n",
       "    <tr style=\"text-align: right;\">\n",
       "      <th></th>\n",
       "      <th>city</th>\n",
       "      <th>pop</th>\n",
       "    </tr>\n",
       "  </thead>\n",
       "  <tbody>\n",
       "    <tr>\n",
       "      <th>0</th>\n",
       "      <td>서울</td>\n",
       "      <td>990</td>\n",
       "    </tr>\n",
       "    <tr>\n",
       "      <th>1</th>\n",
       "      <td>인천</td>\n",
       "      <td>240</td>\n",
       "    </tr>\n",
       "  </tbody>\n",
       "</table>\n",
       "</div>"
      ],
      "text/plain": [
       "  city  pop\n",
       "0   서울  990\n",
       "1   인천  240"
      ]
     },
     "execution_count": 32,
     "metadata": {},
     "output_type": "execute_result"
    }
   ],
   "source": [
    "# 도시별 인구 데이터를 담은 데이터 프레임 생성\n",
    "# 데이터 먼저 만들기 (dic)\n",
    "# city 라는 열 하나\n",
    "data = {'city':['서울','인천'],\n",
    "        'pop':[990,240]\n",
    "        }\n",
    "\n",
    "# city, pop 열 두개를 담은 데이터 프레임 생성\n",
    "# pd.DataFrame(값, [인덱스], [컬럼])\n",
    "df = pd.DataFrame(data)\n",
    "df"
   ]
  },
  {
   "cell_type": "code",
   "execution_count": 35,
   "id": "266111a2-c3c9-47d9-b97f-63785aa8ac83",
   "metadata": {},
   "outputs": [
    {
     "name": "stdout",
     "output_type": "stream",
     "text": [
      "RangeIndex(start=0, stop=2, step=1)\n",
      "Index(['city', 'pop'], dtype='object')\n"
     ]
    }
   ],
   "source": [
    "# 행열의 이름을 따로 설정하지 않으면 자동으로 설정됨\n",
    "print(df.index) # 행 이름: 0,1\n",
    "print(df.columns) # 열 이름: dic의 key (city, pop)"
   ]
  },
  {
   "cell_type": "code",
   "execution_count": null,
   "id": "3e7f14ab-c9a1-4925-bf5c-e8babb69ff25",
   "metadata": {},
   "outputs": [],
   "source": []
  },
  {
   "cell_type": "code",
   "execution_count": 42,
   "id": "0674cd68-777b-4fd2-8f32-1e401cbd5264",
   "metadata": {},
   "outputs": [
    {
     "data": {
      "text/plain": [
       "Index(['국어', '영어', '수학'], dtype='object')"
      ]
     },
     "execution_count": 42,
     "metadata": {},
     "output_type": "execute_result"
    }
   ],
   "source": [
    "# 학생 성적 데이터 만들기\n",
    "# dic, list\n",
    "# 넘파이의 다차원 배열 사용하여 2차원 배열 생성\n",
    "data = np.array([[60,70,80], [70,80,90], [80,90,100]])\n",
    "\n",
    "# 성적 데이터를 담아서 데이터 프레임 생성\n",
    "# 이 점수가 누구의 어떤 점수인지 알기 위해 이름표 붙이기\n",
    "# 행: 학생이름\n",
    "# 열: 과목명\n",
    "df = pd.DataFrame(data, \n",
    "                  index=['둘리','또치','도우너'], \n",
    "                  columns=['국어','영어','수학'])\n",
    "df.index\n",
    "df.columns"
   ]
  },
  {
   "cell_type": "code",
   "execution_count": null,
   "id": "435a6b84-f1f8-496a-a146-8f9f3b91211f",
   "metadata": {},
   "outputs": [],
   "source": []
  },
  {
   "cell_type": "code",
   "execution_count": 48,
   "id": "7092bef2-072e-41c9-97a7-8692319b74c4",
   "metadata": {},
   "outputs": [
    {
     "name": "stdout",
     "output_type": "stream",
     "text": [
      "     국어  영어   수학\n",
      "둘리   60  70   80\n",
      "또치   70  80   90\n",
      "도우너  80  90  100\n"
     ]
    },
    {
     "data": {
      "text/plain": [
       "둘리     70\n",
       "또치     80\n",
       "도우너    90\n",
       "Name: 영어, dtype: int64"
      ]
     },
     "execution_count": 48,
     "metadata": {},
     "output_type": "execute_result"
    }
   ],
   "source": [
    "print(df)\n",
    "\n",
    "df.loc[:, :]\n",
    "df.loc['둘리', '국어']\n",
    "df.loc['도우너','수학']\n",
    "\n",
    "df['영어']"
   ]
  },
  {
   "cell_type": "code",
   "execution_count": null,
   "id": "c60989bf-8d94-4d1e-87b5-1ebf43544ea1",
   "metadata": {},
   "outputs": [],
   "source": []
  },
  {
   "cell_type": "code",
   "execution_count": 50,
   "id": "7d97d135-f325-4902-a73a-1ed227b7b9a1",
   "metadata": {},
   "outputs": [
    {
     "data": {
      "text/html": [
       "<div>\n",
       "<style scoped>\n",
       "    .dataframe tbody tr th:only-of-type {\n",
       "        vertical-align: middle;\n",
       "    }\n",
       "\n",
       "    .dataframe tbody tr th {\n",
       "        vertical-align: top;\n",
       "    }\n",
       "\n",
       "    .dataframe thead th {\n",
       "        text-align: right;\n",
       "    }\n",
       "</style>\n",
       "<table border=\"1\" class=\"dataframe\">\n",
       "  <thead>\n",
       "    <tr style=\"text-align: right;\">\n",
       "      <th></th>\n",
       "      <th>국어</th>\n",
       "      <th>영어</th>\n",
       "      <th>수학</th>\n",
       "      <th>과학</th>\n",
       "    </tr>\n",
       "  </thead>\n",
       "  <tbody>\n",
       "    <tr>\n",
       "      <th>둘리</th>\n",
       "      <td>60</td>\n",
       "      <td>70</td>\n",
       "      <td>80</td>\n",
       "      <td>60</td>\n",
       "    </tr>\n",
       "    <tr>\n",
       "      <th>또치</th>\n",
       "      <td>70</td>\n",
       "      <td>80</td>\n",
       "      <td>90</td>\n",
       "      <td>70</td>\n",
       "    </tr>\n",
       "    <tr>\n",
       "      <th>도우너</th>\n",
       "      <td>80</td>\n",
       "      <td>90</td>\n",
       "      <td>100</td>\n",
       "      <td>80</td>\n",
       "    </tr>\n",
       "  </tbody>\n",
       "</table>\n",
       "</div>"
      ],
      "text/plain": [
       "     국어  영어   수학  과학\n",
       "둘리   60  70   80  60\n",
       "또치   70  80   90  70\n",
       "도우너  80  90  100  80"
      ]
     },
     "execution_count": 50,
     "metadata": {},
     "output_type": "execute_result"
    }
   ],
   "source": [
    "# df['과학'] = [60,70,80]\n",
    "# df"
   ]
  },
  {
   "cell_type": "code",
   "execution_count": 51,
   "id": "f7ace25f-10c0-48d0-94a3-b1db12a1eb78",
   "metadata": {},
   "outputs": [
    {
     "data": {
      "text/html": [
       "<div>\n",
       "<style scoped>\n",
       "    .dataframe tbody tr th:only-of-type {\n",
       "        vertical-align: middle;\n",
       "    }\n",
       "\n",
       "    .dataframe tbody tr th {\n",
       "        vertical-align: top;\n",
       "    }\n",
       "\n",
       "    .dataframe thead th {\n",
       "        text-align: right;\n",
       "    }\n",
       "</style>\n",
       "<table border=\"1\" class=\"dataframe\">\n",
       "  <thead>\n",
       "    <tr style=\"text-align: right;\">\n",
       "      <th></th>\n",
       "      <th>국어</th>\n",
       "      <th>영어</th>\n",
       "      <th>미술</th>\n",
       "      <th>수학</th>\n",
       "      <th>과학</th>\n",
       "    </tr>\n",
       "  </thead>\n",
       "  <tbody>\n",
       "    <tr>\n",
       "      <th>둘리</th>\n",
       "      <td>60</td>\n",
       "      <td>70</td>\n",
       "      <td>70</td>\n",
       "      <td>80</td>\n",
       "      <td>60</td>\n",
       "    </tr>\n",
       "    <tr>\n",
       "      <th>또치</th>\n",
       "      <td>70</td>\n",
       "      <td>80</td>\n",
       "      <td>80</td>\n",
       "      <td>90</td>\n",
       "      <td>70</td>\n",
       "    </tr>\n",
       "    <tr>\n",
       "      <th>도우너</th>\n",
       "      <td>80</td>\n",
       "      <td>90</td>\n",
       "      <td>90</td>\n",
       "      <td>100</td>\n",
       "      <td>80</td>\n",
       "    </tr>\n",
       "  </tbody>\n",
       "</table>\n",
       "</div>"
      ],
      "text/plain": [
       "     국어  영어  미술   수학  과학\n",
       "둘리   60  70  70   80  60\n",
       "또치   70  80  80   90  70\n",
       "도우너  80  90  90  100  80"
      ]
     },
     "execution_count": 51,
     "metadata": {},
     "output_type": "execute_result"
    }
   ],
   "source": [
    "df.insert(2, '미술', [70,80,90])\n",
    "df"
   ]
  },
  {
   "cell_type": "code",
   "execution_count": 52,
   "id": "4ff22627-81e6-460e-a168-b4e433de2c09",
   "metadata": {},
   "outputs": [
    {
     "data": {
      "text/html": [
       "<div>\n",
       "<style scoped>\n",
       "    .dataframe tbody tr th:only-of-type {\n",
       "        vertical-align: middle;\n",
       "    }\n",
       "\n",
       "    .dataframe tbody tr th {\n",
       "        vertical-align: top;\n",
       "    }\n",
       "\n",
       "    .dataframe thead th {\n",
       "        text-align: right;\n",
       "    }\n",
       "</style>\n",
       "<table border=\"1\" class=\"dataframe\">\n",
       "  <thead>\n",
       "    <tr style=\"text-align: right;\">\n",
       "      <th></th>\n",
       "      <th>국어</th>\n",
       "      <th>영어</th>\n",
       "      <th>미술</th>\n",
       "      <th>수학</th>\n",
       "    </tr>\n",
       "  </thead>\n",
       "  <tbody>\n",
       "    <tr>\n",
       "      <th>둘리</th>\n",
       "      <td>60</td>\n",
       "      <td>70</td>\n",
       "      <td>70</td>\n",
       "      <td>80</td>\n",
       "    </tr>\n",
       "    <tr>\n",
       "      <th>또치</th>\n",
       "      <td>70</td>\n",
       "      <td>80</td>\n",
       "      <td>80</td>\n",
       "      <td>90</td>\n",
       "    </tr>\n",
       "    <tr>\n",
       "      <th>도우너</th>\n",
       "      <td>80</td>\n",
       "      <td>90</td>\n",
       "      <td>90</td>\n",
       "      <td>100</td>\n",
       "    </tr>\n",
       "  </tbody>\n",
       "</table>\n",
       "</div>"
      ],
      "text/plain": [
       "     국어  영어  미술   수학\n",
       "둘리   60  70  70   80\n",
       "또치   70  80  80   90\n",
       "도우너  80  90  90  100"
      ]
     },
     "execution_count": 52,
     "metadata": {},
     "output_type": "execute_result"
    }
   ],
   "source": [
    "# del df['과학']\n",
    "# df"
   ]
  },
  {
   "cell_type": "code",
   "execution_count": 62,
   "id": "e2376c22-2f74-42b2-8c38-07c21b55dd5d",
   "metadata": {},
   "outputs": [
    {
     "data": {
      "text/html": [
       "<div>\n",
       "<style scoped>\n",
       "    .dataframe tbody tr th:only-of-type {\n",
       "        vertical-align: middle;\n",
       "    }\n",
       "\n",
       "    .dataframe tbody tr th {\n",
       "        vertical-align: top;\n",
       "    }\n",
       "\n",
       "    .dataframe thead th {\n",
       "        text-align: right;\n",
       "    }\n",
       "</style>\n",
       "<table border=\"1\" class=\"dataframe\">\n",
       "  <thead>\n",
       "    <tr style=\"text-align: right;\">\n",
       "      <th></th>\n",
       "      <th>국어</th>\n",
       "      <th>영어</th>\n",
       "      <th>미술</th>\n",
       "    </tr>\n",
       "  </thead>\n",
       "  <tbody>\n",
       "    <tr>\n",
       "      <th>둘리</th>\n",
       "      <td>60</td>\n",
       "      <td>70</td>\n",
       "      <td>70</td>\n",
       "    </tr>\n",
       "    <tr>\n",
       "      <th>도우너</th>\n",
       "      <td>80</td>\n",
       "      <td>90</td>\n",
       "      <td>90</td>\n",
       "    </tr>\n",
       "  </tbody>\n",
       "</table>\n",
       "</div>"
      ],
      "text/plain": [
       "     국어  영어  미술\n",
       "둘리   60  70  70\n",
       "도우너  80  90  90"
      ]
     },
     "execution_count": 62,
     "metadata": {},
     "output_type": "execute_result"
    }
   ],
   "source": [
    "# df = df.drop('수학', axis=1) #엑시스(축, 방향)\n",
    "# df\n",
    "\n",
    "df = df.drop('또치', axis=0) #drop 함수는 원본에 영향이 없다.\n",
    "df"
   ]
  },
  {
   "cell_type": "code",
   "execution_count": null,
   "id": "cf66fd18-5ba5-4fc4-b6ed-6341469bfa58",
   "metadata": {},
   "outputs": [],
   "source": []
  },
  {
   "cell_type": "code",
   "execution_count": null,
   "id": "ffe97101-2ed0-4957-983e-a8667c524487",
   "metadata": {},
   "outputs": [],
   "source": []
  },
  {
   "cell_type": "code",
   "execution_count": null,
   "id": "140f7f98-c5bb-410b-a7ac-ff9b7dafc86b",
   "metadata": {},
   "outputs": [],
   "source": []
  }
 ],
 "metadata": {
  "kernelspec": {
   "display_name": "Python 3 (ipykernel)",
   "language": "python",
   "name": "python3"
  },
  "language_info": {
   "codemirror_mode": {
    "name": "ipython",
    "version": 3
   },
   "file_extension": ".py",
   "mimetype": "text/x-python",
   "name": "python",
   "nbconvert_exporter": "python",
   "pygments_lexer": "ipython3",
   "version": "3.10.18"
  }
 },
 "nbformat": 4,
 "nbformat_minor": 5
}
