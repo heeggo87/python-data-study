{
 "cells": [
  {
   "cell_type": "code",
   "execution_count": 3,
   "id": "365a69a9-4da6-4958-a53b-70fedc9e7d30",
   "metadata": {},
   "outputs": [],
   "source": [
    "import numpy as np"
   ]
  },
  {
   "cell_type": "code",
   "execution_count": 4,
   "id": "806ee0f4-80c8-4ebc-903f-e0311008fb72",
   "metadata": {},
   "outputs": [],
   "source": [
    "import pandas as pd"
   ]
  },
  {
   "cell_type": "code",
   "execution_count": null,
   "id": "a19b6ff1-8299-42b0-857b-4b1276ddce68",
   "metadata": {},
   "outputs": [],
   "source": [
    "# 숫자 데이터를 시리즈로 만들어 주세요.\n",
    "# 값은 [5, 10, 15, 20] 이고, 인덱스는 자동으로 생성됩니다.\n",
    "# 숫자 데이터를 시리즈로 만들어 주세요.\n",
    "# 값은 [2, 4, 6, 8] 이고, 인덱스는 자동으로 생성됩니다."
   ]
  },
  {
   "cell_type": "code",
   "execution_count": 7,
   "id": "eacf44d5-f64c-4932-aee4-e6065f52ef43",
   "metadata": {},
   "outputs": [
    {
     "data": {
      "text/plain": [
       "0     5\n",
       "1    10\n",
       "2    15\n",
       "3    20\n",
       "dtype: int64"
      ]
     },
     "execution_count": 7,
     "metadata": {},
     "output_type": "execute_result"
    }
   ],
   "source": [
    "s = pd.Series([5,10,15,20])\n",
    "s"
   ]
  },
  {
   "cell_type": "code",
   "execution_count": 9,
   "id": "a4c28a7d-9e9f-421f-a1ae-3ba56c2a12ab",
   "metadata": {},
   "outputs": [
    {
     "data": {
      "text/plain": [
       "0    2\n",
       "1    4\n",
       "2    6\n",
       "3    8\n",
       "dtype: int64"
      ]
     },
     "execution_count": 9,
     "metadata": {},
     "output_type": "execute_result"
    }
   ],
   "source": [
    "s = pd.Series([2,4,6,8])\n",
    "s"
   ]
  },
  {
   "cell_type": "code",
   "execution_count": null,
   "id": "277983ad-aabe-4559-935f-650f4066f74a",
   "metadata": {},
   "outputs": [],
   "source": []
  },
  {
   "cell_type": "code",
   "execution_count": null,
   "id": "f231b6fa-884d-4594-b6b8-dab0e82b88b9",
   "metadata": {},
   "outputs": [],
   "source": [
    "# 성적 데이터를 시리즈로 만들어주세요.\n",
    "# 값은 점수 [70, 80, 90] 이고, 인덱스는 과목 ['국어', '영어', '수학'] 입니다.\n",
    "# 1. 국어 점수를 조회하세요. (결과: 70점)\n",
    "# 2. 수학 점수를 75점으로 수정하세요"
   ]
  },
  {
   "cell_type": "code",
   "execution_count": 14,
   "id": "307fb6c8-ab18-4433-953e-4e64c108f17f",
   "metadata": {},
   "outputs": [
    {
     "data": {
      "text/plain": [
       "국어    70\n",
       "영어    80\n",
       "수학    90\n",
       "dtype: int64"
      ]
     },
     "execution_count": 14,
     "metadata": {},
     "output_type": "execute_result"
    }
   ],
   "source": [
    "s = pd.Series([70,80,90], index=['국어', '영어', '수학'])\n",
    "s"
   ]
  },
  {
   "cell_type": "code",
   "execution_count": 17,
   "id": "5336a481-a738-4365-a94d-d5cebdb1f12d",
   "metadata": {},
   "outputs": [
    {
     "data": {
      "text/plain": [
       "np.int64(70)"
      ]
     },
     "execution_count": 17,
     "metadata": {},
     "output_type": "execute_result"
    }
   ],
   "source": [
    "s.loc['국어']"
   ]
  },
  {
   "cell_type": "code",
   "execution_count": 20,
   "id": "923154e6-9396-4fa7-aaf5-e2b45c15312f",
   "metadata": {},
   "outputs": [
    {
     "data": {
      "text/plain": [
       "국어    70\n",
       "영어    80\n",
       "수학    75\n",
       "dtype: int64"
      ]
     },
     "execution_count": 20,
     "metadata": {},
     "output_type": "execute_result"
    }
   ],
   "source": [
    "s['수학'] = 75\n",
    "s"
   ]
  },
  {
   "cell_type": "code",
   "execution_count": null,
   "id": "cb95106b-73aa-407d-8888-2b7ef5b1d863",
   "metadata": {},
   "outputs": [],
   "source": []
  },
  {
   "cell_type": "code",
   "execution_count": 42,
   "id": "2253abaa-8a15-4f22-a829-15fd4cdd19a8",
   "metadata": {},
   "outputs": [
    {
     "data": {
      "text/plain": [
       "봄     15\n",
       "여름    27\n",
       "가을    18\n",
       "dtype: int64"
      ]
     },
     "execution_count": 42,
     "metadata": {},
     "output_type": "execute_result"
    }
   ],
   "source": [
    "# 계절별 평균 기온 데이터를 시리즈로 만들어주세요.\n",
    "# 값은 기온 [15, 27, 18] 이고, 인덱스는 계절 ['봄', '여름', '가을'] 입니다.\n",
    "# 1. 봄 기온을 조회하세요. (결과: 15)\n",
    "# 2. 가을 기온을 20으로 수정하세요.\n",
    "\n",
    "s = pd.Series([15, 27, 18], index = ['봄', '여름', '가을'])\n",
    "s"
   ]
  },
  {
   "cell_type": "code",
   "execution_count": 43,
   "id": "053445d3-ef91-4022-ad5c-54ec208bb9c2",
   "metadata": {},
   "outputs": [
    {
     "data": {
      "text/plain": [
       "np.int64(15)"
      ]
     },
     "execution_count": 43,
     "metadata": {},
     "output_type": "execute_result"
    }
   ],
   "source": [
    "s.loc['봄']"
   ]
  },
  {
   "cell_type": "code",
   "execution_count": 29,
   "id": "2f5a0efd-3596-4024-a7c4-2cb4323df3bd",
   "metadata": {},
   "outputs": [
    {
     "data": {
      "text/plain": [
       "봄     15\n",
       "여름    27\n",
       "가을    20\n",
       "dtype: int64"
      ]
     },
     "execution_count": 29,
     "metadata": {},
     "output_type": "execute_result"
    }
   ],
   "source": [
    "s.loc['가을'] = 20\n",
    "s"
   ]
  },
  {
   "cell_type": "code",
   "execution_count": null,
   "id": "8577546f-87c4-4911-83dd-6d85dfbd1af8",
   "metadata": {},
   "outputs": [],
   "source": []
  },
  {
   "cell_type": "code",
   "execution_count": null,
   "id": "1c578a5c-d790-4a0d-9fcc-4ec6d3536bc4",
   "metadata": {},
   "outputs": [],
   "source": [
    "# 일별 매출 데이터를 시리즈로 만들어주세요.\n",
    "# 값은 매출 [1000, 1200, 1300] 이고, 인덱스는 날짜 ['01-01', '01-02', '01-03'] 입니다.\n",
    "# 1. 1월 1일 매출을 조회하세요. (결과: 1000)\n",
    "# 2. 1월 2일 매출을 1250으로 수정하세요"
   ]
  },
  {
   "cell_type": "code",
   "execution_count": 30,
   "id": "0ab950b3-e95a-40b9-a8a8-6afeeb62c4cc",
   "metadata": {},
   "outputs": [
    {
     "data": {
      "text/plain": [
       "01-01    1000\n",
       "01-02    1200\n",
       "01-03    1300\n",
       "dtype: int64"
      ]
     },
     "execution_count": 30,
     "metadata": {},
     "output_type": "execute_result"
    }
   ],
   "source": [
    "s = pd.Series([1000, 1200, 1300], index = ['01-01', '01-02', '01-03'])\n",
    "s"
   ]
  },
  {
   "cell_type": "code",
   "execution_count": 31,
   "id": "18f9a2d6-5f04-4891-97cb-63b254563bc4",
   "metadata": {},
   "outputs": [
    {
     "data": {
      "text/plain": [
       "np.int64(1000)"
      ]
     },
     "execution_count": 31,
     "metadata": {},
     "output_type": "execute_result"
    }
   ],
   "source": [
    "s.loc['01-01']"
   ]
  },
  {
   "cell_type": "code",
   "execution_count": 33,
   "id": "e0371316-a3af-4c3c-86e6-67cac3e509fd",
   "metadata": {},
   "outputs": [
    {
     "data": {
      "text/plain": [
       "01-01    1000\n",
       "01-02    1250\n",
       "01-03    1300\n",
       "dtype: int64"
      ]
     },
     "execution_count": 33,
     "metadata": {},
     "output_type": "execute_result"
    }
   ],
   "source": [
    "s.loc['01-02'] = 1250\n",
    "s"
   ]
  },
  {
   "cell_type": "code",
   "execution_count": null,
   "id": "66c54227-60d9-45a3-afa4-3e666859066d",
   "metadata": {},
   "outputs": [],
   "source": []
  },
  {
   "cell_type": "code",
   "execution_count": null,
   "id": "5bd04b36-bc5b-446a-b3ee-a22bc60fe954",
   "metadata": {},
   "outputs": [],
   "source": [
    "# 요일별 매출 데이터를 시리즈로 만들어주세요.\n",
    "# 값은 매출 [300, 400, 500] 이고, 인덱스는 요일 ['월', '화', '수'] 입니다.\n",
    "# 1. 화요일 매출을 조회하세요. (결과: 400)\n",
    "# 2. 수요일 매출을 550으로 수정하세요"
   ]
  },
  {
   "cell_type": "code",
   "execution_count": 47,
   "id": "ae4c7106-7433-4c94-b9ae-682af5a36c14",
   "metadata": {},
   "outputs": [
    {
     "data": {
      "text/plain": [
       "월    300\n",
       "화    400\n",
       "수    500\n",
       "dtype: int64"
      ]
     },
     "execution_count": 47,
     "metadata": {},
     "output_type": "execute_result"
    }
   ],
   "source": [
    "s = pd.Series([300, 400, 500], index = ['월', '화', '수'])\n",
    "s"
   ]
  },
  {
   "cell_type": "code",
   "execution_count": 48,
   "id": "ae686cb9-d40f-44bb-b9d7-5d6bb57d04a5",
   "metadata": {},
   "outputs": [
    {
     "data": {
      "text/plain": [
       "np.int64(400)"
      ]
     },
     "execution_count": 48,
     "metadata": {},
     "output_type": "execute_result"
    }
   ],
   "source": [
    "s.loc['화']"
   ]
  },
  {
   "cell_type": "code",
   "execution_count": 38,
   "id": "a42eae2f-7a28-44c1-b05b-627f9e1eaa6e",
   "metadata": {},
   "outputs": [
    {
     "data": {
      "text/plain": [
       "월    300\n",
       "화    400\n",
       "수    550\n",
       "dtype: object"
      ]
     },
     "execution_count": 38,
     "metadata": {},
     "output_type": "execute_result"
    }
   ],
   "source": [
    "s.loc['수'] = 550\n",
    "s"
   ]
  },
  {
   "cell_type": "code",
   "execution_count": null,
   "id": "56177937-1bdb-41e7-81e9-0cb82a8b5be3",
   "metadata": {},
   "outputs": [],
   "source": []
  },
  {
   "cell_type": "code",
   "execution_count": null,
   "id": "1b31fdd8-c8c5-4c9a-8c5c-0dea762511b4",
   "metadata": {},
   "outputs": [],
   "source": [
    "# 학생 성적 데이터를 데이터프레임으로 만들어주세요.\n",
    "# 첫 번째 열은 학생 이름: [\"철수\", \"영희\", \"민수\"]\n",
    "# 두 번째 열은 수학 점수: [85, 90, 78]\n",
    "# 요일별 매출 데이터를 데이터프레임으로 만들어주세요.\n",
    "# 첫 번째 열은 요일: [\"월\", \"화\", \"수\"]\n",
    "# 두 번째 열은 매출: [1000, 1200, 900]"
   ]
  },
  {
   "cell_type": "code",
   "execution_count": 51,
   "id": "f94f593f-3ee3-4512-bc5f-5758e3096100",
   "metadata": {},
   "outputs": [],
   "source": [
    "data = {'name':[\"철수\", \"영희\", \"민수\"],\n",
    "        'math':[85, 90, 78]\n",
    "        }"
   ]
  },
  {
   "cell_type": "code",
   "execution_count": 57,
   "id": "35aab169-d7f1-44e9-88f9-e9c240443ca3",
   "metadata": {},
   "outputs": [
    {
     "data": {
      "text/html": [
       "<div>\n",
       "<style scoped>\n",
       "    .dataframe tbody tr th:only-of-type {\n",
       "        vertical-align: middle;\n",
       "    }\n",
       "\n",
       "    .dataframe tbody tr th {\n",
       "        vertical-align: top;\n",
       "    }\n",
       "\n",
       "    .dataframe thead th {\n",
       "        text-align: right;\n",
       "    }\n",
       "</style>\n",
       "<table border=\"1\" class=\"dataframe\">\n",
       "  <thead>\n",
       "    <tr style=\"text-align: right;\">\n",
       "      <th></th>\n",
       "      <th>day</th>\n",
       "      <th>sales</th>\n",
       "    </tr>\n",
       "  </thead>\n",
       "  <tbody>\n",
       "    <tr>\n",
       "      <th>0</th>\n",
       "      <td>월</td>\n",
       "      <td>1000</td>\n",
       "    </tr>\n",
       "    <tr>\n",
       "      <th>1</th>\n",
       "      <td>화</td>\n",
       "      <td>1200</td>\n",
       "    </tr>\n",
       "    <tr>\n",
       "      <th>2</th>\n",
       "      <td>수</td>\n",
       "      <td>900</td>\n",
       "    </tr>\n",
       "  </tbody>\n",
       "</table>\n",
       "</div>"
      ],
      "text/plain": [
       "  day  sales\n",
       "0   월   1000\n",
       "1   화   1200\n",
       "2   수    900"
      ]
     },
     "execution_count": 57,
     "metadata": {},
     "output_type": "execute_result"
    }
   ],
   "source": [
    "df = pd.DataFrame(data)\n",
    "df"
   ]
  },
  {
   "cell_type": "code",
   "execution_count": 54,
   "id": "c3403fbb-f492-419a-9bbc-5022759565b4",
   "metadata": {},
   "outputs": [],
   "source": [
    "data = {'day':[\"월\", \"화\", \"수\"],\n",
    "        'sales':[1000, 1200, 900]\n",
    "        }"
   ]
  },
  {
   "cell_type": "code",
   "execution_count": 55,
   "id": "bed1a108-2ab0-41b1-abc1-119e7bf65cf6",
   "metadata": {},
   "outputs": [
    {
     "data": {
      "text/html": [
       "<div>\n",
       "<style scoped>\n",
       "    .dataframe tbody tr th:only-of-type {\n",
       "        vertical-align: middle;\n",
       "    }\n",
       "\n",
       "    .dataframe tbody tr th {\n",
       "        vertical-align: top;\n",
       "    }\n",
       "\n",
       "    .dataframe thead th {\n",
       "        text-align: right;\n",
       "    }\n",
       "</style>\n",
       "<table border=\"1\" class=\"dataframe\">\n",
       "  <thead>\n",
       "    <tr style=\"text-align: right;\">\n",
       "      <th></th>\n",
       "      <th>day</th>\n",
       "      <th>sales</th>\n",
       "    </tr>\n",
       "  </thead>\n",
       "  <tbody>\n",
       "    <tr>\n",
       "      <th>0</th>\n",
       "      <td>월</td>\n",
       "      <td>1000</td>\n",
       "    </tr>\n",
       "    <tr>\n",
       "      <th>1</th>\n",
       "      <td>화</td>\n",
       "      <td>1200</td>\n",
       "    </tr>\n",
       "    <tr>\n",
       "      <th>2</th>\n",
       "      <td>수</td>\n",
       "      <td>900</td>\n",
       "    </tr>\n",
       "  </tbody>\n",
       "</table>\n",
       "</div>"
      ],
      "text/plain": [
       "  day  sales\n",
       "0   월   1000\n",
       "1   화   1200\n",
       "2   수    900"
      ]
     },
     "execution_count": 55,
     "metadata": {},
     "output_type": "execute_result"
    }
   ],
   "source": [
    "df = pd.DataFrame(data)\n",
    "df"
   ]
  },
  {
   "cell_type": "code",
   "execution_count": null,
   "id": "eb79281c-aef9-48b0-be6a-54c401f737c3",
   "metadata": {},
   "outputs": [],
   "source": []
  },
  {
   "cell_type": "code",
   "execution_count": null,
   "id": "3c423e79-ddc2-40ca-ba9f-4de9c2711a12",
   "metadata": {},
   "outputs": [],
   "source": [
    "# 과일 판매 데이터를 데이터프레임으로 만들어주세요.\n",
    "# 값은 [[30, 50], [20, 40]]\n",
    "# 행 이름(index)은 ['사과', '배']\n",
    "# 열 이름(columns)은 ['판매량', '재고']\n",
    "# 1. 사과의 판매량을 조회하세요. (결과: 30)\n",
    "# 2. 새로운 열 '가격'을 추가하고, 사과는 1000원, 배는 1200원으로 입력하세요"
   ]
  },
  {
   "cell_type": "code",
   "execution_count": 63,
   "id": "bf188040-3336-471a-9d2f-4f6233691c8f",
   "metadata": {},
   "outputs": [
    {
     "data": {
      "text/html": [
       "<div>\n",
       "<style scoped>\n",
       "    .dataframe tbody tr th:only-of-type {\n",
       "        vertical-align: middle;\n",
       "    }\n",
       "\n",
       "    .dataframe tbody tr th {\n",
       "        vertical-align: top;\n",
       "    }\n",
       "\n",
       "    .dataframe thead th {\n",
       "        text-align: right;\n",
       "    }\n",
       "</style>\n",
       "<table border=\"1\" class=\"dataframe\">\n",
       "  <thead>\n",
       "    <tr style=\"text-align: right;\">\n",
       "      <th></th>\n",
       "      <th>판매량</th>\n",
       "      <th>재고</th>\n",
       "    </tr>\n",
       "  </thead>\n",
       "  <tbody>\n",
       "    <tr>\n",
       "      <th>사과</th>\n",
       "      <td>30</td>\n",
       "      <td>50</td>\n",
       "    </tr>\n",
       "    <tr>\n",
       "      <th>배</th>\n",
       "      <td>20</td>\n",
       "      <td>40</td>\n",
       "    </tr>\n",
       "  </tbody>\n",
       "</table>\n",
       "</div>"
      ],
      "text/plain": [
       "    판매량  재고\n",
       "사과   30  50\n",
       "배    20  40"
      ]
     },
     "execution_count": 63,
     "metadata": {},
     "output_type": "execute_result"
    }
   ],
   "source": [
    "data = np.array([[30, 50], [20, 40]])\n",
    "\n",
    "df = pd.DataFrame(data, \n",
    "                  index=['사과', '배'], \n",
    "                  columns=['판매량', '재고']\n",
    "                 )\n",
    "\n",
    "df"
   ]
  },
  {
   "cell_type": "code",
   "execution_count": 64,
   "id": "db4f9ada-dfc9-4859-b522-beb759816070",
   "metadata": {},
   "outputs": [
    {
     "data": {
      "text/plain": [
       "np.int64(30)"
      ]
     },
     "execution_count": 64,
     "metadata": {},
     "output_type": "execute_result"
    }
   ],
   "source": [
    "df.loc['사과', '판매량']"
   ]
  },
  {
   "cell_type": "code",
   "execution_count": 66,
   "id": "f91c0a5c-8a6f-40eb-abac-7fafa275a532",
   "metadata": {},
   "outputs": [
    {
     "data": {
      "text/html": [
       "<div>\n",
       "<style scoped>\n",
       "    .dataframe tbody tr th:only-of-type {\n",
       "        vertical-align: middle;\n",
       "    }\n",
       "\n",
       "    .dataframe tbody tr th {\n",
       "        vertical-align: top;\n",
       "    }\n",
       "\n",
       "    .dataframe thead th {\n",
       "        text-align: right;\n",
       "    }\n",
       "</style>\n",
       "<table border=\"1\" class=\"dataframe\">\n",
       "  <thead>\n",
       "    <tr style=\"text-align: right;\">\n",
       "      <th></th>\n",
       "      <th>판매량</th>\n",
       "      <th>재고</th>\n",
       "      <th>가격</th>\n",
       "    </tr>\n",
       "  </thead>\n",
       "  <tbody>\n",
       "    <tr>\n",
       "      <th>사과</th>\n",
       "      <td>30</td>\n",
       "      <td>50</td>\n",
       "      <td>1000</td>\n",
       "    </tr>\n",
       "    <tr>\n",
       "      <th>배</th>\n",
       "      <td>20</td>\n",
       "      <td>40</td>\n",
       "      <td>1200</td>\n",
       "    </tr>\n",
       "  </tbody>\n",
       "</table>\n",
       "</div>"
      ],
      "text/plain": [
       "    판매량  재고    가격\n",
       "사과   30  50  1000\n",
       "배    20  40  1200"
      ]
     },
     "execution_count": 66,
     "metadata": {},
     "output_type": "execute_result"
    }
   ],
   "source": [
    "df['가격'] = [1000,1200]\n",
    "df"
   ]
  },
  {
   "cell_type": "code",
   "execution_count": null,
   "id": "36ebed2e-75d5-48cb-aca8-03b58340705b",
   "metadata": {},
   "outputs": [],
   "source": []
  },
  {
   "cell_type": "code",
   "execution_count": null,
   "id": "18c70363-e76a-433d-a7f2-c8279c154468",
   "metadata": {},
   "outputs": [],
   "source": [
    "# 도시 데이터를 데이터프레임으로 만들어주세요.\n",
    "# 값은 [[950, 1200], [500, 800]]\n",
    "# 행 이름(index)은 ['서울', '부산']\n",
    "# 열 이름(columns)은 ['인구', '면적']\n",
    "# 1. 서울의 면적을 조회하세요. (결과: 1200)\n",
    "# 2. 새로운 열 '특산물'을 추가하고, 서울은 \"김치\", 부산은 \"어묵\"으로 입력하세요."
   ]
  },
  {
   "cell_type": "code",
   "execution_count": 67,
   "id": "c4dca4c1-ea73-4dc9-a6a7-9e23b75ede07",
   "metadata": {},
   "outputs": [
    {
     "data": {
      "text/html": [
       "<div>\n",
       "<style scoped>\n",
       "    .dataframe tbody tr th:only-of-type {\n",
       "        vertical-align: middle;\n",
       "    }\n",
       "\n",
       "    .dataframe tbody tr th {\n",
       "        vertical-align: top;\n",
       "    }\n",
       "\n",
       "    .dataframe thead th {\n",
       "        text-align: right;\n",
       "    }\n",
       "</style>\n",
       "<table border=\"1\" class=\"dataframe\">\n",
       "  <thead>\n",
       "    <tr style=\"text-align: right;\">\n",
       "      <th></th>\n",
       "      <th>인구</th>\n",
       "      <th>면적</th>\n",
       "    </tr>\n",
       "  </thead>\n",
       "  <tbody>\n",
       "    <tr>\n",
       "      <th>서울</th>\n",
       "      <td>950</td>\n",
       "      <td>1200</td>\n",
       "    </tr>\n",
       "    <tr>\n",
       "      <th>부산</th>\n",
       "      <td>500</td>\n",
       "      <td>800</td>\n",
       "    </tr>\n",
       "  </tbody>\n",
       "</table>\n",
       "</div>"
      ],
      "text/plain": [
       "     인구    면적\n",
       "서울  950  1200\n",
       "부산  500   800"
      ]
     },
     "execution_count": 67,
     "metadata": {},
     "output_type": "execute_result"
    }
   ],
   "source": [
    "data = np.array([[950, 1200], [500, 800]])\n",
    "\n",
    "df = pd.DataFrame(data, \n",
    "                  index=['서울', '부산'], \n",
    "                  columns=['인구', '면적']\n",
    "                 )\n",
    "\n",
    "df"
   ]
  },
  {
   "cell_type": "code",
   "execution_count": 68,
   "id": "b261eddf-8a1a-42a8-bd65-3d2bad7639d8",
   "metadata": {},
   "outputs": [
    {
     "data": {
      "text/plain": [
       "np.int64(1200)"
      ]
     },
     "execution_count": 68,
     "metadata": {},
     "output_type": "execute_result"
    }
   ],
   "source": [
    "df.loc['서울', '면적']"
   ]
  },
  {
   "cell_type": "code",
   "execution_count": 70,
   "id": "cfc6d7fb-2340-441f-bbd2-f3aab3e64045",
   "metadata": {},
   "outputs": [
    {
     "data": {
      "text/html": [
       "<div>\n",
       "<style scoped>\n",
       "    .dataframe tbody tr th:only-of-type {\n",
       "        vertical-align: middle;\n",
       "    }\n",
       "\n",
       "    .dataframe tbody tr th {\n",
       "        vertical-align: top;\n",
       "    }\n",
       "\n",
       "    .dataframe thead th {\n",
       "        text-align: right;\n",
       "    }\n",
       "</style>\n",
       "<table border=\"1\" class=\"dataframe\">\n",
       "  <thead>\n",
       "    <tr style=\"text-align: right;\">\n",
       "      <th></th>\n",
       "      <th>인구</th>\n",
       "      <th>면적</th>\n",
       "      <th>특산물</th>\n",
       "    </tr>\n",
       "  </thead>\n",
       "  <tbody>\n",
       "    <tr>\n",
       "      <th>서울</th>\n",
       "      <td>950</td>\n",
       "      <td>1200</td>\n",
       "      <td>김치</td>\n",
       "    </tr>\n",
       "    <tr>\n",
       "      <th>부산</th>\n",
       "      <td>500</td>\n",
       "      <td>800</td>\n",
       "      <td>어묵</td>\n",
       "    </tr>\n",
       "  </tbody>\n",
       "</table>\n",
       "</div>"
      ],
      "text/plain": [
       "     인구    면적 특산물\n",
       "서울  950  1200  김치\n",
       "부산  500   800  어묵"
      ]
     },
     "execution_count": 70,
     "metadata": {},
     "output_type": "execute_result"
    }
   ],
   "source": [
    "df['특산물'] = ['김치','어묵']\n",
    "df"
   ]
  },
  {
   "cell_type": "code",
   "execution_count": null,
   "id": "e84a0990-474b-4574-89cc-2fe581834fb1",
   "metadata": {},
   "outputs": [],
   "source": []
  },
  {
   "cell_type": "code",
   "execution_count": null,
   "id": "9cbf99f5-8013-457a-ba73-cd1e4f0e744e",
   "metadata": {},
   "outputs": [],
   "source": [
    "# 도서 데이터를 데이터프레임으로 만들어주세요.\n",
    "# 값은 [[15000, '홍길동전'], [20000, '해리포터']]\n",
    "# 행 이름(index)은 ['책1', '책2']\n",
    "# 열 이름(columns)은 ['가격', '제목']\n",
    "# 1. 책2의 가격을 조회하세요. (결과: 20000)\n",
    "# 2. 새로운 열 '저자'를 가격 뒤에 추가하고, 책1은 \"허균\", 책2는 \"J.K. 롤링\"으로 입력하세요"
   ]
  },
  {
   "cell_type": "code",
   "execution_count": 71,
   "id": "65e8e573-7f83-4e76-9d1c-10415b746f71",
   "metadata": {},
   "outputs": [
    {
     "data": {
      "text/html": [
       "<div>\n",
       "<style scoped>\n",
       "    .dataframe tbody tr th:only-of-type {\n",
       "        vertical-align: middle;\n",
       "    }\n",
       "\n",
       "    .dataframe tbody tr th {\n",
       "        vertical-align: top;\n",
       "    }\n",
       "\n",
       "    .dataframe thead th {\n",
       "        text-align: right;\n",
       "    }\n",
       "</style>\n",
       "<table border=\"1\" class=\"dataframe\">\n",
       "  <thead>\n",
       "    <tr style=\"text-align: right;\">\n",
       "      <th></th>\n",
       "      <th>가격</th>\n",
       "      <th>제목</th>\n",
       "    </tr>\n",
       "  </thead>\n",
       "  <tbody>\n",
       "    <tr>\n",
       "      <th>책1</th>\n",
       "      <td>15000</td>\n",
       "      <td>홍길동전</td>\n",
       "    </tr>\n",
       "    <tr>\n",
       "      <th>책2</th>\n",
       "      <td>20000</td>\n",
       "      <td>해리포터</td>\n",
       "    </tr>\n",
       "  </tbody>\n",
       "</table>\n",
       "</div>"
      ],
      "text/plain": [
       "       가격    제목\n",
       "책1  15000  홍길동전\n",
       "책2  20000  해리포터"
      ]
     },
     "execution_count": 71,
     "metadata": {},
     "output_type": "execute_result"
    }
   ],
   "source": [
    "data = np.array([[15000, '홍길동전'], [20000, '해리포터']])\n",
    "\n",
    "df = pd.DataFrame(data,\n",
    "                  index=['책1', '책2'],\n",
    "                  columns=['가격', '제목']\n",
    "                 )\n",
    "df"
   ]
  },
  {
   "cell_type": "code",
   "execution_count": 84,
   "id": "4b3ff815-53be-4dc2-8fcc-b5e4ca6227e6",
   "metadata": {},
   "outputs": [
    {
     "data": {
      "text/plain": [
       "'20000'"
      ]
     },
     "execution_count": 84,
     "metadata": {},
     "output_type": "execute_result"
    }
   ],
   "source": [
    "df.loc['책2','가격']"
   ]
  },
  {
   "cell_type": "code",
   "execution_count": 86,
   "id": "e227ee5a-b034-450c-90ac-453683bf97d3",
   "metadata": {},
   "outputs": [
    {
     "data": {
      "text/html": [
       "<div>\n",
       "<style scoped>\n",
       "    .dataframe tbody tr th:only-of-type {\n",
       "        vertical-align: middle;\n",
       "    }\n",
       "\n",
       "    .dataframe tbody tr th {\n",
       "        vertical-align: top;\n",
       "    }\n",
       "\n",
       "    .dataframe thead th {\n",
       "        text-align: right;\n",
       "    }\n",
       "</style>\n",
       "<table border=\"1\" class=\"dataframe\">\n",
       "  <thead>\n",
       "    <tr style=\"text-align: right;\">\n",
       "      <th></th>\n",
       "      <th>가격</th>\n",
       "      <th>저자</th>\n",
       "      <th>제목</th>\n",
       "    </tr>\n",
       "  </thead>\n",
       "  <tbody>\n",
       "    <tr>\n",
       "      <th>책1</th>\n",
       "      <td>15000</td>\n",
       "      <td>허균</td>\n",
       "      <td>홍길동전</td>\n",
       "    </tr>\n",
       "    <tr>\n",
       "      <th>책2</th>\n",
       "      <td>20000</td>\n",
       "      <td>J.K. 롤링</td>\n",
       "      <td>해리포터</td>\n",
       "    </tr>\n",
       "  </tbody>\n",
       "</table>\n",
       "</div>"
      ],
      "text/plain": [
       "       가격       저자    제목\n",
       "책1  15000       허균  홍길동전\n",
       "책2  20000  J.K. 롤링  해리포터"
      ]
     },
     "execution_count": 86,
     "metadata": {},
     "output_type": "execute_result"
    }
   ],
   "source": [
    "df.insert(1, '저자', ['허균', 'J.K. 롤링'])\n",
    "df"
   ]
  },
  {
   "cell_type": "code",
   "execution_count": null,
   "id": "6c0e4dbc-2eb3-4e09-9373-141c6faa8fa5",
   "metadata": {},
   "outputs": [],
   "source": []
  },
  {
   "cell_type": "code",
   "execution_count": null,
   "id": "63db7864-559c-492d-925f-131ea4d5999e",
   "metadata": {},
   "outputs": [],
   "source": []
  },
  {
   "cell_type": "code",
   "execution_count": null,
   "id": "03891f7b-b5bd-4ef0-aa69-49b8cce35737",
   "metadata": {},
   "outputs": [],
   "source": []
  }
 ],
 "metadata": {
  "kernelspec": {
   "display_name": "Python 3 (ipykernel)",
   "language": "python",
   "name": "python3"
  },
  "language_info": {
   "codemirror_mode": {
    "name": "ipython",
    "version": 3
   },
   "file_extension": ".py",
   "mimetype": "text/x-python",
   "name": "python",
   "nbconvert_exporter": "python",
   "pygments_lexer": "ipython3",
   "version": "3.10.18"
  }
 },
 "nbformat": 4,
 "nbformat_minor": 5
}
