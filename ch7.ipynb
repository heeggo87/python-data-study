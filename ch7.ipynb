{
 "cells": [
  {
   "cell_type": "code",
   "execution_count": 1,
   "id": "387b7acb-86c4-4026-9edb-21d22b9edae6",
   "metadata": {},
   "outputs": [],
   "source": [
    "import numpy as np\n",
    "import pandas as pd"
   ]
  },
  {
   "cell_type": "code",
   "execution_count": 2,
   "id": "b825098c-5f3f-4734-84cc-bd90e7655232",
   "metadata": {},
   "outputs": [],
   "source": [
    "# 데이터 합치기와 재구성\n",
    "# 멀티 인덱스\n",
    "# Series의 멀티인덱스"
   ]
  },
  {
   "cell_type": "code",
   "execution_count": 3,
   "id": "1b336022-b532-4576-bd86-a0e859b629d6",
   "metadata": {},
   "outputs": [
    {
     "data": {
      "text/plain": [
       "1학년  a반    85\n",
       "     a반    90\n",
       "     b반    78\n",
       "2학년  a반    92\n",
       "     b반    88\n",
       "     b반    75\n",
       "dtype: int64"
      ]
     },
     "execution_count": 3,
     "metadata": {},
     "output_type": "execute_result"
    }
   ],
   "source": [
    "# 학생 점수를 시리즈로 생성\n",
    "# pd.Series(리스트)\n",
    "# pd.Series(리스트, [인덱스])\n",
    "# 인덱스는 단일x 멀티o\n",
    "# 학년-반\n",
    "# 첫번쨰 인덱스: 학년(1,2)\n",
    "# 첫번쨰 인덱스: 반(A,B)\n",
    "s = pd.Series([85,90,78,92,88,75],\n",
    "             index=[[\"1학년\", \"1학년\", \"1학년\", \"2학년\", \"2학년\", \"2학년\"],\n",
    "                    [\"a반\", \"a반\", \"b반\", \"a반\", \"b반\", \"b반\"]]\n",
    "             )\n",
    "s"
   ]
  },
  {
   "cell_type": "code",
   "execution_count": 4,
   "id": "5bda4fef-9a9a-4a11-9bf8-e3a4c5f8e01a",
   "metadata": {},
   "outputs": [
    {
     "data": {
      "text/plain": [
       "a반    85\n",
       "a반    90\n",
       "b반    78\n",
       "dtype: int64"
      ]
     },
     "execution_count": 4,
     "metadata": {},
     "output_type": "execute_result"
    }
   ],
   "source": [
    "# 인덱스로 값 꺼내기\n",
    "# 시리즈에서 1학년만 꺼내기\n",
    "s['1학년']"
   ]
  },
  {
   "cell_type": "code",
   "execution_count": 5,
   "id": "a483925c-4d75-442f-b649-4b50141872b2",
   "metadata": {},
   "outputs": [
    {
     "data": {
      "text/plain": [
       "1학년  a반    85\n",
       "     a반    90\n",
       "dtype: int64"
      ]
     },
     "execution_count": 5,
     "metadata": {},
     "output_type": "execute_result"
    }
   ],
   "source": [
    "s.index\n",
    "s.loc[(('1학년', 'a반'))]"
   ]
  },
  {
   "cell_type": "code",
   "execution_count": 6,
   "id": "188e7fea-e870-496a-9132-8ca4747256b6",
   "metadata": {},
   "outputs": [
    {
     "data": {
      "text/plain": [
       "1학년  a반    85\n",
       "     a반    90\n",
       "     b반    78\n",
       "dtype: int64"
      ]
     },
     "execution_count": 6,
     "metadata": {},
     "output_type": "execute_result"
    }
   ],
   "source": [
    "# 1학년 a반과 b반 모두 가지고 오기 (여러개 선택)\n",
    "s.index\n",
    "s.loc[('1학년', ['a반', 'b반'])]"
   ]
  },
  {
   "cell_type": "code",
   "execution_count": 7,
   "id": "06c49081-f4f1-4d06-922d-da7e4d7a2abf",
   "metadata": {},
   "outputs": [
    {
     "data": {
      "text/plain": [
       "서울  강남점     120\n",
       "    강북점     100\n",
       "부산  해운대점     90\n",
       "    서면점      80\n",
       "dtype: int64"
      ]
     },
     "execution_count": 7,
     "metadata": {},
     "output_type": "execute_result"
    }
   ],
   "source": [
    "# 1.\n",
    "# 매출 데이터를 담은 Series를 만들고, 멀티 인덱스를 설정하세요\n",
    "# 인덱스: 지역-지점\n",
    "# 값: 매출\n",
    "s = pd.Series([120,100,90,80],\n",
    "             index=[['서울','서울','부산','부산'],\n",
    "                    ['강남점','강북점','해운대점','서면점']]\n",
    "             )\n",
    "s"
   ]
  },
  {
   "cell_type": "code",
   "execution_count": 8,
   "id": "4aa0eb6c-bacb-4743-9f25-23621dd74b39",
   "metadata": {},
   "outputs": [
    {
     "data": {
      "text/plain": [
       "강남점    120\n",
       "강북점    100\n",
       "dtype: int64"
      ]
     },
     "execution_count": 8,
     "metadata": {},
     "output_type": "execute_result"
    }
   ],
   "source": [
    "# 서울 전체 매출을 조회하세요\n",
    "s.index\n",
    "s['서울']"
   ]
  },
  {
   "cell_type": "code",
   "execution_count": 9,
   "id": "166c34dd-f873-4fc8-bbd6-e1c43db7aa7a",
   "metadata": {},
   "outputs": [
    {
     "data": {
      "text/plain": [
       "np.int64(90)"
      ]
     },
     "execution_count": 9,
     "metadata": {},
     "output_type": "execute_result"
    }
   ],
   "source": [
    "# 부산 해운대점 매출을 조회하세요\n",
    "s.index\n",
    "s.loc[('부산','해운대점')]"
   ]
  },
  {
   "cell_type": "code",
   "execution_count": 10,
   "id": "7d011ef0-a963-4dbf-bee1-48400a35b82d",
   "metadata": {},
   "outputs": [
    {
     "data": {
      "text/plain": [
       "전자제품  노트북    300\n",
       "      휴대폰    250\n",
       "식품    라면     500\n",
       "      과자     400\n",
       "dtype: int64"
      ]
     },
     "execution_count": 10,
     "metadata": {},
     "output_type": "execute_result"
    }
   ],
   "source": [
    "# 2.\n",
    "# 쇼핑몰의 판매량 데이터를 담은 Series를 만들고, 멀티 인덱스을 설정하세요\n",
    "# 인덱스 : 카테고리–상품명\n",
    "# 값: 판매량\n",
    "s = pd.Series([300,250,500,400],\n",
    "             index=[['전자제품','전자제품','식품','식품'],\n",
    "                    ['노트북','휴대폰','라면','과자']]\n",
    "             )\n",
    "s"
   ]
  },
  {
   "cell_type": "code",
   "execution_count": 11,
   "id": "d944c8c8-e754-48df-b485-374d132209c4",
   "metadata": {},
   "outputs": [
    {
     "data": {
      "text/plain": [
       "노트북    300\n",
       "휴대폰    250\n",
       "dtype: int64"
      ]
     },
     "execution_count": 11,
     "metadata": {},
     "output_type": "execute_result"
    }
   ],
   "source": [
    "# 전자제품 카테고리 전체 판매량을 조회하세요\n",
    "s.index\n",
    "s['전자제품']"
   ]
  },
  {
   "cell_type": "code",
   "execution_count": 12,
   "id": "6aefcc3e-d76b-48d2-98ae-25d2d1660c8a",
   "metadata": {},
   "outputs": [
    {
     "data": {
      "text/plain": [
       "np.int64(500)"
      ]
     },
     "execution_count": 12,
     "metadata": {},
     "output_type": "execute_result"
    }
   ],
   "source": [
    "# 식품 카테고리의 라면 판매량을 조회하세요\n",
    "s.index\n",
    "s.loc[('식품',  '라면')]"
   ]
  },
  {
   "cell_type": "code",
   "execution_count": null,
   "id": "6130e471-c6e8-4651-8faa-3fb7b6248f9a",
   "metadata": {},
   "outputs": [],
   "source": []
  },
  {
   "cell_type": "code",
   "execution_count": 13,
   "id": "793cd35f-2898-451b-9374-68c17a5150a4",
   "metadata": {},
   "outputs": [
    {
     "data": {
      "text/plain": [
       "1학년  국어    40\n",
       "     수학    35\n",
       "2학년  국어    50\n",
       "     수학    45\n",
       "dtype: int64"
      ]
     },
     "execution_count": 13,
     "metadata": {},
     "output_type": "execute_result"
    }
   ],
   "source": [
    "# 3.\n",
    "# 도서관의 대출 건수를 담은 Series를 만들고 멀티 인덱스를 설정하세요\n",
    "# 인덱스: 학년–과목\n",
    "# 값: 대출 건수\n",
    "s = pd.Series([40,35,50,45],\n",
    "             index=[['1학년','1학년','2학년','2학년'],\n",
    "                    ['국어','수학','국어','수학']]\n",
    "             )\n",
    "s"
   ]
  },
  {
   "cell_type": "code",
   "execution_count": 14,
   "id": "252a7aef-d3e4-4e16-a1c9-807c2a872bdf",
   "metadata": {},
   "outputs": [
    {
     "data": {
      "text/plain": [
       "국어    40\n",
       "수학    35\n",
       "dtype: int64"
      ]
     },
     "execution_count": 14,
     "metadata": {},
     "output_type": "execute_result"
    }
   ],
   "source": [
    "# 1학년 전체 대출 건수를 조회하세요\n",
    "s.index\n",
    "s['1학년']"
   ]
  },
  {
   "cell_type": "code",
   "execution_count": 17,
   "id": "d4e3fb25-5ac2-4d9e-99d7-edd373c9e1b3",
   "metadata": {},
   "outputs": [
    {
     "data": {
      "text/plain": [
       "np.int64(45)"
      ]
     },
     "execution_count": 17,
     "metadata": {},
     "output_type": "execute_result"
    }
   ],
   "source": [
    "# 2학년 수학 과목의 대출 건수를 조회하세요\n",
    "s.index\n",
    "s.loc[('2학년', '수학')]"
   ]
  },
  {
   "cell_type": "code",
   "execution_count": 21,
   "id": "36ba8216-94e0-438a-9e51-f37bef1e4e67",
   "metadata": {},
   "outputs": [
    {
     "data": {
      "text/html": [
       "<div>\n",
       "<style scoped>\n",
       "    .dataframe tbody tr th:only-of-type {\n",
       "        vertical-align: middle;\n",
       "    }\n",
       "\n",
       "    .dataframe tbody tr th {\n",
       "        vertical-align: top;\n",
       "    }\n",
       "\n",
       "    .dataframe thead th {\n",
       "        text-align: right;\n",
       "    }\n",
       "</style>\n",
       "<table border=\"1\" class=\"dataframe\">\n",
       "  <thead>\n",
       "    <tr style=\"text-align: right;\">\n",
       "      <th></th>\n",
       "      <th></th>\n",
       "      <th>제품1</th>\n",
       "      <th>제품2</th>\n",
       "    </tr>\n",
       "  </thead>\n",
       "  <tbody>\n",
       "    <tr>\n",
       "      <th rowspan=\"2\" valign=\"top\">2020년</th>\n",
       "      <th>구월점</th>\n",
       "      <td>50</td>\n",
       "      <td>60</td>\n",
       "    </tr>\n",
       "    <tr>\n",
       "      <th>부평점</th>\n",
       "      <td>70</td>\n",
       "      <td>80</td>\n",
       "    </tr>\n",
       "    <tr>\n",
       "      <th rowspan=\"2\" valign=\"top\">2021년</th>\n",
       "      <th>구월점</th>\n",
       "      <td>100</td>\n",
       "      <td>110</td>\n",
       "    </tr>\n",
       "    <tr>\n",
       "      <th>부평점</th>\n",
       "      <td>120</td>\n",
       "      <td>130</td>\n",
       "    </tr>\n",
       "  </tbody>\n",
       "</table>\n",
       "</div>"
      ],
      "text/plain": [
       "           제품1  제품2\n",
       "2020년 구월점   50   60\n",
       "      부평점   70   80\n",
       "2021년 구월점  100  110\n",
       "      부평점  120  130"
      ]
     },
     "execution_count": 21,
     "metadata": {},
     "output_type": "execute_result"
    }
   ],
   "source": [
    "# 데이터 프레임의 멀티 인덱스\n",
    "# 상품 판매 데이터를 데이터프레임으로 생성\n",
    "# pd.DataFrame(2차원배열데이터)\n",
    "# pd.DataFrame(데이터,[인덱스],[컬럼])\n",
    "# 데이터: 판매량\n",
    "# 행 인덱스: 멀티(연도-지점)\n",
    "# 열 컬럼: 제품\n",
    "df = pd.DataFrame([[50,60],[70,80],[100,110],[120,130]],\n",
    "                  index=[[\"2020년\",\"2020년\",\"2021년\",\"2021년\"],\n",
    "                         [\"구월점\",\"부평점\",\"구월점\",\"부평점\"]],\n",
    "                  columns=[\"제품1\",\"제품2\"]\n",
    "                 )\n",
    "df"
   ]
  },
  {
   "cell_type": "code",
   "execution_count": 23,
   "id": "8aaa35e1-168f-40b2-9742-2717a0ababae",
   "metadata": {},
   "outputs": [
    {
     "name": "stdout",
     "output_type": "stream",
     "text": [
      "MultiIndex([('2020년', '구월점'),\n",
      "            ('2020년', '부평점'),\n",
      "            ('2021년', '구월점'),\n",
      "            ('2021년', '부평점')],\n",
      "           )\n",
      "Index(['제품1', '제품2'], dtype='object')\n"
     ]
    }
   ],
   "source": [
    "# 데이터프레임에서 데이터 꺼내기\n",
    "# 2020년도 전체 판매량 조회\n",
    "print(df.index) # 행\n",
    "print(df.columns) # 열"
   ]
  },
  {
   "cell_type": "code",
   "execution_count": 24,
   "id": "1f587368-62eb-48d0-abbb-ef4bcdd3a709",
   "metadata": {},
   "outputs": [
    {
     "data": {
      "text/html": [
       "<div>\n",
       "<style scoped>\n",
       "    .dataframe tbody tr th:only-of-type {\n",
       "        vertical-align: middle;\n",
       "    }\n",
       "\n",
       "    .dataframe tbody tr th {\n",
       "        vertical-align: top;\n",
       "    }\n",
       "\n",
       "    .dataframe thead th {\n",
       "        text-align: right;\n",
       "    }\n",
       "</style>\n",
       "<table border=\"1\" class=\"dataframe\">\n",
       "  <thead>\n",
       "    <tr style=\"text-align: right;\">\n",
       "      <th></th>\n",
       "      <th>제품1</th>\n",
       "      <th>제품2</th>\n",
       "    </tr>\n",
       "  </thead>\n",
       "  <tbody>\n",
       "    <tr>\n",
       "      <th>구월점</th>\n",
       "      <td>50</td>\n",
       "      <td>60</td>\n",
       "    </tr>\n",
       "    <tr>\n",
       "      <th>부평점</th>\n",
       "      <td>70</td>\n",
       "      <td>80</td>\n",
       "    </tr>\n",
       "  </tbody>\n",
       "</table>\n",
       "</div>"
      ],
      "text/plain": [
       "     제품1  제품2\n",
       "구월점   50   60\n",
       "부평점   70   80"
      ]
     },
     "execution_count": 24,
     "metadata": {},
     "output_type": "execute_result"
    }
   ],
   "source": [
    "df.loc['2020년']"
   ]
  },
  {
   "cell_type": "code",
   "execution_count": 27,
   "id": "5a7e304f-7188-4c1a-b355-03391b297684",
   "metadata": {},
   "outputs": [
    {
     "data": {
      "text/plain": [
       "제품1    50\n",
       "제품2    60\n",
       "Name: (2020년, 구월점), dtype: int64"
      ]
     },
     "execution_count": 27,
     "metadata": {},
     "output_type": "execute_result"
    }
   ],
   "source": [
    "# 2020년 구월점 판매량만 조회\n",
    "df.loc[('2020년', '구월점')]"
   ]
  },
  {
   "cell_type": "code",
   "execution_count": 28,
   "id": "67fa03b6-2491-482c-88da-80eddea4618c",
   "metadata": {},
   "outputs": [
    {
     "data": {
      "text/plain": [
       "np.int64(130)"
      ]
     },
     "execution_count": 28,
     "metadata": {},
     "output_type": "execute_result"
    }
   ],
   "source": [
    "# 2021년 부평점의 제품2 판매량만 조회\n",
    "df.loc[('2021년', '부평점'), '제품2']"
   ]
  },
  {
   "cell_type": "code",
   "execution_count": 30,
   "id": "2c0368d3-93e9-4c60-953e-47c3b23a3bdc",
   "metadata": {},
   "outputs": [
    {
     "data": {
      "text/html": [
       "<div>\n",
       "<style scoped>\n",
       "    .dataframe tbody tr th:only-of-type {\n",
       "        vertical-align: middle;\n",
       "    }\n",
       "\n",
       "    .dataframe tbody tr th {\n",
       "        vertical-align: top;\n",
       "    }\n",
       "\n",
       "    .dataframe thead th {\n",
       "        text-align: right;\n",
       "    }\n",
       "</style>\n",
       "<table border=\"1\" class=\"dataframe\">\n",
       "  <thead>\n",
       "    <tr style=\"text-align: right;\">\n",
       "      <th></th>\n",
       "      <th></th>\n",
       "      <th>소설</th>\n",
       "      <th>과학</th>\n",
       "    </tr>\n",
       "  </thead>\n",
       "  <tbody>\n",
       "    <tr>\n",
       "      <th rowspan=\"2\" valign=\"top\">중앙도서관</th>\n",
       "      <th>1월</th>\n",
       "      <td>120</td>\n",
       "      <td>45</td>\n",
       "    </tr>\n",
       "    <tr>\n",
       "      <th>2월</th>\n",
       "      <td>95</td>\n",
       "      <td>60</td>\n",
       "    </tr>\n",
       "    <tr>\n",
       "      <th rowspan=\"2\" valign=\"top\">시립도서관</th>\n",
       "      <th>1월</th>\n",
       "      <td>150</td>\n",
       "      <td>70</td>\n",
       "    </tr>\n",
       "    <tr>\n",
       "      <th>2월</th>\n",
       "      <td>110</td>\n",
       "      <td>55</td>\n",
       "    </tr>\n",
       "  </tbody>\n",
       "</table>\n",
       "</div>"
      ],
      "text/plain": [
       "           소설  과학\n",
       "중앙도서관 1월  120  45\n",
       "      2월   95  60\n",
       "시립도서관 1월  150  70\n",
       "      2월  110  55"
      ]
     },
     "execution_count": 30,
     "metadata": {},
     "output_type": "execute_result"
    }
   ],
   "source": [
    "# 1.\n",
    "# 도서관 대출 건수를 담은 DataFrame를 만들고, 멀티 인덱스를 설정하세요\n",
    "# 행 인덱스: 도서관–월\n",
    "# 열: 소설, 과학\n",
    "# 값: 대출 건수\n",
    "df = pd.DataFrame([[120,45],[95,60],[150,70],[110,55]],\n",
    "                  index=[[\"중앙도서관\", \"중앙도서관\", \"시립도서관\", \"시립도서관\"],\n",
    "                         [\"1월\", \"2월\", \"1월\", \"2월\"]],\n",
    "                  columns=[\"소설\", \"과학\"]\n",
    "                 )\n",
    "df"
   ]
  },
  {
   "cell_type": "code",
   "execution_count": 31,
   "id": "57aa3c01-682e-4f47-9298-45306fe9569e",
   "metadata": {},
   "outputs": [
    {
     "data": {
      "text/html": [
       "<div>\n",
       "<style scoped>\n",
       "    .dataframe tbody tr th:only-of-type {\n",
       "        vertical-align: middle;\n",
       "    }\n",
       "\n",
       "    .dataframe tbody tr th {\n",
       "        vertical-align: top;\n",
       "    }\n",
       "\n",
       "    .dataframe thead th {\n",
       "        text-align: right;\n",
       "    }\n",
       "</style>\n",
       "<table border=\"1\" class=\"dataframe\">\n",
       "  <thead>\n",
       "    <tr style=\"text-align: right;\">\n",
       "      <th></th>\n",
       "      <th>소설</th>\n",
       "      <th>과학</th>\n",
       "    </tr>\n",
       "  </thead>\n",
       "  <tbody>\n",
       "    <tr>\n",
       "      <th>1월</th>\n",
       "      <td>120</td>\n",
       "      <td>45</td>\n",
       "    </tr>\n",
       "    <tr>\n",
       "      <th>2월</th>\n",
       "      <td>95</td>\n",
       "      <td>60</td>\n",
       "    </tr>\n",
       "  </tbody>\n",
       "</table>\n",
       "</div>"
      ],
      "text/plain": [
       "     소설  과학\n",
       "1월  120  45\n",
       "2월   95  60"
      ]
     },
     "execution_count": 31,
     "metadata": {},
     "output_type": "execute_result"
    }
   ],
   "source": [
    "# 중앙도서관 전체 대출 건수를 조회하세요\n",
    "df.loc[(\"중앙도서관\")]"
   ]
  },
  {
   "cell_type": "code",
   "execution_count": 32,
   "id": "6733f55e-b139-4356-8a1b-d36eded0a39a",
   "metadata": {
    "scrolled": true
   },
   "outputs": [
    {
     "data": {
      "text/plain": [
       "np.int64(55)"
      ]
     },
     "execution_count": 32,
     "metadata": {},
     "output_type": "execute_result"
    }
   ],
   "source": [
    "# 시립도서관 2월의 과학 대출 건수를 조회하세요\n",
    "df.loc[(\"시립도서관\",'2월'),'과학']"
   ]
  },
  {
   "cell_type": "code",
   "execution_count": 35,
   "id": "b24df1e8-6595-4b6f-80b7-2a3aee2c0f19",
   "metadata": {},
   "outputs": [
    {
     "data": {
      "text/html": [
       "<div>\n",
       "<style scoped>\n",
       "    .dataframe tbody tr th:only-of-type {\n",
       "        vertical-align: middle;\n",
       "    }\n",
       "\n",
       "    .dataframe tbody tr th {\n",
       "        vertical-align: top;\n",
       "    }\n",
       "\n",
       "    .dataframe thead th {\n",
       "        text-align: right;\n",
       "    }\n",
       "</style>\n",
       "<table border=\"1\" class=\"dataframe\">\n",
       "  <thead>\n",
       "    <tr style=\"text-align: right;\">\n",
       "      <th></th>\n",
       "      <th></th>\n",
       "      <th>1분기</th>\n",
       "      <th>2분기</th>\n",
       "    </tr>\n",
       "  </thead>\n",
       "  <tbody>\n",
       "    <tr>\n",
       "      <th rowspan=\"2\" valign=\"top\">2022년</th>\n",
       "      <th>SUV</th>\n",
       "      <td>320</td>\n",
       "      <td>280</td>\n",
       "    </tr>\n",
       "    <tr>\n",
       "      <th>세단</th>\n",
       "      <td>210</td>\n",
       "      <td>230</td>\n",
       "    </tr>\n",
       "    <tr>\n",
       "      <th rowspan=\"2\" valign=\"top\">2023년</th>\n",
       "      <th>SUV</th>\n",
       "      <td>400</td>\n",
       "      <td>390</td>\n",
       "    </tr>\n",
       "    <tr>\n",
       "      <th>세단</th>\n",
       "      <td>180</td>\n",
       "      <td>200</td>\n",
       "    </tr>\n",
       "  </tbody>\n",
       "</table>\n",
       "</div>"
      ],
      "text/plain": [
       "           1분기  2분기\n",
       "2022년 SUV  320  280\n",
       "      세단   210  230\n",
       "2023년 SUV  400  390\n",
       "      세단   180  200"
      ]
     },
     "execution_count": 35,
     "metadata": {},
     "output_type": "execute_result"
    }
   ],
   "source": [
    "# 2.\n",
    "# 자동차 판매량 데이터를 담은 DataFrame를 만들고, 멀티 인덱스를 설정하세요\n",
    "# 행 인덱스: 연도–차종\n",
    "# 열: 1분기, 2분기\n",
    "# 값: 판매 대수\n",
    "df = pd.DataFrame([[320,280],[210,230],[400,390],[180,200]],\n",
    "                  index=[['2022년','2022년','2023년','2023년'],\n",
    "                        ['SUV','세단','SUV','세단']],\n",
    "                  columns=['1분기','2분기']                 \n",
    "                 )\n",
    "df"
   ]
  },
  {
   "cell_type": "code",
   "execution_count": 36,
   "id": "d08459f7-44b5-4afb-a315-d1d0a4209541",
   "metadata": {},
   "outputs": [
    {
     "data": {
      "text/html": [
       "<div>\n",
       "<style scoped>\n",
       "    .dataframe tbody tr th:only-of-type {\n",
       "        vertical-align: middle;\n",
       "    }\n",
       "\n",
       "    .dataframe tbody tr th {\n",
       "        vertical-align: top;\n",
       "    }\n",
       "\n",
       "    .dataframe thead th {\n",
       "        text-align: right;\n",
       "    }\n",
       "</style>\n",
       "<table border=\"1\" class=\"dataframe\">\n",
       "  <thead>\n",
       "    <tr style=\"text-align: right;\">\n",
       "      <th></th>\n",
       "      <th>1분기</th>\n",
       "      <th>2분기</th>\n",
       "    </tr>\n",
       "  </thead>\n",
       "  <tbody>\n",
       "    <tr>\n",
       "      <th>SUV</th>\n",
       "      <td>320</td>\n",
       "      <td>280</td>\n",
       "    </tr>\n",
       "    <tr>\n",
       "      <th>세단</th>\n",
       "      <td>210</td>\n",
       "      <td>230</td>\n",
       "    </tr>\n",
       "  </tbody>\n",
       "</table>\n",
       "</div>"
      ],
      "text/plain": [
       "     1분기  2분기\n",
       "SUV  320  280\n",
       "세단   210  230"
      ]
     },
     "execution_count": 36,
     "metadata": {},
     "output_type": "execute_result"
    }
   ],
   "source": [
    "# 2022년 전체 판매량을 조회하세요\n",
    "df.loc['2022년']"
   ]
  },
  {
   "cell_type": "code",
   "execution_count": 37,
   "id": "40e2daac-a36b-44ff-b74d-3ae9a56537d2",
   "metadata": {},
   "outputs": [
    {
     "data": {
      "text/plain": [
       "np.int64(200)"
      ]
     },
     "execution_count": 37,
     "metadata": {},
     "output_type": "execute_result"
    }
   ],
   "source": [
    "# 2023년 세단의 2분기 판매량을 조회하세요\n",
    "df.loc[('2023년','세단'),'2분기']"
   ]
  },
  {
   "cell_type": "code",
   "execution_count": 38,
   "id": "26e9f852-5dbf-4f3c-a470-544f7f006551",
   "metadata": {},
   "outputs": [
    {
     "data": {
      "text/html": [
       "<div>\n",
       "<style scoped>\n",
       "    .dataframe tbody tr th:only-of-type {\n",
       "        vertical-align: middle;\n",
       "    }\n",
       "\n",
       "    .dataframe tbody tr th {\n",
       "        vertical-align: top;\n",
       "    }\n",
       "\n",
       "    .dataframe thead th {\n",
       "        text-align: right;\n",
       "    }\n",
       "</style>\n",
       "<table border=\"1\" class=\"dataframe\">\n",
       "  <thead>\n",
       "    <tr style=\"text-align: right;\">\n",
       "      <th></th>\n",
       "      <th></th>\n",
       "      <th>싱글룸</th>\n",
       "      <th>더블룸</th>\n",
       "    </tr>\n",
       "  </thead>\n",
       "  <tbody>\n",
       "    <tr>\n",
       "      <th rowspan=\"2\" valign=\"top\">서울지점</th>\n",
       "      <th>7월</th>\n",
       "      <td>45</td>\n",
       "      <td>30</td>\n",
       "    </tr>\n",
       "    <tr>\n",
       "      <th>8월</th>\n",
       "      <td>50</td>\n",
       "      <td>35</td>\n",
       "    </tr>\n",
       "    <tr>\n",
       "      <th rowspan=\"2\" valign=\"top\">부산지점</th>\n",
       "      <th>7월</th>\n",
       "      <td>60</td>\n",
       "      <td>40</td>\n",
       "    </tr>\n",
       "    <tr>\n",
       "      <th>8월</th>\n",
       "      <td>55</td>\n",
       "      <td>38</td>\n",
       "    </tr>\n",
       "  </tbody>\n",
       "</table>\n",
       "</div>"
      ],
      "text/plain": [
       "         싱글룸  더블룸\n",
       "서울지점 7월   45   30\n",
       "     8월   50   35\n",
       "부산지점 7월   60   40\n",
       "     8월   55   38"
      ]
     },
     "execution_count": 38,
     "metadata": {},
     "output_type": "execute_result"
    }
   ],
   "source": [
    "# 3.\n",
    "# 호텔 예약 건수를 담은 DataFrame를 만들고, 멀티 인덱스를 설정하세요\n",
    "# 행 인덱스: 지점–월\n",
    "# 열: 싱글룸, 더블룸\n",
    "# 값: 예약 건수\n",
    "df = pd.DataFrame([[45,30],[50,35],[60,40],[55,38]],\n",
    "                 index=[['서울지점','서울지점','부산지점','부산지점'],\n",
    "                        ['7월','8월','7월','8월']],\n",
    "                 columns=['싱글룸','더블룸']\n",
    "                 )\n",
    "df"
   ]
  },
  {
   "cell_type": "code",
   "execution_count": 39,
   "id": "e830109e-c473-4a88-b912-0aa8bd2fc518",
   "metadata": {},
   "outputs": [
    {
     "data": {
      "text/html": [
       "<div>\n",
       "<style scoped>\n",
       "    .dataframe tbody tr th:only-of-type {\n",
       "        vertical-align: middle;\n",
       "    }\n",
       "\n",
       "    .dataframe tbody tr th {\n",
       "        vertical-align: top;\n",
       "    }\n",
       "\n",
       "    .dataframe thead th {\n",
       "        text-align: right;\n",
       "    }\n",
       "</style>\n",
       "<table border=\"1\" class=\"dataframe\">\n",
       "  <thead>\n",
       "    <tr style=\"text-align: right;\">\n",
       "      <th></th>\n",
       "      <th>싱글룸</th>\n",
       "      <th>더블룸</th>\n",
       "    </tr>\n",
       "  </thead>\n",
       "  <tbody>\n",
       "    <tr>\n",
       "      <th>7월</th>\n",
       "      <td>45</td>\n",
       "      <td>30</td>\n",
       "    </tr>\n",
       "    <tr>\n",
       "      <th>8월</th>\n",
       "      <td>50</td>\n",
       "      <td>35</td>\n",
       "    </tr>\n",
       "  </tbody>\n",
       "</table>\n",
       "</div>"
      ],
      "text/plain": [
       "    싱글룸  더블룸\n",
       "7월   45   30\n",
       "8월   50   35"
      ]
     },
     "execution_count": 39,
     "metadata": {},
     "output_type": "execute_result"
    }
   ],
   "source": [
    "# 서울지점 전체 예약 건수를 조회하세요\n",
    "df.loc['서울지점']"
   ]
  },
  {
   "cell_type": "code",
   "execution_count": 40,
   "id": "7d3c32d2-8e15-455d-8d46-c7a9c44cff74",
   "metadata": {},
   "outputs": [
    {
     "data": {
      "text/plain": [
       "np.int64(38)"
      ]
     },
     "execution_count": 40,
     "metadata": {},
     "output_type": "execute_result"
    }
   ],
   "source": [
    "# 부산지점 8월의 더블룸 예약 건수를 조회하세요\n",
    "df.loc[('부산지점','8월'),'더블룸']"
   ]
  },
  {
   "cell_type": "code",
   "execution_count": 41,
   "id": "3d71a503-10e6-4148-a9c9-45046904c5c3",
   "metadata": {},
   "outputs": [
    {
     "data": {
      "text/html": [
       "<div>\n",
       "<style scoped>\n",
       "    .dataframe tbody tr th:only-of-type {\n",
       "        vertical-align: middle;\n",
       "    }\n",
       "\n",
       "    .dataframe tbody tr th {\n",
       "        vertical-align: top;\n",
       "    }\n",
       "\n",
       "    .dataframe thead th {\n",
       "        text-align: right;\n",
       "    }\n",
       "</style>\n",
       "<table border=\"1\" class=\"dataframe\">\n",
       "  <thead>\n",
       "    <tr style=\"text-align: right;\">\n",
       "      <th></th>\n",
       "      <th></th>\n",
       "      <th>1월</th>\n",
       "      <th>2월</th>\n",
       "    </tr>\n",
       "  </thead>\n",
       "  <tbody>\n",
       "    <tr>\n",
       "      <th rowspan=\"2\" valign=\"top\">가전</th>\n",
       "      <th>노트북</th>\n",
       "      <td>120</td>\n",
       "      <td>140</td>\n",
       "    </tr>\n",
       "    <tr>\n",
       "      <th>청소기</th>\n",
       "      <td>80</td>\n",
       "      <td>95</td>\n",
       "    </tr>\n",
       "    <tr>\n",
       "      <th rowspan=\"2\" valign=\"top\">식품</th>\n",
       "      <th>라면</th>\n",
       "      <td>200</td>\n",
       "      <td>230</td>\n",
       "    </tr>\n",
       "    <tr>\n",
       "      <th>과자</th>\n",
       "      <td>150</td>\n",
       "      <td>160</td>\n",
       "    </tr>\n",
       "  </tbody>\n",
       "</table>\n",
       "</div>"
      ],
      "text/plain": [
       "         1월   2월\n",
       "가전 노트북  120  140\n",
       "   청소기   80   95\n",
       "식품 라면   200  230\n",
       "   과자   150  160"
      ]
     },
     "execution_count": 41,
     "metadata": {},
     "output_type": "execute_result"
    }
   ],
   "source": [
    "# 4.\n",
    "# 쇼핑몰 주문 건수를 담은 DataFrame를 만들고, 멀티 인덱스를 설정하세요\n",
    "# 행 인덱스: 카테고리–상품\n",
    "# 열: 1월, 2월\n",
    "# 값: 주문 건수\n",
    "df = pd.DataFrame([[120,140],[80,95],[200,230],[150,160]],\n",
    "                 index=[['가전','가전','식품','식품'],\n",
    "                        ['노트북','청소기','라면','과자']],\n",
    "                 columns=['1월','2월']\n",
    "                 )\n",
    "df"
   ]
  },
  {
   "cell_type": "code",
   "execution_count": 42,
   "id": "d82bc4c4-8de8-4775-9c29-055b854f0a1d",
   "metadata": {},
   "outputs": [
    {
     "data": {
      "text/html": [
       "<div>\n",
       "<style scoped>\n",
       "    .dataframe tbody tr th:only-of-type {\n",
       "        vertical-align: middle;\n",
       "    }\n",
       "\n",
       "    .dataframe tbody tr th {\n",
       "        vertical-align: top;\n",
       "    }\n",
       "\n",
       "    .dataframe thead th {\n",
       "        text-align: right;\n",
       "    }\n",
       "</style>\n",
       "<table border=\"1\" class=\"dataframe\">\n",
       "  <thead>\n",
       "    <tr style=\"text-align: right;\">\n",
       "      <th></th>\n",
       "      <th>1월</th>\n",
       "      <th>2월</th>\n",
       "    </tr>\n",
       "  </thead>\n",
       "  <tbody>\n",
       "    <tr>\n",
       "      <th>노트북</th>\n",
       "      <td>120</td>\n",
       "      <td>140</td>\n",
       "    </tr>\n",
       "    <tr>\n",
       "      <th>청소기</th>\n",
       "      <td>80</td>\n",
       "      <td>95</td>\n",
       "    </tr>\n",
       "  </tbody>\n",
       "</table>\n",
       "</div>"
      ],
      "text/plain": [
       "      1월   2월\n",
       "노트북  120  140\n",
       "청소기   80   95"
      ]
     },
     "execution_count": 42,
     "metadata": {},
     "output_type": "execute_result"
    }
   ],
   "source": [
    "# 가전 카테고리 전체 주문 건수를 조회하세요\n",
    "df.loc['가전']"
   ]
  },
  {
   "cell_type": "code",
   "execution_count": 43,
   "id": "3f9daea2-802a-42c7-a15e-03e7f1d77ec3",
   "metadata": {},
   "outputs": [
    {
     "data": {
      "text/plain": [
       "np.int64(230)"
      ]
     },
     "execution_count": 43,
     "metadata": {},
     "output_type": "execute_result"
    }
   ],
   "source": [
    "# 식품 카테고리 라면의 2월 주문 건수를 조회하세요\n",
    "df.loc[('식품','라면'),'2월']"
   ]
  },
  {
   "cell_type": "code",
   "execution_count": 44,
   "id": "a9dc34bd-ad26-4697-93d8-0cf00c1e5a4b",
   "metadata": {},
   "outputs": [
    {
     "data": {
      "text/html": [
       "<div>\n",
       "<style scoped>\n",
       "    .dataframe tbody tr th:only-of-type {\n",
       "        vertical-align: middle;\n",
       "    }\n",
       "\n",
       "    .dataframe tbody tr th {\n",
       "        vertical-align: top;\n",
       "    }\n",
       "\n",
       "    .dataframe thead th {\n",
       "        text-align: right;\n",
       "    }\n",
       "</style>\n",
       "<table border=\"1\" class=\"dataframe\">\n",
       "  <thead>\n",
       "    <tr style=\"text-align: right;\">\n",
       "      <th></th>\n",
       "      <th>학번</th>\n",
       "      <th>이름</th>\n",
       "    </tr>\n",
       "  </thead>\n",
       "  <tbody>\n",
       "    <tr>\n",
       "      <th>0</th>\n",
       "      <td>1</td>\n",
       "      <td>철수</td>\n",
       "    </tr>\n",
       "    <tr>\n",
       "      <th>1</th>\n",
       "      <td>2</td>\n",
       "      <td>영희</td>\n",
       "    </tr>\n",
       "    <tr>\n",
       "      <th>2</th>\n",
       "      <td>3</td>\n",
       "      <td>민수</td>\n",
       "    </tr>\n",
       "  </tbody>\n",
       "</table>\n",
       "</div>"
      ],
      "text/plain": [
       "   학번  이름\n",
       "0   1  철수\n",
       "1   2  영희\n",
       "2   3  민수"
      ]
     },
     "execution_count": 44,
     "metadata": {},
     "output_type": "execute_result"
    }
   ],
   "source": [
    "# 데이터 합치기 - merge\n",
    "# 학생 데이터를 담아서 데이터프레임 생성\n",
    "df1 = pd.DataFrame({\n",
    "                    '학번':[1,2,3], \n",
    "                    '이름':['철수','영희','민수']}\n",
    "                  )\n",
    "df1"
   ]
  },
  {
   "cell_type": "code",
   "execution_count": 45,
   "id": "02258272-e72f-462c-baeb-5ad9c9500884",
   "metadata": {},
   "outputs": [
    {
     "data": {
      "text/html": [
       "<div>\n",
       "<style scoped>\n",
       "    .dataframe tbody tr th:only-of-type {\n",
       "        vertical-align: middle;\n",
       "    }\n",
       "\n",
       "    .dataframe tbody tr th {\n",
       "        vertical-align: top;\n",
       "    }\n",
       "\n",
       "    .dataframe thead th {\n",
       "        text-align: right;\n",
       "    }\n",
       "</style>\n",
       "<table border=\"1\" class=\"dataframe\">\n",
       "  <thead>\n",
       "    <tr style=\"text-align: right;\">\n",
       "      <th></th>\n",
       "      <th>학번</th>\n",
       "      <th>점수</th>\n",
       "    </tr>\n",
       "  </thead>\n",
       "  <tbody>\n",
       "    <tr>\n",
       "      <th>0</th>\n",
       "      <td>1</td>\n",
       "      <td>90</td>\n",
       "    </tr>\n",
       "    <tr>\n",
       "      <th>1</th>\n",
       "      <td>2</td>\n",
       "      <td>85</td>\n",
       "    </tr>\n",
       "    <tr>\n",
       "      <th>2</th>\n",
       "      <td>4</td>\n",
       "      <td>70</td>\n",
       "    </tr>\n",
       "  </tbody>\n",
       "</table>\n",
       "</div>"
      ],
      "text/plain": [
       "   학번  점수\n",
       "0   1  90\n",
       "1   2  85\n",
       "2   4  70"
      ]
     },
     "execution_count": 45,
     "metadata": {},
     "output_type": "execute_result"
    }
   ],
   "source": [
    "# 시험 점수 데이터를 담아서 데이터프레임 생성\n",
    "df2 = pd.DataFrame({\n",
    "                    '학번':[1,2,4], \n",
    "                    '점수':[90,85,70]}\n",
    "                  )\n",
    "df2"
   ]
  },
  {
   "cell_type": "code",
   "execution_count": 46,
   "id": "18c0b39f-7ef5-45a7-ae77-89a170808212",
   "metadata": {},
   "outputs": [
    {
     "data": {
      "text/html": [
       "<div>\n",
       "<style scoped>\n",
       "    .dataframe tbody tr th:only-of-type {\n",
       "        vertical-align: middle;\n",
       "    }\n",
       "\n",
       "    .dataframe tbody tr th {\n",
       "        vertical-align: top;\n",
       "    }\n",
       "\n",
       "    .dataframe thead th {\n",
       "        text-align: right;\n",
       "    }\n",
       "</style>\n",
       "<table border=\"1\" class=\"dataframe\">\n",
       "  <thead>\n",
       "    <tr style=\"text-align: right;\">\n",
       "      <th></th>\n",
       "      <th>학번</th>\n",
       "      <th>이름</th>\n",
       "      <th>점수</th>\n",
       "    </tr>\n",
       "  </thead>\n",
       "  <tbody>\n",
       "    <tr>\n",
       "      <th>0</th>\n",
       "      <td>1</td>\n",
       "      <td>철수</td>\n",
       "      <td>90</td>\n",
       "    </tr>\n",
       "    <tr>\n",
       "      <th>1</th>\n",
       "      <td>2</td>\n",
       "      <td>영희</td>\n",
       "      <td>85</td>\n",
       "    </tr>\n",
       "  </tbody>\n",
       "</table>\n",
       "</div>"
      ],
      "text/plain": [
       "   학번  이름  점수\n",
       "0   1  철수  90\n",
       "1   2  영희  85"
      ]
     },
     "execution_count": 46,
     "metadata": {},
     "output_type": "execute_result"
    }
   ],
   "source": [
    "# 학생정보와 시험점수 합치기\n",
    "pd.merge(df1, df2, on='학번') # on -> 공통컬럼"
   ]
  },
  {
   "cell_type": "code",
   "execution_count": 47,
   "id": "bc4e67ee-8b70-41b5-87cf-15ac2010467e",
   "metadata": {},
   "outputs": [
    {
     "data": {
      "text/html": [
       "<div>\n",
       "<style scoped>\n",
       "    .dataframe tbody tr th:only-of-type {\n",
       "        vertical-align: middle;\n",
       "    }\n",
       "\n",
       "    .dataframe tbody tr th {\n",
       "        vertical-align: top;\n",
       "    }\n",
       "\n",
       "    .dataframe thead th {\n",
       "        text-align: right;\n",
       "    }\n",
       "</style>\n",
       "<table border=\"1\" class=\"dataframe\">\n",
       "  <thead>\n",
       "    <tr style=\"text-align: right;\">\n",
       "      <th></th>\n",
       "      <th>학번</th>\n",
       "      <th>이름</th>\n",
       "      <th>점수</th>\n",
       "    </tr>\n",
       "  </thead>\n",
       "  <tbody>\n",
       "    <tr>\n",
       "      <th>0</th>\n",
       "      <td>1</td>\n",
       "      <td>철수</td>\n",
       "      <td>90.0</td>\n",
       "    </tr>\n",
       "    <tr>\n",
       "      <th>1</th>\n",
       "      <td>2</td>\n",
       "      <td>영희</td>\n",
       "      <td>85.0</td>\n",
       "    </tr>\n",
       "    <tr>\n",
       "      <th>2</th>\n",
       "      <td>3</td>\n",
       "      <td>민수</td>\n",
       "      <td>NaN</td>\n",
       "    </tr>\n",
       "  </tbody>\n",
       "</table>\n",
       "</div>"
      ],
      "text/plain": [
       "   학번  이름    점수\n",
       "0   1  철수  90.0\n",
       "1   2  영희  85.0\n",
       "2   3  민수   NaN"
      ]
     },
     "execution_count": 47,
     "metadata": {},
     "output_type": "execute_result"
    }
   ],
   "source": [
    "pd.merge(df1, df2, on='학번', how=\"left\")"
   ]
  },
  {
   "cell_type": "code",
   "execution_count": 48,
   "id": "a6e6d8fb-37e9-4d10-88c0-b07579ffd589",
   "metadata": {},
   "outputs": [
    {
     "data": {
      "text/html": [
       "<div>\n",
       "<style scoped>\n",
       "    .dataframe tbody tr th:only-of-type {\n",
       "        vertical-align: middle;\n",
       "    }\n",
       "\n",
       "    .dataframe tbody tr th {\n",
       "        vertical-align: top;\n",
       "    }\n",
       "\n",
       "    .dataframe thead th {\n",
       "        text-align: right;\n",
       "    }\n",
       "</style>\n",
       "<table border=\"1\" class=\"dataframe\">\n",
       "  <thead>\n",
       "    <tr style=\"text-align: right;\">\n",
       "      <th></th>\n",
       "      <th>학번</th>\n",
       "      <th>이름</th>\n",
       "      <th>점수</th>\n",
       "    </tr>\n",
       "  </thead>\n",
       "  <tbody>\n",
       "    <tr>\n",
       "      <th>0</th>\n",
       "      <td>1</td>\n",
       "      <td>철수</td>\n",
       "      <td>90</td>\n",
       "    </tr>\n",
       "    <tr>\n",
       "      <th>1</th>\n",
       "      <td>2</td>\n",
       "      <td>영희</td>\n",
       "      <td>85</td>\n",
       "    </tr>\n",
       "    <tr>\n",
       "      <th>2</th>\n",
       "      <td>4</td>\n",
       "      <td>NaN</td>\n",
       "      <td>70</td>\n",
       "    </tr>\n",
       "  </tbody>\n",
       "</table>\n",
       "</div>"
      ],
      "text/plain": [
       "   학번   이름  점수\n",
       "0   1   철수  90\n",
       "1   2   영희  85\n",
       "2   4  NaN  70"
      ]
     },
     "execution_count": 48,
     "metadata": {},
     "output_type": "execute_result"
    }
   ],
   "source": [
    "pd.merge(df1, df2, on='학번', how=\"right\")"
   ]
  },
  {
   "cell_type": "code",
   "execution_count": 49,
   "id": "be62269f-6ed8-4c82-a3c2-c6a3e7deaa47",
   "metadata": {},
   "outputs": [
    {
     "data": {
      "text/html": [
       "<div>\n",
       "<style scoped>\n",
       "    .dataframe tbody tr th:only-of-type {\n",
       "        vertical-align: middle;\n",
       "    }\n",
       "\n",
       "    .dataframe tbody tr th {\n",
       "        vertical-align: top;\n",
       "    }\n",
       "\n",
       "    .dataframe thead th {\n",
       "        text-align: right;\n",
       "    }\n",
       "</style>\n",
       "<table border=\"1\" class=\"dataframe\">\n",
       "  <thead>\n",
       "    <tr style=\"text-align: right;\">\n",
       "      <th></th>\n",
       "      <th>학번</th>\n",
       "      <th>이름</th>\n",
       "      <th>점수</th>\n",
       "    </tr>\n",
       "  </thead>\n",
       "  <tbody>\n",
       "    <tr>\n",
       "      <th>0</th>\n",
       "      <td>1</td>\n",
       "      <td>철수</td>\n",
       "      <td>90.0</td>\n",
       "    </tr>\n",
       "    <tr>\n",
       "      <th>1</th>\n",
       "      <td>2</td>\n",
       "      <td>영희</td>\n",
       "      <td>85.0</td>\n",
       "    </tr>\n",
       "    <tr>\n",
       "      <th>2</th>\n",
       "      <td>3</td>\n",
       "      <td>민수</td>\n",
       "      <td>NaN</td>\n",
       "    </tr>\n",
       "    <tr>\n",
       "      <th>3</th>\n",
       "      <td>4</td>\n",
       "      <td>NaN</td>\n",
       "      <td>70.0</td>\n",
       "    </tr>\n",
       "  </tbody>\n",
       "</table>\n",
       "</div>"
      ],
      "text/plain": [
       "   학번   이름    점수\n",
       "0   1   철수  90.0\n",
       "1   2   영희  85.0\n",
       "2   3   민수   NaN\n",
       "3   4  NaN  70.0"
      ]
     },
     "execution_count": 49,
     "metadata": {},
     "output_type": "execute_result"
    }
   ],
   "source": [
    "pd.merge(df1, df2, on='학번', how=\"outer\")"
   ]
  },
  {
   "cell_type": "code",
   "execution_count": 54,
   "id": "1fba3861-e36a-44a6-8519-e343613cb52b",
   "metadata": {},
   "outputs": [
    {
     "data": {
      "text/html": [
       "<div>\n",
       "<style scoped>\n",
       "    .dataframe tbody tr th:only-of-type {\n",
       "        vertical-align: middle;\n",
       "    }\n",
       "\n",
       "    .dataframe tbody tr th {\n",
       "        vertical-align: top;\n",
       "    }\n",
       "\n",
       "    .dataframe thead th {\n",
       "        text-align: right;\n",
       "    }\n",
       "</style>\n",
       "<table border=\"1\" class=\"dataframe\">\n",
       "  <thead>\n",
       "    <tr style=\"text-align: right;\">\n",
       "      <th></th>\n",
       "      <th>고객ID</th>\n",
       "      <th>상품</th>\n",
       "    </tr>\n",
       "  </thead>\n",
       "  <tbody>\n",
       "    <tr>\n",
       "      <th>0</th>\n",
       "      <td>101</td>\n",
       "      <td>노트북</td>\n",
       "    </tr>\n",
       "    <tr>\n",
       "      <th>1</th>\n",
       "      <td>104</td>\n",
       "      <td>청소기</td>\n",
       "    </tr>\n",
       "    <tr>\n",
       "      <th>2</th>\n",
       "      <td>102</td>\n",
       "      <td>책</td>\n",
       "    </tr>\n",
       "  </tbody>\n",
       "</table>\n",
       "</div>"
      ],
      "text/plain": [
       "   고객ID   상품\n",
       "0   101  노트북\n",
       "1   104  청소기\n",
       "2   102    책"
      ]
     },
     "execution_count": 54,
     "metadata": {},
     "output_type": "execute_result"
    }
   ],
   "source": [
    "# 1.\n",
    "# 고객 데이터를 담은 DataFrame와 주문 데이터를 담은 DataFrame를 만들고,\n",
    "# 고객ID 기준으로 합치세요\n",
    "# → 결과를 보고 어떤 join 방식을 쓸지 결정하세요\n",
    "\n",
    "df1 = pd.DataFrame({\n",
    "    \"고객ID\": [101, 102, 103],\n",
    "    \"이름\": [\"철수\", \"영희\", \"민수\"]\n",
    "})\n",
    "\n",
    "# 주문 데이터\n",
    "df2 = pd.DataFrame({\n",
    "    \"고객ID\": [101, 104, 102],\n",
    "    \"상품\": [\"노트북\", \"청소기\", \"책\"]\n",
    "})\n",
    "df2\n",
    "\n",
    "# 두 데이터 합치기 (공통 컬럼은 고객ID)\n",
    "# 공통된 고객만 가져오기 (inner join)\n",
    "# pd.merge(df1, df2, on=\"고객ID\")"
   ]
  },
  {
   "cell_type": "code",
   "execution_count": 53,
   "id": "e3d34097-afb3-43a7-8da2-5aa521847ccd",
   "metadata": {},
   "outputs": [
    {
     "data": {
      "text/html": [
       "<div>\n",
       "<style scoped>\n",
       "    .dataframe tbody tr th:only-of-type {\n",
       "        vertical-align: middle;\n",
       "    }\n",
       "\n",
       "    .dataframe tbody tr th {\n",
       "        vertical-align: top;\n",
       "    }\n",
       "\n",
       "    .dataframe thead th {\n",
       "        text-align: right;\n",
       "    }\n",
       "</style>\n",
       "<table border=\"1\" class=\"dataframe\">\n",
       "  <thead>\n",
       "    <tr style=\"text-align: right;\">\n",
       "      <th></th>\n",
       "      <th>고객ID</th>\n",
       "      <th>이름</th>\n",
       "      <th>상품</th>\n",
       "    </tr>\n",
       "  </thead>\n",
       "  <tbody>\n",
       "    <tr>\n",
       "      <th>0</th>\n",
       "      <td>101</td>\n",
       "      <td>철수</td>\n",
       "      <td>노트북</td>\n",
       "    </tr>\n",
       "    <tr>\n",
       "      <th>1</th>\n",
       "      <td>102</td>\n",
       "      <td>영희</td>\n",
       "      <td>책</td>\n",
       "    </tr>\n",
       "  </tbody>\n",
       "</table>\n",
       "</div>"
      ],
      "text/plain": [
       "   고객ID  이름   상품\n",
       "0   101  철수  노트북\n",
       "1   102  영희    책"
      ]
     },
     "execution_count": 53,
     "metadata": {},
     "output_type": "execute_result"
    }
   ],
   "source": [
    "pd.merge(df1, df2, on='고객ID')"
   ]
  },
  {
   "cell_type": "code",
   "execution_count": null,
   "id": "0ce4f6c0-236c-473f-901b-933293d2e40f",
   "metadata": {},
   "outputs": [],
   "source": [
    "# 여러개의 데이터를 이어붙이는 함수 concat"
   ]
  },
  {
   "cell_type": "code",
   "execution_count": 61,
   "id": "e0bb0d33-ba68-4db0-8667-678502ff7f51",
   "metadata": {},
   "outputs": [],
   "source": [
    "df1 = pd.DataFrame({'학번':[1,2,3], '이름':['철수','영희','민수']})\n",
    "df2 = pd.DataFrame({'학번':[1,2,4], '점수':[90,85,70]})"
   ]
  },
  {
   "cell_type": "code",
   "execution_count": 69,
   "id": "b413fff0-6979-4484-ab31-4c5018cae3ae",
   "metadata": {},
   "outputs": [
    {
     "data": {
      "text/html": [
       "<div>\n",
       "<style scoped>\n",
       "    .dataframe tbody tr th:only-of-type {\n",
       "        vertical-align: middle;\n",
       "    }\n",
       "\n",
       "    .dataframe tbody tr th {\n",
       "        vertical-align: top;\n",
       "    }\n",
       "\n",
       "    .dataframe thead th {\n",
       "        text-align: right;\n",
       "    }\n",
       "</style>\n",
       "<table border=\"1\" class=\"dataframe\">\n",
       "  <thead>\n",
       "    <tr style=\"text-align: right;\">\n",
       "      <th></th>\n",
       "      <th>학번</th>\n",
       "      <th>이름</th>\n",
       "      <th>학번</th>\n",
       "      <th>점수</th>\n",
       "    </tr>\n",
       "  </thead>\n",
       "  <tbody>\n",
       "    <tr>\n",
       "      <th>0</th>\n",
       "      <td>1</td>\n",
       "      <td>철수</td>\n",
       "      <td>1</td>\n",
       "      <td>90</td>\n",
       "    </tr>\n",
       "    <tr>\n",
       "      <th>1</th>\n",
       "      <td>2</td>\n",
       "      <td>영희</td>\n",
       "      <td>2</td>\n",
       "      <td>85</td>\n",
       "    </tr>\n",
       "    <tr>\n",
       "      <th>2</th>\n",
       "      <td>3</td>\n",
       "      <td>민수</td>\n",
       "      <td>4</td>\n",
       "      <td>70</td>\n",
       "    </tr>\n",
       "  </tbody>\n",
       "</table>\n",
       "</div>"
      ],
      "text/plain": [
       "   학번  이름  학번  점수\n",
       "0   1  철수   1  90\n",
       "1   2  영희   2  85\n",
       "2   3  민수   4  70"
      ]
     },
     "execution_count": 69,
     "metadata": {},
     "output_type": "execute_result"
    }
   ],
   "source": [
    "# 두 데이터 이어 붙이기\n",
    "# 방향: 기본값 axis=0 (y축 위아래)\n",
    "pd.concat([df1, df2], axis=1)"
   ]
  },
  {
   "cell_type": "code",
   "execution_count": 67,
   "id": "9e0aa6c9-d70a-495d-aada-bf9587bc24d4",
   "metadata": {},
   "outputs": [
    {
     "data": {
      "text/html": [
       "<div>\n",
       "<style scoped>\n",
       "    .dataframe tbody tr th:only-of-type {\n",
       "        vertical-align: middle;\n",
       "    }\n",
       "\n",
       "    .dataframe tbody tr th {\n",
       "        vertical-align: top;\n",
       "    }\n",
       "\n",
       "    .dataframe thead th {\n",
       "        text-align: right;\n",
       "    }\n",
       "</style>\n",
       "<table border=\"1\" class=\"dataframe\">\n",
       "  <thead>\n",
       "    <tr style=\"text-align: right;\">\n",
       "      <th></th>\n",
       "      <th>학번</th>\n",
       "      <th>이름</th>\n",
       "      <th>점수</th>\n",
       "    </tr>\n",
       "  </thead>\n",
       "  <tbody>\n",
       "    <tr>\n",
       "      <th>0</th>\n",
       "      <td>1</td>\n",
       "      <td>철수</td>\n",
       "      <td>NaN</td>\n",
       "    </tr>\n",
       "    <tr>\n",
       "      <th>1</th>\n",
       "      <td>2</td>\n",
       "      <td>영희</td>\n",
       "      <td>NaN</td>\n",
       "    </tr>\n",
       "    <tr>\n",
       "      <th>2</th>\n",
       "      <td>3</td>\n",
       "      <td>민수</td>\n",
       "      <td>NaN</td>\n",
       "    </tr>\n",
       "    <tr>\n",
       "      <th>3</th>\n",
       "      <td>1</td>\n",
       "      <td>NaN</td>\n",
       "      <td>90.0</td>\n",
       "    </tr>\n",
       "    <tr>\n",
       "      <th>4</th>\n",
       "      <td>2</td>\n",
       "      <td>NaN</td>\n",
       "      <td>85.0</td>\n",
       "    </tr>\n",
       "    <tr>\n",
       "      <th>5</th>\n",
       "      <td>4</td>\n",
       "      <td>NaN</td>\n",
       "      <td>70.0</td>\n",
       "    </tr>\n",
       "  </tbody>\n",
       "</table>\n",
       "</div>"
      ],
      "text/plain": [
       "   학번   이름    점수\n",
       "0   1   철수   NaN\n",
       "1   2   영희   NaN\n",
       "2   3   민수   NaN\n",
       "3   1  NaN  90.0\n",
       "4   2  NaN  85.0\n",
       "5   4  NaN  70.0"
      ]
     },
     "execution_count": 67,
     "metadata": {},
     "output_type": "execute_result"
    }
   ],
   "source": [
    "pd.concat([df1, df2], ignore_index=True)"
   ]
  },
  {
   "cell_type": "code",
   "execution_count": 75,
   "id": "3fb246f0-977f-4f9e-b0c4-0e8d61ee9219",
   "metadata": {},
   "outputs": [
    {
     "data": {
      "text/html": [
       "<div>\n",
       "<style scoped>\n",
       "    .dataframe tbody tr th:only-of-type {\n",
       "        vertical-align: middle;\n",
       "    }\n",
       "\n",
       "    .dataframe tbody tr th {\n",
       "        vertical-align: top;\n",
       "    }\n",
       "\n",
       "    .dataframe thead th {\n",
       "        text-align: right;\n",
       "    }\n",
       "</style>\n",
       "<table border=\"1\" class=\"dataframe\">\n",
       "  <thead>\n",
       "    <tr style=\"text-align: right;\">\n",
       "      <th></th>\n",
       "      <th>사번</th>\n",
       "      <th>이름</th>\n",
       "      <th>부서</th>\n",
       "    </tr>\n",
       "  </thead>\n",
       "  <tbody>\n",
       "    <tr>\n",
       "      <th>0</th>\n",
       "      <td>1</td>\n",
       "      <td>홍길동</td>\n",
       "      <td>영업</td>\n",
       "    </tr>\n",
       "    <tr>\n",
       "      <th>1</th>\n",
       "      <td>2</td>\n",
       "      <td>임꺽정</td>\n",
       "      <td>개발</td>\n",
       "    </tr>\n",
       "  </tbody>\n",
       "</table>\n",
       "</div>"
      ],
      "text/plain": [
       "   사번   이름  부서\n",
       "0   1  홍길동  영업\n",
       "1   2  임꺽정  개발"
      ]
     },
     "execution_count": 75,
     "metadata": {},
     "output_type": "execute_result"
    }
   ],
   "source": [
    "# 1.\n",
    "# 사원 데이터를 담은 DataFrame와 부서 데이터를 담은 DataFrame를 만들고, 하나로 합치세요\n",
    "# → 결과를 보고 어떤 방향을 쓸지 결정하세요\n",
    "df1 = pd.DataFrame({'사번':[1,2], '이름':['홍길동','임꺽정']})\n",
    "df2 = pd.DataFrame({'부서':['영업','개발']})\n",
    "df2\n",
    "\n",
    "pd.concat([df1,df2], axis=1)"
   ]
  },
  {
   "cell_type": "code",
   "execution_count": 82,
   "id": "a6db1f49-fd7d-4cc6-9bc2-0994cf717e8b",
   "metadata": {},
   "outputs": [
    {
     "data": {
      "text/html": [
       "<div>\n",
       "<style scoped>\n",
       "    .dataframe tbody tr th:only-of-type {\n",
       "        vertical-align: middle;\n",
       "    }\n",
       "\n",
       "    .dataframe tbody tr th {\n",
       "        vertical-align: top;\n",
       "    }\n",
       "\n",
       "    .dataframe thead th {\n",
       "        text-align: right;\n",
       "    }\n",
       "</style>\n",
       "<table border=\"1\" class=\"dataframe\">\n",
       "  <thead>\n",
       "    <tr style=\"text-align: right;\">\n",
       "      <th></th>\n",
       "      <th>매출</th>\n",
       "    </tr>\n",
       "  </thead>\n",
       "  <tbody>\n",
       "    <tr>\n",
       "      <th>0</th>\n",
       "      <td>100</td>\n",
       "    </tr>\n",
       "    <tr>\n",
       "      <th>1</th>\n",
       "      <td>200</td>\n",
       "    </tr>\n",
       "    <tr>\n",
       "      <th>2</th>\n",
       "      <td>150</td>\n",
       "    </tr>\n",
       "    <tr>\n",
       "      <th>3</th>\n",
       "      <td>250</td>\n",
       "    </tr>\n",
       "    <tr>\n",
       "      <th>4</th>\n",
       "      <td>300</td>\n",
       "    </tr>\n",
       "    <tr>\n",
       "      <th>5</th>\n",
       "      <td>400</td>\n",
       "    </tr>\n",
       "  </tbody>\n",
       "</table>\n",
       "</div>"
      ],
      "text/plain": [
       "    매출\n",
       "0  100\n",
       "1  200\n",
       "2  150\n",
       "3  250\n",
       "4  300\n",
       "5  400"
      ]
     },
     "execution_count": 82,
     "metadata": {},
     "output_type": "execute_result"
    }
   ],
   "source": [
    "# 2.\n",
    "# 세 개의 매출 데이터 DataFrame를 만들고, 하나로 합치세요\n",
    "# → 결과를 보고 어떤 옵션(방향, 인덱스)을 쓸지 결정하세요\n",
    "df1 = pd.DataFrame({\"매출\": [100, 200]})\n",
    "df2 = pd.DataFrame({\"매출\": [150, 250]})\n",
    "df3 = pd.DataFrame({\"매출\": [300, 400]})\n",
    "df3\n",
    "\n",
    "pd.concat([df1,df2,df3], axis=0, ignore_index=True)"
   ]
  },
  {
   "cell_type": "code",
   "execution_count": null,
   "id": "9c717ad6-c37a-400a-a6ed-93338541c29f",
   "metadata": {},
   "outputs": [],
   "source": [
    "# 데이터 재구성 pivot"
   ]
  },
  {
   "cell_type": "code",
   "execution_count": 83,
   "id": "772ae53c-df30-45a7-ad0b-746ea5380edc",
   "metadata": {},
   "outputs": [
    {
     "data": {
      "text/html": [
       "<div>\n",
       "<style scoped>\n",
       "    .dataframe tbody tr th:only-of-type {\n",
       "        vertical-align: middle;\n",
       "    }\n",
       "\n",
       "    .dataframe tbody tr th {\n",
       "        vertical-align: top;\n",
       "    }\n",
       "\n",
       "    .dataframe thead th {\n",
       "        text-align: right;\n",
       "    }\n",
       "</style>\n",
       "<table border=\"1\" class=\"dataframe\">\n",
       "  <thead>\n",
       "    <tr style=\"text-align: right;\">\n",
       "      <th></th>\n",
       "      <th>이름</th>\n",
       "      <th>과목</th>\n",
       "      <th>점수</th>\n",
       "    </tr>\n",
       "  </thead>\n",
       "  <tbody>\n",
       "    <tr>\n",
       "      <th>0</th>\n",
       "      <td>철수</td>\n",
       "      <td>국어</td>\n",
       "      <td>90</td>\n",
       "    </tr>\n",
       "    <tr>\n",
       "      <th>1</th>\n",
       "      <td>영희</td>\n",
       "      <td>국어</td>\n",
       "      <td>85</td>\n",
       "    </tr>\n",
       "    <tr>\n",
       "      <th>2</th>\n",
       "      <td>철수</td>\n",
       "      <td>수학</td>\n",
       "      <td>80</td>\n",
       "    </tr>\n",
       "    <tr>\n",
       "      <th>3</th>\n",
       "      <td>영희</td>\n",
       "      <td>수학</td>\n",
       "      <td>95</td>\n",
       "    </tr>\n",
       "  </tbody>\n",
       "</table>\n",
       "</div>"
      ],
      "text/plain": [
       "   이름  과목  점수\n",
       "0  철수  국어  90\n",
       "1  영희  국어  85\n",
       "2  철수  수학  80\n",
       "3  영희  수학  95"
      ]
     },
     "execution_count": 83,
     "metadata": {},
     "output_type": "execute_result"
    }
   ],
   "source": [
    "df = pd.DataFrame({\n",
    "    \"이름\": [\"철수\", \"영희\", \"철수\", \"영희\"],\n",
    "    \"과목\": [\"국어\", \"국어\", \"수학\", \"수학\"],\n",
    "    \"점수\": [90, 85, 80, 95]\n",
    "})\n",
    "df"
   ]
  },
  {
   "cell_type": "code",
   "execution_count": 87,
   "id": "a22346a6-7e76-4c0e-9d65-8ef0d7c4a013",
   "metadata": {},
   "outputs": [
    {
     "data": {
      "text/html": [
       "<div>\n",
       "<style scoped>\n",
       "    .dataframe tbody tr th:only-of-type {\n",
       "        vertical-align: middle;\n",
       "    }\n",
       "\n",
       "    .dataframe tbody tr th {\n",
       "        vertical-align: top;\n",
       "    }\n",
       "\n",
       "    .dataframe thead th {\n",
       "        text-align: right;\n",
       "    }\n",
       "</style>\n",
       "<table border=\"1\" class=\"dataframe\">\n",
       "  <thead>\n",
       "    <tr style=\"text-align: right;\">\n",
       "      <th>과목</th>\n",
       "      <th>국어</th>\n",
       "      <th>수학</th>\n",
       "    </tr>\n",
       "    <tr>\n",
       "      <th>이름</th>\n",
       "      <th></th>\n",
       "      <th></th>\n",
       "    </tr>\n",
       "  </thead>\n",
       "  <tbody>\n",
       "    <tr>\n",
       "      <th>영희</th>\n",
       "      <td>85</td>\n",
       "      <td>95</td>\n",
       "    </tr>\n",
       "    <tr>\n",
       "      <th>철수</th>\n",
       "      <td>90</td>\n",
       "      <td>80</td>\n",
       "    </tr>\n",
       "  </tbody>\n",
       "</table>\n",
       "</div>"
      ],
      "text/plain": [
       "과목  국어  수학\n",
       "이름        \n",
       "영희  85  95\n",
       "철수  90  80"
      ]
     },
     "execution_count": 87,
     "metadata": {},
     "output_type": "execute_result"
    }
   ],
   "source": [
    "# 성적표 형태로 변경\n",
    "result = df.pivot(index='이름', columns='과목', values='점수')\n",
    "result"
   ]
  },
  {
   "cell_type": "code",
   "execution_count": 89,
   "id": "96a2854a-93ad-415c-be47-a252529ba9e5",
   "metadata": {},
   "outputs": [
    {
     "data": {
      "text/html": [
       "<div>\n",
       "<style scoped>\n",
       "    .dataframe tbody tr th:only-of-type {\n",
       "        vertical-align: middle;\n",
       "    }\n",
       "\n",
       "    .dataframe tbody tr th {\n",
       "        vertical-align: top;\n",
       "    }\n",
       "\n",
       "    .dataframe thead th {\n",
       "        text-align: right;\n",
       "    }\n",
       "</style>\n",
       "<table border=\"1\" class=\"dataframe\">\n",
       "  <thead>\n",
       "    <tr style=\"text-align: right;\">\n",
       "      <th></th>\n",
       "      <th>카테고리</th>\n",
       "      <th>월</th>\n",
       "      <th>매출</th>\n",
       "    </tr>\n",
       "  </thead>\n",
       "  <tbody>\n",
       "    <tr>\n",
       "      <th>0</th>\n",
       "      <td>식품</td>\n",
       "      <td>1월</td>\n",
       "      <td>200</td>\n",
       "    </tr>\n",
       "    <tr>\n",
       "      <th>1</th>\n",
       "      <td>식품</td>\n",
       "      <td>2월</td>\n",
       "      <td>250</td>\n",
       "    </tr>\n",
       "    <tr>\n",
       "      <th>2</th>\n",
       "      <td>가전</td>\n",
       "      <td>1월</td>\n",
       "      <td>500</td>\n",
       "    </tr>\n",
       "    <tr>\n",
       "      <th>3</th>\n",
       "      <td>가전</td>\n",
       "      <td>2월</td>\n",
       "      <td>550</td>\n",
       "    </tr>\n",
       "  </tbody>\n",
       "</table>\n",
       "</div>"
      ],
      "text/plain": [
       "  카테고리   월   매출\n",
       "0   식품  1월  200\n",
       "1   식품  2월  250\n",
       "2   가전  1월  500\n",
       "3   가전  2월  550"
      ]
     },
     "execution_count": 89,
     "metadata": {},
     "output_type": "execute_result"
    }
   ],
   "source": [
    "# 1.\n",
    "# 쇼핑몰 판매 데이터를 담은 DataFrame를 만들고,\n",
    "# pivot을 이용해 카테고리별 월 매출을 출력하세요\n",
    "df = pd.DataFrame({\n",
    "    '카테고리':['식품','식품','가전','가전'],\n",
    "    '월':['1월','2월','1월','2월'],\n",
    "    '매출':[200,250,500,550]\n",
    "})\n",
    "df"
   ]
  },
  {
   "cell_type": "code",
   "execution_count": 90,
   "id": "b2206d5b-bbc1-4563-b65d-fdc00816853f",
   "metadata": {},
   "outputs": [
    {
     "data": {
      "text/html": [
       "<div>\n",
       "<style scoped>\n",
       "    .dataframe tbody tr th:only-of-type {\n",
       "        vertical-align: middle;\n",
       "    }\n",
       "\n",
       "    .dataframe tbody tr th {\n",
       "        vertical-align: top;\n",
       "    }\n",
       "\n",
       "    .dataframe thead th {\n",
       "        text-align: right;\n",
       "    }\n",
       "</style>\n",
       "<table border=\"1\" class=\"dataframe\">\n",
       "  <thead>\n",
       "    <tr style=\"text-align: right;\">\n",
       "      <th>월</th>\n",
       "      <th>1월</th>\n",
       "      <th>2월</th>\n",
       "    </tr>\n",
       "    <tr>\n",
       "      <th>카테고리</th>\n",
       "      <th></th>\n",
       "      <th></th>\n",
       "    </tr>\n",
       "  </thead>\n",
       "  <tbody>\n",
       "    <tr>\n",
       "      <th>가전</th>\n",
       "      <td>500</td>\n",
       "      <td>550</td>\n",
       "    </tr>\n",
       "    <tr>\n",
       "      <th>식품</th>\n",
       "      <td>200</td>\n",
       "      <td>250</td>\n",
       "    </tr>\n",
       "  </tbody>\n",
       "</table>\n",
       "</div>"
      ],
      "text/plain": [
       "월      1월   2월\n",
       "카테고리          \n",
       "가전    500  550\n",
       "식품    200  250"
      ]
     },
     "execution_count": 90,
     "metadata": {},
     "output_type": "execute_result"
    }
   ],
   "source": [
    "df.pivot(index='카테고리', columns='월', values='매출')"
   ]
  },
  {
   "cell_type": "code",
   "execution_count": null,
   "id": "a1bcc765-8472-4392-b3ab-e114313f9692",
   "metadata": {},
   "outputs": [],
   "source": []
  },
  {
   "cell_type": "code",
   "execution_count": null,
   "id": "cd2a4e8f-b96e-44be-9f50-9ada70c5d901",
   "metadata": {},
   "outputs": [],
   "source": []
  },
  {
   "cell_type": "code",
   "execution_count": null,
   "id": "50a70766-d68c-4300-adc6-aebbfcb7edc2",
   "metadata": {},
   "outputs": [],
   "source": []
  },
  {
   "cell_type": "code",
   "execution_count": null,
   "id": "5fa54157-35f6-4c2e-ae57-b48f78c1a553",
   "metadata": {},
   "outputs": [],
   "source": []
  },
  {
   "cell_type": "code",
   "execution_count": null,
   "id": "47ae7e1b-94fa-4b80-9e81-e9614347cc2b",
   "metadata": {},
   "outputs": [],
   "source": []
  },
  {
   "cell_type": "code",
   "execution_count": null,
   "id": "e2b30c51-9529-4bd0-bf0a-009ad2a7c096",
   "metadata": {},
   "outputs": [],
   "source": []
  },
  {
   "cell_type": "code",
   "execution_count": null,
   "id": "7551c28d-e37c-4d72-a5f8-76d679a61407",
   "metadata": {},
   "outputs": [],
   "source": []
  },
  {
   "cell_type": "code",
   "execution_count": null,
   "id": "0363d820-4df3-4beb-b018-6c9bb860a5a5",
   "metadata": {},
   "outputs": [],
   "source": []
  },
  {
   "cell_type": "code",
   "execution_count": null,
   "id": "4721b783-9728-480f-931f-52a5e80b5d38",
   "metadata": {},
   "outputs": [],
   "source": []
  },
  {
   "cell_type": "code",
   "execution_count": null,
   "id": "647700c0-6e82-483a-bc8a-666af2e27e0f",
   "metadata": {},
   "outputs": [],
   "source": []
  },
  {
   "cell_type": "code",
   "execution_count": null,
   "id": "cb83dc53-974a-4fbc-acd0-a268c48dbee5",
   "metadata": {},
   "outputs": [],
   "source": []
  },
  {
   "cell_type": "code",
   "execution_count": null,
   "id": "00355c38-8691-4621-9ef6-2d5242b0df5f",
   "metadata": {},
   "outputs": [],
   "source": []
  },
  {
   "cell_type": "code",
   "execution_count": null,
   "id": "6fdecd93-7756-40a0-945b-27a6dff6478f",
   "metadata": {},
   "outputs": [],
   "source": []
  },
  {
   "cell_type": "code",
   "execution_count": null,
   "id": "f6ac6bbf-08e1-4d07-a6c6-14cdb68018f4",
   "metadata": {},
   "outputs": [],
   "source": []
  },
  {
   "cell_type": "code",
   "execution_count": null,
   "id": "23f0a167-b9c5-4930-b35b-a84162c596ca",
   "metadata": {},
   "outputs": [],
   "source": []
  },
  {
   "cell_type": "code",
   "execution_count": null,
   "id": "c50ae679-fac3-492d-b733-7965bc6e46f2",
   "metadata": {},
   "outputs": [],
   "source": []
  },
  {
   "cell_type": "code",
   "execution_count": null,
   "id": "37c69daf-763e-4abd-b7f7-bc7aaa242f9b",
   "metadata": {},
   "outputs": [],
   "source": []
  },
  {
   "cell_type": "code",
   "execution_count": null,
   "id": "5af66999-3713-460c-829d-f7618230bb4d",
   "metadata": {},
   "outputs": [],
   "source": []
  },
  {
   "cell_type": "code",
   "execution_count": null,
   "id": "f3921fe5-6735-4ce8-b6ba-cce24d15f061",
   "metadata": {},
   "outputs": [],
   "source": []
  },
  {
   "cell_type": "code",
   "execution_count": null,
   "id": "df7c1bdd-a2fd-4001-8d76-d1c1c86bfa6d",
   "metadata": {},
   "outputs": [],
   "source": []
  },
  {
   "cell_type": "code",
   "execution_count": null,
   "id": "2dcc1c4e-ad05-4933-9e78-8269679dbf68",
   "metadata": {},
   "outputs": [],
   "source": []
  },
  {
   "cell_type": "code",
   "execution_count": null,
   "id": "b26485de-37da-4bf7-bc86-3124f565f2c4",
   "metadata": {},
   "outputs": [],
   "source": []
  },
  {
   "cell_type": "code",
   "execution_count": null,
   "id": "144c4faf-8188-45ca-b244-0b37eadd46fd",
   "metadata": {},
   "outputs": [],
   "source": []
  },
  {
   "cell_type": "code",
   "execution_count": null,
   "id": "6a54f1ae-94a1-4a49-8764-124a4362498a",
   "metadata": {},
   "outputs": [],
   "source": []
  },
  {
   "cell_type": "code",
   "execution_count": null,
   "id": "228faaf1-ffb5-4e1c-9470-914f8dfd7059",
   "metadata": {},
   "outputs": [],
   "source": []
  },
  {
   "cell_type": "code",
   "execution_count": null,
   "id": "1508afd8-f025-435f-ad9d-7b7b1b6a2a1c",
   "metadata": {},
   "outputs": [],
   "source": []
  },
  {
   "cell_type": "code",
   "execution_count": null,
   "id": "26a5627b-7df5-4333-8841-3faa2e0bd217",
   "metadata": {},
   "outputs": [],
   "source": []
  }
 ],
 "metadata": {
  "kernelspec": {
   "display_name": "Python 3 (ipykernel)",
   "language": "python",
   "name": "python3"
  },
  "language_info": {
   "codemirror_mode": {
    "name": "ipython",
    "version": 3
   },
   "file_extension": ".py",
   "mimetype": "text/x-python",
   "name": "python",
   "nbconvert_exporter": "python",
   "pygments_lexer": "ipython3",
   "version": "3.10.18"
  }
 },
 "nbformat": 4,
 "nbformat_minor": 5
}
