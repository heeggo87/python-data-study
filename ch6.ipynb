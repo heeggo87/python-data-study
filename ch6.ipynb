{
 "cells": [
  {
   "cell_type": "code",
   "execution_count": 1,
   "id": "5366d477-6e2b-4269-9d4e-5ee126a2109c",
   "metadata": {},
   "outputs": [],
   "source": [
    "# 데이터 탐색과 전처리"
   ]
  },
  {
   "cell_type": "code",
   "execution_count": 2,
   "id": "d2bad823-c081-458d-a7ad-e3390e17933a",
   "metadata": {},
   "outputs": [],
   "source": [
    "import numpy as np\n",
    "import pandas as pd"
   ]
  },
  {
   "cell_type": "code",
   "execution_count": 3,
   "id": "31dd08da-1241-4374-8c81-ff084a0bf405",
   "metadata": {},
   "outputs": [],
   "source": [
    "# 데이터 탐색하기"
   ]
  },
  {
   "cell_type": "code",
   "execution_count": 4,
   "id": "a03868f9-068a-45d2-8815-70d15c6d9305",
   "metadata": {},
   "outputs": [],
   "source": [
    "# 서울 마포구 코로나 확진자 현황보기\n",
    "# - nan: 빈값"
   ]
  },
  {
   "cell_type": "code",
   "execution_count": 5,
   "id": "06663ce4-354c-4910-91d9-3b098d59496d",
   "metadata": {
    "scrolled": true
   },
   "outputs": [
    {
     "data": {
      "text/html": [
       "<div>\n",
       "<style scoped>\n",
       "    .dataframe tbody tr th:only-of-type {\n",
       "        vertical-align: middle;\n",
       "    }\n",
       "\n",
       "    .dataframe tbody tr th {\n",
       "        vertical-align: top;\n",
       "    }\n",
       "\n",
       "    .dataframe thead th {\n",
       "        text-align: right;\n",
       "    }\n",
       "</style>\n",
       "<table border=\"1\" class=\"dataframe\">\n",
       "  <thead>\n",
       "    <tr style=\"text-align: right;\">\n",
       "      <th></th>\n",
       "      <th>기준연도</th>\n",
       "      <th>기준월</th>\n",
       "      <th>시도명</th>\n",
       "      <th>시군구명</th>\n",
       "      <th>법정동</th>\n",
       "      <th>확진자수</th>\n",
       "    </tr>\n",
       "  </thead>\n",
       "  <tbody>\n",
       "    <tr>\n",
       "      <th>0</th>\n",
       "      <td>2020</td>\n",
       "      <td>1</td>\n",
       "      <td>서울특별시</td>\n",
       "      <td>마포구</td>\n",
       "      <td>공덕동</td>\n",
       "      <td>0.0</td>\n",
       "    </tr>\n",
       "    <tr>\n",
       "      <th>1</th>\n",
       "      <td>2020</td>\n",
       "      <td>2</td>\n",
       "      <td>서울특별시</td>\n",
       "      <td>마포구</td>\n",
       "      <td>공덕동</td>\n",
       "      <td>0.0</td>\n",
       "    </tr>\n",
       "    <tr>\n",
       "      <th>2</th>\n",
       "      <td>2020</td>\n",
       "      <td>3</td>\n",
       "      <td>NaN</td>\n",
       "      <td>NaN</td>\n",
       "      <td>NaN</td>\n",
       "      <td>2.0</td>\n",
       "    </tr>\n",
       "    <tr>\n",
       "      <th>3</th>\n",
       "      <td>2020</td>\n",
       "      <td>4</td>\n",
       "      <td>서울특별시</td>\n",
       "      <td>마포구</td>\n",
       "      <td>공덕동</td>\n",
       "      <td>NaN</td>\n",
       "    </tr>\n",
       "    <tr>\n",
       "      <th>4</th>\n",
       "      <td>2020</td>\n",
       "      <td>5</td>\n",
       "      <td>서울특별시</td>\n",
       "      <td>마포구</td>\n",
       "      <td>공덕동</td>\n",
       "      <td>NaN</td>\n",
       "    </tr>\n",
       "    <tr>\n",
       "      <th>...</th>\n",
       "      <td>...</td>\n",
       "      <td>...</td>\n",
       "      <td>...</td>\n",
       "      <td>...</td>\n",
       "      <td>...</td>\n",
       "      <td>...</td>\n",
       "    </tr>\n",
       "    <tr>\n",
       "      <th>679</th>\n",
       "      <td>2022</td>\n",
       "      <td>8</td>\n",
       "      <td>서울특별시</td>\n",
       "      <td>마포구</td>\n",
       "      <td>염리동</td>\n",
       "      <td>1053.0</td>\n",
       "    </tr>\n",
       "    <tr>\n",
       "      <th>680</th>\n",
       "      <td>2022</td>\n",
       "      <td>9</td>\n",
       "      <td>서울특별시</td>\n",
       "      <td>마포구</td>\n",
       "      <td>염리동</td>\n",
       "      <td>423.0</td>\n",
       "    </tr>\n",
       "    <tr>\n",
       "      <th>681</th>\n",
       "      <td>2022</td>\n",
       "      <td>10</td>\n",
       "      <td>서울특별시</td>\n",
       "      <td>마포구</td>\n",
       "      <td>염리동</td>\n",
       "      <td>289.0</td>\n",
       "    </tr>\n",
       "    <tr>\n",
       "      <th>682</th>\n",
       "      <td>2022</td>\n",
       "      <td>11</td>\n",
       "      <td>서울특별시</td>\n",
       "      <td>마포구</td>\n",
       "      <td>염리동</td>\n",
       "      <td>502.0</td>\n",
       "    </tr>\n",
       "    <tr>\n",
       "      <th>683</th>\n",
       "      <td>2022</td>\n",
       "      <td>12</td>\n",
       "      <td>서울특별시</td>\n",
       "      <td>마포구</td>\n",
       "      <td>염리동</td>\n",
       "      <td>669.0</td>\n",
       "    </tr>\n",
       "  </tbody>\n",
       "</table>\n",
       "<p>684 rows × 6 columns</p>\n",
       "</div>"
      ],
      "text/plain": [
       "     기준연도  기준월    시도명 시군구명  법정동    확진자수\n",
       "0    2020    1  서울특별시  마포구  공덕동     0.0\n",
       "1    2020    2  서울특별시  마포구  공덕동     0.0\n",
       "2    2020    3    NaN  NaN  NaN     2.0\n",
       "3    2020    4  서울특별시  마포구  공덕동     NaN\n",
       "4    2020    5  서울특별시  마포구  공덕동     NaN\n",
       "..    ...  ...    ...  ...  ...     ...\n",
       "679  2022    8  서울특별시  마포구  염리동  1053.0\n",
       "680  2022    9  서울특별시  마포구  염리동   423.0\n",
       "681  2022   10  서울특별시  마포구  염리동   289.0\n",
       "682  2022   11  서울특별시  마포구  염리동   502.0\n",
       "683  2022   12  서울특별시  마포구  염리동   669.0\n",
       "\n",
       "[684 rows x 6 columns]"
      ]
     },
     "execution_count": 5,
     "metadata": {},
     "output_type": "execute_result"
    }
   ],
   "source": [
    "data = pd.read_csv('0917/서울특별시 마포구_법정동별_월별_코로나19 확진자 현황.csv',encoding='euc-kr')\n",
    "data"
   ]
  },
  {
   "cell_type": "code",
   "execution_count": 6,
   "id": "3f1758ba-967a-4e8f-9f84-ad1ca0a2c5ea",
   "metadata": {},
   "outputs": [
    {
     "data": {
      "text/plain": [
       "0         0.0\n",
       "1         0.0\n",
       "2         2.0\n",
       "3         NaN\n",
       "4         NaN\n",
       "        ...  \n",
       "679    1053.0\n",
       "680     423.0\n",
       "681     289.0\n",
       "682     502.0\n",
       "683     669.0\n",
       "Name: 확진자수, Length: 684, dtype: float64"
      ]
     },
     "execution_count": 6,
     "metadata": {},
     "output_type": "execute_result"
    }
   ],
   "source": [
    "# 컬럼 한개만 선택\n",
    "data['확진자수']"
   ]
  },
  {
   "cell_type": "code",
   "execution_count": 7,
   "id": "a71d51f4-7356-431d-9ff3-9048d082137a",
   "metadata": {},
   "outputs": [
    {
     "data": {
      "text/html": [
       "<div>\n",
       "<style scoped>\n",
       "    .dataframe tbody tr th:only-of-type {\n",
       "        vertical-align: middle;\n",
       "    }\n",
       "\n",
       "    .dataframe tbody tr th {\n",
       "        vertical-align: top;\n",
       "    }\n",
       "\n",
       "    .dataframe thead th {\n",
       "        text-align: right;\n",
       "    }\n",
       "</style>\n",
       "<table border=\"1\" class=\"dataframe\">\n",
       "  <thead>\n",
       "    <tr style=\"text-align: right;\">\n",
       "      <th></th>\n",
       "      <th>기준연도</th>\n",
       "      <th>기준월</th>\n",
       "      <th>법정동</th>\n",
       "      <th>확진자수</th>\n",
       "    </tr>\n",
       "  </thead>\n",
       "  <tbody>\n",
       "    <tr>\n",
       "      <th>0</th>\n",
       "      <td>2020</td>\n",
       "      <td>1</td>\n",
       "      <td>공덕동</td>\n",
       "      <td>0.0</td>\n",
       "    </tr>\n",
       "    <tr>\n",
       "      <th>1</th>\n",
       "      <td>2020</td>\n",
       "      <td>2</td>\n",
       "      <td>공덕동</td>\n",
       "      <td>0.0</td>\n",
       "    </tr>\n",
       "    <tr>\n",
       "      <th>2</th>\n",
       "      <td>2020</td>\n",
       "      <td>3</td>\n",
       "      <td>NaN</td>\n",
       "      <td>2.0</td>\n",
       "    </tr>\n",
       "    <tr>\n",
       "      <th>3</th>\n",
       "      <td>2020</td>\n",
       "      <td>4</td>\n",
       "      <td>공덕동</td>\n",
       "      <td>NaN</td>\n",
       "    </tr>\n",
       "    <tr>\n",
       "      <th>4</th>\n",
       "      <td>2020</td>\n",
       "      <td>5</td>\n",
       "      <td>공덕동</td>\n",
       "      <td>NaN</td>\n",
       "    </tr>\n",
       "    <tr>\n",
       "      <th>...</th>\n",
       "      <td>...</td>\n",
       "      <td>...</td>\n",
       "      <td>...</td>\n",
       "      <td>...</td>\n",
       "    </tr>\n",
       "    <tr>\n",
       "      <th>679</th>\n",
       "      <td>2022</td>\n",
       "      <td>8</td>\n",
       "      <td>염리동</td>\n",
       "      <td>1053.0</td>\n",
       "    </tr>\n",
       "    <tr>\n",
       "      <th>680</th>\n",
       "      <td>2022</td>\n",
       "      <td>9</td>\n",
       "      <td>염리동</td>\n",
       "      <td>423.0</td>\n",
       "    </tr>\n",
       "    <tr>\n",
       "      <th>681</th>\n",
       "      <td>2022</td>\n",
       "      <td>10</td>\n",
       "      <td>염리동</td>\n",
       "      <td>289.0</td>\n",
       "    </tr>\n",
       "    <tr>\n",
       "      <th>682</th>\n",
       "      <td>2022</td>\n",
       "      <td>11</td>\n",
       "      <td>염리동</td>\n",
       "      <td>502.0</td>\n",
       "    </tr>\n",
       "    <tr>\n",
       "      <th>683</th>\n",
       "      <td>2022</td>\n",
       "      <td>12</td>\n",
       "      <td>염리동</td>\n",
       "      <td>669.0</td>\n",
       "    </tr>\n",
       "  </tbody>\n",
       "</table>\n",
       "<p>684 rows × 4 columns</p>\n",
       "</div>"
      ],
      "text/plain": [
       "     기준연도  기준월  법정동    확진자수\n",
       "0    2020    1  공덕동     0.0\n",
       "1    2020    2  공덕동     0.0\n",
       "2    2020    3  NaN     2.0\n",
       "3    2020    4  공덕동     NaN\n",
       "4    2020    5  공덕동     NaN\n",
       "..    ...  ...  ...     ...\n",
       "679  2022    8  염리동  1053.0\n",
       "680  2022    9  염리동   423.0\n",
       "681  2022   10  염리동   289.0\n",
       "682  2022   11  염리동   502.0\n",
       "683  2022   12  염리동   669.0\n",
       "\n",
       "[684 rows x 4 columns]"
      ]
     },
     "execution_count": 7,
     "metadata": {},
     "output_type": "execute_result"
    }
   ],
   "source": [
    "# 여러 컬럼 선택\n",
    "df = data[['기준연도','기준월','법정동','확진자수']]\n",
    "df"
   ]
  },
  {
   "cell_type": "code",
   "execution_count": 8,
   "id": "392788c7-a31b-4a78-9783-53822b4da267",
   "metadata": {},
   "outputs": [
    {
     "data": {
      "text/plain": [
       "확진자수\n",
       "0.0       160\n",
       "1.0        41\n",
       "2.0        28\n",
       "3.0        22\n",
       "4.0        15\n",
       "         ... \n",
       "1053.0      1\n",
       "423.0       1\n",
       "289.0       1\n",
       "502.0       1\n",
       "669.0       1\n",
       "Name: count, Length: 244, dtype: int64"
      ]
     },
     "execution_count": 8,
     "metadata": {},
     "output_type": "execute_result"
    }
   ],
   "source": [
    "# 데이터의 앞 부분만 확인 (5개)\n",
    "df.head()\n",
    "# 데이터의 개수\n",
    "df.count()\n",
    "# 중복을 제외한 고유값\n",
    "df['확진자수'].unique()\n",
    "# 확진자별 개수 세기\n",
    "df['확진자수'].value_counts()"
   ]
  },
  {
   "cell_type": "code",
   "execution_count": null,
   "id": "4837c2e9-cd64-4d99-958f-b571f3bd460e",
   "metadata": {},
   "outputs": [],
   "source": []
  },
  {
   "cell_type": "code",
   "execution_count": 9,
   "id": "ad47425c-8cfe-46eb-bf36-93337b565236",
   "metadata": {},
   "outputs": [
    {
     "ename": "KeyError",
     "evalue": "\"['2025년08월_총인구수', '2025년08월_남자 인구수', '2025년08월_여자 인구수', '2025년08월_남여 비율'] not in index\"",
     "output_type": "error",
     "traceback": [
      "\u001b[1;31m---------------------------------------------------------------------------\u001b[0m",
      "\u001b[1;31mKeyError\u001b[0m                                  Traceback (most recent call last)",
      "Cell \u001b[1;32mIn[9], line 6\u001b[0m\n\u001b[0;32m      3\u001b[0m data\n\u001b[0;32m      5\u001b[0m \u001b[38;5;66;03m# '행정구역', '2025년08월_총인구수', '2025년08월_남자 인구수', '2025년08월_여자 인구수', '2025년08월_남여 비율' 컬럼만 선택하세요.\u001b[39;00m\n\u001b[1;32m----> 6\u001b[0m df \u001b[38;5;241m=\u001b[39m \u001b[43mdata\u001b[49m\u001b[43m[\u001b[49m\u001b[43m[\u001b[49m\u001b[38;5;124;43m'\u001b[39;49m\u001b[38;5;124;43m행정구역\u001b[39;49m\u001b[38;5;124;43m'\u001b[39;49m\u001b[43m,\u001b[49m\u001b[43m \u001b[49m\u001b[38;5;124;43m'\u001b[39;49m\u001b[38;5;124;43m2025년08월_총인구수\u001b[39;49m\u001b[38;5;124;43m'\u001b[39;49m\u001b[43m,\u001b[49m\u001b[43m \u001b[49m\u001b[38;5;124;43m'\u001b[39;49m\u001b[38;5;124;43m2025년08월_남자 인구수\u001b[39;49m\u001b[38;5;124;43m'\u001b[39;49m\u001b[43m,\u001b[49m\u001b[43m \u001b[49m\u001b[38;5;124;43m'\u001b[39;49m\u001b[38;5;124;43m2025년08월_여자 인구수\u001b[39;49m\u001b[38;5;124;43m'\u001b[39;49m\u001b[43m,\u001b[49m\u001b[43m \u001b[49m\u001b[38;5;124;43m'\u001b[39;49m\u001b[38;5;124;43m2025년08월_남여 비율\u001b[39;49m\u001b[38;5;124;43m'\u001b[39;49m\u001b[43m]\u001b[49m\u001b[43m]\u001b[49m\n\u001b[0;32m      8\u001b[0m \u001b[38;5;66;03m# 행정구역 컬럼에서 데이터를 앞부분 5개 확인하고 데이터 전체 개수를 구하세요.\u001b[39;00m\n\u001b[0;32m      9\u001b[0m \u001b[38;5;28mprint\u001b[39m(df[\u001b[38;5;124m'\u001b[39m\u001b[38;5;124m행정구역\u001b[39m\u001b[38;5;124m'\u001b[39m]\u001b[38;5;241m.\u001b[39mhead())\n",
      "File \u001b[1;32m~\\miniconda3\\envs\\yh\\lib\\site-packages\\pandas\\core\\frame.py:4113\u001b[0m, in \u001b[0;36mDataFrame.__getitem__\u001b[1;34m(self, key)\u001b[0m\n\u001b[0;32m   4111\u001b[0m     \u001b[38;5;28;01mif\u001b[39;00m is_iterator(key):\n\u001b[0;32m   4112\u001b[0m         key \u001b[38;5;241m=\u001b[39m \u001b[38;5;28mlist\u001b[39m(key)\n\u001b[1;32m-> 4113\u001b[0m     indexer \u001b[38;5;241m=\u001b[39m \u001b[38;5;28;43mself\u001b[39;49m\u001b[38;5;241;43m.\u001b[39;49m\u001b[43mcolumns\u001b[49m\u001b[38;5;241;43m.\u001b[39;49m\u001b[43m_get_indexer_strict\u001b[49m\u001b[43m(\u001b[49m\u001b[43mkey\u001b[49m\u001b[43m,\u001b[49m\u001b[43m \u001b[49m\u001b[38;5;124;43m\"\u001b[39;49m\u001b[38;5;124;43mcolumns\u001b[39;49m\u001b[38;5;124;43m\"\u001b[39;49m\u001b[43m)\u001b[49m[\u001b[38;5;241m1\u001b[39m]\n\u001b[0;32m   4115\u001b[0m \u001b[38;5;66;03m# take() does not accept boolean indexers\u001b[39;00m\n\u001b[0;32m   4116\u001b[0m \u001b[38;5;28;01mif\u001b[39;00m \u001b[38;5;28mgetattr\u001b[39m(indexer, \u001b[38;5;124m\"\u001b[39m\u001b[38;5;124mdtype\u001b[39m\u001b[38;5;124m\"\u001b[39m, \u001b[38;5;28;01mNone\u001b[39;00m) \u001b[38;5;241m==\u001b[39m \u001b[38;5;28mbool\u001b[39m:\n",
      "File \u001b[1;32m~\\miniconda3\\envs\\yh\\lib\\site-packages\\pandas\\core\\indexes\\base.py:6212\u001b[0m, in \u001b[0;36mIndex._get_indexer_strict\u001b[1;34m(self, key, axis_name)\u001b[0m\n\u001b[0;32m   6209\u001b[0m \u001b[38;5;28;01melse\u001b[39;00m:\n\u001b[0;32m   6210\u001b[0m     keyarr, indexer, new_indexer \u001b[38;5;241m=\u001b[39m \u001b[38;5;28mself\u001b[39m\u001b[38;5;241m.\u001b[39m_reindex_non_unique(keyarr)\n\u001b[1;32m-> 6212\u001b[0m \u001b[38;5;28;43mself\u001b[39;49m\u001b[38;5;241;43m.\u001b[39;49m\u001b[43m_raise_if_missing\u001b[49m\u001b[43m(\u001b[49m\u001b[43mkeyarr\u001b[49m\u001b[43m,\u001b[49m\u001b[43m \u001b[49m\u001b[43mindexer\u001b[49m\u001b[43m,\u001b[49m\u001b[43m \u001b[49m\u001b[43maxis_name\u001b[49m\u001b[43m)\u001b[49m\n\u001b[0;32m   6214\u001b[0m keyarr \u001b[38;5;241m=\u001b[39m \u001b[38;5;28mself\u001b[39m\u001b[38;5;241m.\u001b[39mtake(indexer)\n\u001b[0;32m   6215\u001b[0m \u001b[38;5;28;01mif\u001b[39;00m \u001b[38;5;28misinstance\u001b[39m(key, Index):\n\u001b[0;32m   6216\u001b[0m     \u001b[38;5;66;03m# GH 42790 - Preserve name from an Index\u001b[39;00m\n",
      "File \u001b[1;32m~\\miniconda3\\envs\\yh\\lib\\site-packages\\pandas\\core\\indexes\\base.py:6264\u001b[0m, in \u001b[0;36mIndex._raise_if_missing\u001b[1;34m(self, key, indexer, axis_name)\u001b[0m\n\u001b[0;32m   6261\u001b[0m     \u001b[38;5;28;01mraise\u001b[39;00m \u001b[38;5;167;01mKeyError\u001b[39;00m(\u001b[38;5;124mf\u001b[39m\u001b[38;5;124m\"\u001b[39m\u001b[38;5;124mNone of [\u001b[39m\u001b[38;5;132;01m{\u001b[39;00mkey\u001b[38;5;132;01m}\u001b[39;00m\u001b[38;5;124m] are in the [\u001b[39m\u001b[38;5;132;01m{\u001b[39;00maxis_name\u001b[38;5;132;01m}\u001b[39;00m\u001b[38;5;124m]\u001b[39m\u001b[38;5;124m\"\u001b[39m)\n\u001b[0;32m   6263\u001b[0m not_found \u001b[38;5;241m=\u001b[39m \u001b[38;5;28mlist\u001b[39m(ensure_index(key)[missing_mask\u001b[38;5;241m.\u001b[39mnonzero()[\u001b[38;5;241m0\u001b[39m]]\u001b[38;5;241m.\u001b[39munique())\n\u001b[1;32m-> 6264\u001b[0m \u001b[38;5;28;01mraise\u001b[39;00m \u001b[38;5;167;01mKeyError\u001b[39;00m(\u001b[38;5;124mf\u001b[39m\u001b[38;5;124m\"\u001b[39m\u001b[38;5;132;01m{\u001b[39;00mnot_found\u001b[38;5;132;01m}\u001b[39;00m\u001b[38;5;124m not in index\u001b[39m\u001b[38;5;124m\"\u001b[39m)\n",
      "\u001b[1;31mKeyError\u001b[0m: \"['2025년08월_총인구수', '2025년08월_남자 인구수', '2025년08월_여자 인구수', '2025년08월_남여 비율'] not in index\""
     ]
    }
   ],
   "source": [
    "# 1. 주민등록인구및세대현황.csv 파일을 불러오세요.\n",
    "data = pd.read_csv('0917/주민등록인구및세대현황.csv',encoding='euc-kr')\n",
    "data\n",
    "\n",
    "# '행정구역', '2025년08월_총인구수', '2025년08월_남자 인구수', '2025년08월_여자 인구수', '2025년08월_남여 비율' 컬럼만 선택하세요.\n",
    "df = data[['행정구역', '2025년08월_총인구수', '2025년08월_남자 인구수', '2025년08월_여자 인구수', '2025년08월_남여 비율']]\n",
    "\n",
    "# 행정구역 컬럼에서 데이터를 앞부분 5개 확인하고 데이터 전체 개수를 구하세요.\n",
    "print(df['행정구역'].head())\n",
    "print(df['행정구역'].count())\n",
    "\n",
    "# 2025년08월_남여 비율 컬럼에서 중복을 제거한 고유값을 확인하고 데이터별 개수를 구하세요.\n",
    "print(df['2025년08월_남여 비율'].unique())\n",
    "print(df['2025년08월_남여 비율'].value_counts())"
   ]
  },
  {
   "cell_type": "code",
   "execution_count": null,
   "id": "53fe1447-152c-4396-bedf-2194718a9dcc",
   "metadata": {},
   "outputs": [],
   "source": []
  },
  {
   "cell_type": "code",
   "execution_count": null,
   "id": "64396efa-7534-483e-ba2c-bd0e08809c5a",
   "metadata": {},
   "outputs": [],
   "source": [
    "# 서울시설공단_서울도시고속도로 노선별 시간대별 교통량.csv 파일을 불러오세요.\n",
    "df = pd.read_csv('0917/서울시설공단_서울도시고속도로 노선별 시간대별 교통량.csv',encoding='euc-kr')\n",
    "df\n",
    "\n",
    "# 노선 컬럼에서 데이터를 앞부분 5개 확인하고 데이터 전체 개수를 구하세요.\n",
    "df['노선'].head()\n",
    "df['노선'].count()\n",
    "\n",
    "# 노선 컬럼에서 중복을 제거한 고유값을 확인하고 데이터별 개수를 구하세요.\n",
    "print(df['노선'].unique())\n",
    "print(df['노선'].value_counts())"
   ]
  },
  {
   "cell_type": "code",
   "execution_count": null,
   "id": "373a67ea-0494-4e57-a216-f4700313f8e9",
   "metadata": {},
   "outputs": [],
   "source": []
  },
  {
   "cell_type": "code",
   "execution_count": null,
   "id": "8989a4f4-3abc-496d-af34-d9a54a315169",
   "metadata": {},
   "outputs": [],
   "source": [
    "# 서울시 버스노선별 정류장별 승하차 인원 정보.csv 파일을 불러오세요.\n",
    "df = pd.read_csv('0917/서울시 버스노선별 정류장별 승하차 인원 정보.csv',encoding='euc-kr')\n",
    "df\n",
    "\n",
    "# '노선번호', '노선명', '표준버스정류장ID', '역명', '승차총승객수', '하차총승객수' 컬럼만 선택하세요.\n",
    "df[['노선번호', '노선명', '표준버스정류장ID', '역명', '승차총승객수', '하차총승객수']]\n",
    "\n",
    "# 표준버스정류장ID 컬럼에서 데이터를 앞부분 5개 확인하고 데이터 전체 개수를 구하세요.\n",
    "df['표준버스정류장ID'].head()\n",
    "df['표준버스정류장ID'].count()\n",
    "\n",
    "# 표준버스정류장ID 컬럼에서 중복을 제거한 고유값을 확인하고 데이터별 개수를 구하세요.\n",
    "df['표준버스정류장ID'].unique()\n",
    "df['표준버스정류장ID'].value_counts()"
   ]
  },
  {
   "cell_type": "code",
   "execution_count": null,
   "id": "33786971-a41c-4a79-9d1c-1974cebd5b64",
   "metadata": {},
   "outputs": [],
   "source": []
  },
  {
   "cell_type": "code",
   "execution_count": null,
   "id": "a76d78d6-14e1-4333-8d01-97e9c292e21d",
   "metadata": {},
   "outputs": [],
   "source": [
    "data = pd.read_csv('0917/서울특별시 마포구_법정동별_월별_코로나19 확진자 현황.csv',encoding='euc-kr')\n",
    "data\n",
    "\n",
    "df = data[['기준연도','기준월','법정동','확진자수']]\n",
    "print(df['확진자수'].isnull())\n",
    "\n",
    "# 빈값 개수세기\n",
    "df['확진자수'].isnull().sum()"
   ]
  },
  {
   "cell_type": "code",
   "execution_count": null,
   "id": "764bb66e-0b43-47c3-909b-3aa5084048fc",
   "metadata": {},
   "outputs": [],
   "source": []
  },
  {
   "cell_type": "code",
   "execution_count": null,
   "id": "a329f20d-55da-4f7c-90ce-b180c3e644ac",
   "metadata": {},
   "outputs": [],
   "source": [
    "df"
   ]
  },
  {
   "cell_type": "code",
   "execution_count": null,
   "id": "58b20e0a-a498-4e28-9bc7-828edd771e7e",
   "metadata": {},
   "outputs": [],
   "source": [
    "# 빈값이 있는 행 삭제\n",
    "df.dropna()\n",
    "\n",
    "# 확진자수가 없는 행만 삭제\n",
    "df.dropna(subset=['확진자수'])\n",
    "\n",
    "# 결과만 보여주고 원본데이터에는 영향 없음 => dropna\n",
    "df"
   ]
  },
  {
   "cell_type": "code",
   "execution_count": null,
   "id": "a0d57483-2c4e-4bcb-a94f-e3b927ced1f3",
   "metadata": {},
   "outputs": [],
   "source": []
  },
  {
   "cell_type": "code",
   "execution_count": null,
   "id": "c615241c-a6d6-4e57-8543-3c18ebb4c31a",
   "metadata": {},
   "outputs": [],
   "source": [
    "# 빈값을 다른값으로 대체하기 => fillna\n",
    "# 결과만 보여주고 원본데이터에는 영향 없음 => fillna\n",
    "\n",
    "# 법정동에 빈값이 있으면 '모름' 으로 표시\n",
    "df['법정동'].fillna('모름')\n",
    "\n",
    "# 여러컬럼을 한번에 교체 => ex) 법정동, 확진자수\n",
    "df = df.fillna({'법정동':'모름','확진자수':0})\n",
    "df"
   ]
  },
  {
   "cell_type": "code",
   "execution_count": null,
   "id": "7e8f31f7-7901-4e42-aab8-a03bcd2bf01b",
   "metadata": {},
   "outputs": [],
   "source": []
  },
  {
   "cell_type": "code",
   "execution_count": null,
   "id": "a0ca189d-9717-427f-ab90-d392bef6af29",
   "metadata": {},
   "outputs": [],
   "source": [
    "# 1. 주민등록인구및세대현황.csv 파일을 불러오세요.\n",
    "data = pd.read_csv('0917/주민등록인구및세대현황.csv',encoding='euc-kr')\n",
    "data\n",
    "\n",
    "df = data[['행정구역','총인구수','남자 인구수','여자 인구수','남여 비율']]\n",
    "df"
   ]
  },
  {
   "cell_type": "code",
   "execution_count": null,
   "id": "1b2ddf1a-2020-4d25-8f2a-a4c1ed897f83",
   "metadata": {},
   "outputs": [],
   "source": [
    "# 2025년08월_남자 인구수 컬럼에서 값이 없는 행을 확인하세요.\n",
    "df['남자 인구수'].isnull()\n",
    "# 2025년08월_남자 인구수 컬럼에서 값이 없는 행의 개수를 구하세요.\n",
    "df['남자 인구수'].isnull().sum()\n",
    "# 2025년08월_남자 인구수 값이 비어 있으면 999명으로 대체하세요.\n",
    "df['남자 인구수'].fillna(999)\n",
    "\n",
    "data.fillna({'세대당 인구':0, '남자 인구수':999})"
   ]
  },
  {
   "cell_type": "code",
   "execution_count": null,
   "id": "2037fa9a-b373-4692-9b97-59f401d03f20",
   "metadata": {},
   "outputs": [],
   "source": []
  },
  {
   "cell_type": "code",
   "execution_count": null,
   "id": "5778cd06-09e8-4ae5-b0d5-97d834808a38",
   "metadata": {},
   "outputs": [],
   "source": [
    "# 서울시설공단_서울도시고속도로 노선별 시간대별 교통량.csv 파일을 불러오세요.\n",
    "data = pd.read_csv('0917/서울시설공단_서울도시고속도로 노선별 시간대별 교통량.csv',encoding='euc-kr')\n",
    "data"
   ]
  },
  {
   "cell_type": "code",
   "execution_count": null,
   "id": "ddadd5fe-676e-40b5-b27a-49b9f43b745a",
   "metadata": {},
   "outputs": [],
   "source": [
    "# 교통량 컬럼에서 값이 없는 행의 개수를 구하세요.\n",
    "df = data['교통량'].isnull()\n",
    "df\n",
    "\n",
    "# 방향 값이 없는 행을 모두 삭제하세요.\n",
    "# 교통량 값이 비어 있으면 100으로 설정하세요"
   ]
  },
  {
   "cell_type": "code",
   "execution_count": null,
   "id": "d3a31f6d-0272-4633-b9fc-346e54e40866",
   "metadata": {},
   "outputs": [],
   "source": []
  },
  {
   "cell_type": "code",
   "execution_count": null,
   "id": "93fdddd4-5fac-4ee2-a61d-d4054e6bc7c8",
   "metadata": {},
   "outputs": [],
   "source": [
    "# 서울시 버스노선별 정류장별 승하차 인원 정보.csv 파일을 불러오세요.\n",
    "data = pd.read_csv('0917/서울시 버스노선별 정류장별 승하차 인원 정보.csv', encoding='euc-kr')\n",
    "data\n",
    "# '노선번호', '노선명', '표준버스정류장ID', '역명', '승차총승객수', '하차총승객수' 컬럼만 선택하세요.\n",
    "df = data[ [ '노선번호', '노선명', '표준버스정류장ID', '역명', '승차총승객수', '하차총승객수' ] ]\n",
    "df\n",
    "# 역명 컬럼에서 값이 없는 행의 개수를 구하세요.\n",
    "# 역명 값이 없는 행을 모두 삭제하세요.\n",
    "# 역명 값이 비어 있으면 '없음'으로 설정하세요."
   ]
  },
  {
   "cell_type": "code",
   "execution_count": null,
   "id": "9c26bd4d-2727-403c-bb79-219708190fc1",
   "metadata": {},
   "outputs": [],
   "source": []
  },
  {
   "cell_type": "code",
   "execution_count": null,
   "id": "7b13b3d9-9fd2-46a2-9435-aa78110f75b7",
   "metadata": {},
   "outputs": [],
   "source": [
    "# 원본에 덮을때\n",
    "# 앞에 df데이터를 똑같이 넣어주면 됨\n",
    "# df['남자 인구수'] = df['남자 인구수'].isnull()"
   ]
  },
  {
   "cell_type": "code",
   "execution_count": null,
   "id": "f50e04c5-fe6b-429b-ab60-9a6682dbcbc7",
   "metadata": {},
   "outputs": [],
   "source": [
    "df = pd.read_csv('0917/서울특별시 마포구_법정동별_월별_코로나19 확진자 현황.csv',encoding='euc-kr')\n",
    "df"
   ]
  },
  {
   "cell_type": "code",
   "execution_count": null,
   "id": "5eb9acf2-9bf0-48a3-8d13-dd64a845740b",
   "metadata": {},
   "outputs": [],
   "source": [
    "df['법정동'].str.endswith('흥동')"
   ]
  },
  {
   "cell_type": "code",
   "execution_count": null,
   "id": "657027f0-d5b0-48f3-9d1a-0a4e262ba5cd",
   "metadata": {},
   "outputs": [],
   "source": []
  },
  {
   "cell_type": "code",
   "execution_count": null,
   "id": "2f51956d-f9f4-4891-b89e-2e867729205f",
   "metadata": {
    "scrolled": true
   },
   "outputs": [],
   "source": [
    "data = pd.read_csv('0917/주민등록인구및세대현황.csv',encoding='euc-kr')\n",
    "df = data[['행정구역','총인구수','남자 인구수','여자 인구수','남여 비율']]\n",
    "df"
   ]
  },
  {
   "cell_type": "code",
   "execution_count": null,
   "id": "8aa6541b-d5d4-45df-81c5-304b48fbbc43",
   "metadata": {},
   "outputs": [],
   "source": [
    "df['행정구역'] == '서울특별시'\n",
    "df[df['행정구역'] == '서울특별시']"
   ]
  },
  {
   "cell_type": "code",
   "execution_count": null,
   "id": "952aaf89-3398-4b1d-8255-cc029729392b",
   "metadata": {},
   "outputs": [],
   "source": [
    "# 남여 비율이 1 이상인 지역만 조회\n",
    "df['남여 비율'] >= 1\n",
    "df[df['남여 비율'] >= 1]"
   ]
  },
  {
   "cell_type": "code",
   "execution_count": null,
   "id": "13bbf73e-37ec-4fc4-87fc-d58c3301b2df",
   "metadata": {},
   "outputs": [],
   "source": [
    "# 여자가 남자보다 많은 도시 찾기\n",
    "df['남자 인구수'] < df['여자 인구수']\n",
    "df[df['남자 인구수'] < df['여자 인구수']]\n",
    "df[df['남자 인구수'] < df['여자 인구수']]['행정구역']"
   ]
  },
  {
   "cell_type": "code",
   "execution_count": null,
   "id": "d4edc580-6473-481f-a3ee-9b9d38ab1b97",
   "metadata": {},
   "outputs": [],
   "source": []
  },
  {
   "cell_type": "code",
   "execution_count": null,
   "id": "6f4e7909-1a3d-4bf2-94fe-9ee4771da046",
   "metadata": {},
   "outputs": [],
   "source": [
    "# 서울시설공단_서울도시고속도로 노선별 시간대별 교통량.csv 파일을 불러오세요.\n",
    "df = pd.read_csv('0917/서울시설공단_서울도시고속도로 노선별 시간대별 교통량.csv',encoding='euc-kr')\n",
    "df\n",
    "\n",
    "# 데이터에서 노선이 '강변북로'인 행만 조회하세요.\n",
    "df['노선'] == '강변북로'\n",
    "df[df['노선'] == '강변북로']\n",
    "\n",
    "# 시간대가 1시인 행만 조회하세요.\n",
    "df[df['시간대'] == 1]\n",
    "\n",
    "# 방향이 동향인 교통량만 조회하세요\n",
    "df[df['방향'] == '동향']['교통량']"
   ]
  },
  {
   "cell_type": "code",
   "execution_count": null,
   "id": "e86f880d-bfb9-46bf-9341-04f0ce42ac02",
   "metadata": {},
   "outputs": [],
   "source": []
  },
  {
   "cell_type": "code",
   "execution_count": null,
   "id": "bd591ec9-b49b-432c-80dc-8e24c9bd9e5c",
   "metadata": {},
   "outputs": [],
   "source": [
    "# 서울시 버스노선별 정류장별 승하차 인원 정보.csv 파일을 불러오세요.\n",
    "df = pd.read_csv('0917/서울시 버스노선별 정류장별 승하차 인원 정보.csv',encoding='euc-kr')\n",
    "df\n",
    "# 노선명이 '201번(구리~서울역)'인 행만 조회하세요.\n",
    "df['노선명'] == '201번(구리~서울역)'\n",
    "df[df['노선명'] == '201번(구리~서울역)']\n",
    "\n",
    "# 승차총승객수가 2000명 이상인 정류장만 조회하세요.\n",
    "df['승차총승객수'] >= 2000\n",
    "df[df['승차총승객수'] >= 2000]\n",
    "\n",
    "# 정류장명에 '병원'이라는 글자가 포함된 행만 조회하세요.\n",
    "# na 있으면 에러남\n",
    "# 단, 역명 값이 비어 있으면 '모름'으로 설정하세요\n",
    "df = df.fillna({ '역명':'모름'} )\n",
    "df\n",
    "df['역명'].str.contains('병원')\n",
    "df[df['역명'].str.contains('병원')]"
   ]
  },
  {
   "cell_type": "code",
   "execution_count": null,
   "id": "642fe4a8-f31b-4ec4-a8bb-003361aa09b3",
   "metadata": {},
   "outputs": [],
   "source": []
  },
  {
   "cell_type": "code",
   "execution_count": null,
   "id": "f900d79b-f6c3-4980-b3e8-688296b8e573",
   "metadata": {},
   "outputs": [],
   "source": [
    "data = pd.read_csv('0917/서울특별시 마포구_법정동별_월별_코로나19 확진자 현황.csv',encoding='euc-kr')\n",
    "df = data[['기준연도','기준월','법정동','확진자수']]\n",
    "df"
   ]
  },
  {
   "cell_type": "code",
   "execution_count": null,
   "id": "832fe3c5-c4d3-4948-8f70-33c2ecc50765",
   "metadata": {},
   "outputs": [],
   "source": [
    "result = df.groupby('법정동').sum()\n",
    "result['확진자수']\n",
    "result['확진자수']['공덕동']"
   ]
  },
  {
   "cell_type": "code",
   "execution_count": null,
   "id": "88147c8f-8d1c-4168-95ab-95f25751e050",
   "metadata": {},
   "outputs": [],
   "source": [
    "df['확진자수']\n",
    "print(type(df['확진자수']))\n",
    "print(df['확진자수'].dtype)"
   ]
  },
  {
   "cell_type": "code",
   "execution_count": null,
   "id": "0a25a79f-a0db-4450-a126-99e9c2dec32d",
   "metadata": {},
   "outputs": [],
   "source": [
    "df.info()"
   ]
  },
  {
   "cell_type": "code",
   "execution_count": null,
   "id": "76a38bdb-c040-4e01-97d8-5563c6645625",
   "metadata": {
    "scrolled": true
   },
   "outputs": [],
   "source": [
    "df['확진자수']\n",
    "df = df.dropna()\n",
    "df\n",
    "df = df.astype({'확진자수':'int64'})\n",
    "df"
   ]
  },
  {
   "cell_type": "code",
   "execution_count": null,
   "id": "c5dc3016-c624-4a0a-a003-be2deb368b8c",
   "metadata": {},
   "outputs": [],
   "source": []
  },
  {
   "cell_type": "code",
   "execution_count": null,
   "id": "3f465922-0c9a-4ce0-be44-a14183c68ed5",
   "metadata": {
    "scrolled": true
   },
   "outputs": [],
   "source": [
    "df = pd.read_csv('0917/서울시설공단_서울도시고속도로 노선별 시간대별 교통량.csv', encoding='euc-kr')\n",
    "df"
   ]
  },
  {
   "cell_type": "code",
   "execution_count": null,
   "id": "69eeaf71-0d15-4740-86fa-90b32a7c1efd",
   "metadata": {},
   "outputs": [],
   "source": [
    "# 노선별 총 교통량\n",
    "result = df.groupby('노선').sum()\n",
    "result['교통량']"
   ]
  },
  {
   "cell_type": "code",
   "execution_count": null,
   "id": "7d60c43f-2b3d-4536-92d7-ea62def75ae7",
   "metadata": {},
   "outputs": [],
   "source": [
    "# 노선별 평균 교통량\n",
    "result = df.groupby('노선')['교통량'].mean()\n",
    "result"
   ]
  },
  {
   "cell_type": "code",
   "execution_count": null,
   "id": "4c84d36f-e0c5-4b45-a5dd-f6a3e8de5a87",
   "metadata": {},
   "outputs": [],
   "source": [
    "# 방향별 총 교통량\n",
    "result = df.groupby('방향').sum()\n",
    "result['교통량']"
   ]
  },
  {
   "cell_type": "code",
   "execution_count": null,
   "id": "c50dfc0b-6eca-4ca0-ac9e-efa1f210e7bf",
   "metadata": {
    "scrolled": true
   },
   "outputs": [],
   "source": [
    "# 시간대별 평균 교통량\n",
    "result = df.groupby('시간대')['교통량'].mean()\n",
    "result"
   ]
  },
  {
   "cell_type": "code",
   "execution_count": null,
   "id": "ad55c7cb-1737-43ef-8c2b-5ce4eebbaf98",
   "metadata": {
    "scrolled": true
   },
   "outputs": [],
   "source": [
    "# 교통량이 가장 많은 시간대\n",
    "df['교통량'].max()\n",
    "df['교통량'].idxmax()\n",
    "\n",
    "type(df.loc[175])\n",
    "df.loc[175]['시간대']\n"
   ]
  },
  {
   "cell_type": "code",
   "execution_count": null,
   "id": "305e0111-3ce0-46d8-982b-56208022636b",
   "metadata": {},
   "outputs": [],
   "source": []
  },
  {
   "cell_type": "code",
   "execution_count": null,
   "id": "b1cbf161-844a-4b9b-92d8-4accb0b1c646",
   "metadata": {
    "scrolled": true
   },
   "outputs": [],
   "source": [
    "df = pd.read_csv('0917/서울시 버스노선별 정류장별 승하차 인원 정보.csv',encoding='euc-kr')\n",
    "df"
   ]
  },
  {
   "cell_type": "code",
   "execution_count": null,
   "id": "be929ace-fdef-49ed-bf69-110066de04f2",
   "metadata": {},
   "outputs": [],
   "source": [
    "# 노선번호별 총 승차승객 수\n",
    "result = df.groupby('노선번호').sum()\n",
    "result['승차총승객수']"
   ]
  },
  {
   "cell_type": "code",
   "execution_count": null,
   "id": "0d32f62c-ace3-466f-bdb2-570920b2a3e4",
   "metadata": {},
   "outputs": [],
   "source": [
    "# 노선번호별 총 하차승객 수\n",
    "result = df.groupby('노선번호').sum()\n",
    "result['하차총승객수']"
   ]
  },
  {
   "cell_type": "code",
   "execution_count": null,
   "id": "c793786d-27b5-41ab-8539-7d2d098b66ef",
   "metadata": {},
   "outputs": [],
   "source": [
    "# 정류장별 총 승차승객 수\n",
    "result = df.groupby('표준버스정류장ID').sum()\n",
    "result['승차총승객수']"
   ]
  },
  {
   "cell_type": "code",
   "execution_count": null,
   "id": "33911cac-84c4-45db-9e6b-faa03ca57fe8",
   "metadata": {},
   "outputs": [],
   "source": [
    "# 741 노선이 지나가는 정류장별 승차승객 수"
   ]
  },
  {
   "cell_type": "code",
   "execution_count": null,
   "id": "d12469a6-74fb-4c72-a6a6-d9ee08264fe5",
   "metadata": {
    "scrolled": true
   },
   "outputs": [],
   "source": [
    "df['노선번호'] == '741'\n",
    "df[df['노선번호'] == '741']\n",
    "\n",
    "df[df['노선번호'] == '741'].groupby('표준버스정류장ID').sum()"
   ]
  },
  {
   "cell_type": "code",
   "execution_count": null,
   "id": "13ec4e74-9aa6-4724-9312-af5dcbe8f7a7",
   "metadata": {},
   "outputs": [],
   "source": []
  },
  {
   "cell_type": "code",
   "execution_count": null,
   "id": "bf5534e6-59cd-4706-a8ba-be04bcf37e99",
   "metadata": {
    "scrolled": true
   },
   "outputs": [],
   "source": [
    "df = pd.read_csv('0917/서울특별시 마포구_법정동별_월별_코로나19 확진자 현황.csv',encoding='euc-kr')\n",
    "df"
   ]
  },
  {
   "cell_type": "code",
   "execution_count": null,
   "id": "7fff227a-25c8-4bec-89ff-0aa0b8c45e28",
   "metadata": {},
   "outputs": [],
   "source": [
    "# 연도별 총 확진자수\n",
    "result = df.groupby('기준연도').sum()\n",
    "result['확진자수']"
   ]
  },
  {
   "cell_type": "code",
   "execution_count": null,
   "id": "92cb69aa-7718-484e-8d67-d42ca8b7f80a",
   "metadata": {
    "scrolled": true
   },
   "outputs": [],
   "source": [
    "# 동별 평균 확진자수\n",
    "result = df.groupby('법정동')['확진자수'].mean()\n",
    "result"
   ]
  },
  {
   "cell_type": "code",
   "execution_count": null,
   "id": "a2eba4cb-dbd8-457f-b158-34c35c2c9bef",
   "metadata": {
    "scrolled": true
   },
   "outputs": [],
   "source": [
    "# 2021년도 월별 확진자수 합계\n",
    "df[df['기준연도'] == 2021]\n",
    "df\n",
    "\n",
    "result = df.groupby('기준월').sum()\n",
    "result['확진자수']\n",
    "\n",
    "# result = df.groupby(['기준연도','기준월']).sum()\n",
    "# result['확진자수']"
   ]
  },
  {
   "cell_type": "code",
   "execution_count": null,
   "id": "26cda4e2-2d12-49ca-990a-d5b24ad10b16",
   "metadata": {},
   "outputs": [],
   "source": []
  },
  {
   "cell_type": "code",
   "execution_count": null,
   "id": "8cc20355-bcfc-48c6-a520-46b3b50715cb",
   "metadata": {},
   "outputs": [],
   "source": []
  },
  {
   "cell_type": "code",
   "execution_count": 18,
   "id": "48e63fa5-4b1f-4c7d-9228-0d6de3f13559",
   "metadata": {},
   "outputs": [
    {
     "data": {
      "text/plain": [
       "np.float64(25571.0)"
      ]
     },
     "execution_count": 18,
     "metadata": {},
     "output_type": "execute_result"
    }
   ],
   "source": [
    "# 2022년 확진자수가 가장 많은 동과 확진자수\n",
    "\n",
    "# 2022년 데이터 필터링\n",
    "df[df['기준연도'] == 2022]\n",
    "\n",
    "# 동별 확진자 수 합계 계산\n",
    "df[df['기준연도'] == 2022].groupby('법정동').sum()['확진자수']\n",
    "\n",
    "# 확진자수가 가장 많은 동과 그 값 구하기\n",
    "df[df['기준연도'] == 2022].groupby('법정동').sum()['확진자수'].max()\n",
    "df[df['기준연도'] == 2022].groupby('법정동').sum()['확진자수'].idxmax()\n",
    "\n",
    "# print(f\"2022년 확진자수가 가장 많은 동\n",
    "df[df['기준연도'] == 2022].groupby('법정동').sum()['확진자수']\n",
    "df[df['기준연도'] == 2022].groupby('법정동').sum()['확진자수']['성산동']"
   ]
  },
  {
   "cell_type": "code",
   "execution_count": null,
   "id": "295448c2-2fb7-402d-a28b-dd6ee775a19e",
   "metadata": {},
   "outputs": [],
   "source": []
  },
  {
   "cell_type": "code",
   "execution_count": null,
   "id": "a33d00f4-0d4e-4d1b-81c0-6ff5b4179709",
   "metadata": {},
   "outputs": [],
   "source": []
  },
  {
   "cell_type": "code",
   "execution_count": null,
   "id": "c7263726-9ccb-4094-b26b-e3b242931895",
   "metadata": {},
   "outputs": [],
   "source": []
  },
  {
   "cell_type": "code",
   "execution_count": null,
   "id": "0ef62e6a-3e92-4d0c-bd39-7e06693bee17",
   "metadata": {},
   "outputs": [],
   "source": []
  },
  {
   "cell_type": "code",
   "execution_count": null,
   "id": "b464f3cd-889a-4993-93d2-6ef1861a1922",
   "metadata": {},
   "outputs": [],
   "source": []
  }
 ],
 "metadata": {
  "kernelspec": {
   "display_name": "Python 3 (ipykernel)",
   "language": "python",
   "name": "python3"
  },
  "language_info": {
   "codemirror_mode": {
    "name": "ipython",
    "version": 3
   },
   "file_extension": ".py",
   "mimetype": "text/x-python",
   "name": "python",
   "nbconvert_exporter": "python",
   "pygments_lexer": "ipython3",
   "version": "3.10.18"
  }
 },
 "nbformat": 4,
 "nbformat_minor": 5
}
