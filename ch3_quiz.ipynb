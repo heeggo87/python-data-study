{
 "cells": [
  {
   "cell_type": "code",
   "execution_count": 1,
   "id": "84cceba0-74ca-4468-9dfb-99a6ae3df138",
   "metadata": {},
   "outputs": [],
   "source": [
    "import numpy as np"
   ]
  },
  {
   "cell_type": "code",
   "execution_count": 2,
   "id": "68cc94ea-eca5-4a0c-a127-1232512e5ac5",
   "metadata": {},
   "outputs": [
    {
     "data": {
      "text/plain": [
       "array(['가', '나', '다'], dtype='<U1')"
      ]
     },
     "execution_count": 2,
     "metadata": {},
     "output_type": "execute_result"
    }
   ],
   "source": [
    "arr = np.array(['가','나','다','라','마'])\n",
    "\n",
    "# 배열의 두번째 값을 꺼내서 출력하세요.\n",
    "arr[0:3]"
   ]
  },
  {
   "cell_type": "code",
   "execution_count": null,
   "id": "038d00e8-ba74-4f44-b871-808ddb11a3ae",
   "metadata": {},
   "outputs": [],
   "source": []
  },
  {
   "cell_type": "code",
   "execution_count": null,
   "id": "313c9fd2-d3cd-44bd-a077-36fbb44bab68",
   "metadata": {},
   "outputs": [],
   "source": []
  },
  {
   "cell_type": "code",
   "execution_count": 10,
   "id": "de6ddd6f-9f9a-4629-8f87-7e581643785a",
   "metadata": {},
   "outputs": [
    {
     "name": "stdout",
     "output_type": "stream",
     "text": [
      "[10 20 30]\n"
     ]
    }
   ],
   "source": [
    "arr = np.array([10, 20, 30, 40, 50, 60, 70])\n",
    "\n",
    "# 배열의 처음 3개 값을 꺼내서 출력하세요.\n",
    "print(arr[0:3])"
   ]
  },
  {
   "cell_type": "code",
   "execution_count": 11,
   "id": "1f221090-8ede-4f39-9a00-967bb76b33cf",
   "metadata": {},
   "outputs": [
    {
     "name": "stdout",
     "output_type": "stream",
     "text": [
      "[40 50 60 70]\n"
     ]
    }
   ],
   "source": [
    "# 배열의 네 번째부터 끝까지 값을 꺼내서 출력하세요.\n",
    "print(arr[3:])"
   ]
  },
  {
   "cell_type": "code",
   "execution_count": 12,
   "id": "8b0d4ec2-9c00-4de7-b55f-3bc93a576dde",
   "metadata": {},
   "outputs": [
    {
     "name": "stdout",
     "output_type": "stream",
     "text": [
      "[20 30 40 50]\n"
     ]
    }
   ],
   "source": [
    "# 배열의 두 번째부터 다섯 번째까지 값을 꺼내서 출력하세요.\n",
    "print(arr[1:5])"
   ]
  },
  {
   "cell_type": "code",
   "execution_count": null,
   "id": "0452fb41-0ae2-4cde-ba5c-30866898156e",
   "metadata": {},
   "outputs": [],
   "source": []
  },
  {
   "cell_type": "code",
   "execution_count": null,
   "id": "efc233f6-155f-47c9-b0f2-55093cbfa342",
   "metadata": {},
   "outputs": [],
   "source": []
  },
  {
   "cell_type": "code",
   "execution_count": null,
   "id": "a83df120-666a-465c-bbcf-3fe548c3cd7d",
   "metadata": {},
   "outputs": [],
   "source": [
    "arr = np.array(['a','b','c','d','e','f','g'])"
   ]
  },
  {
   "cell_type": "code",
   "execution_count": 13,
   "id": "abb11fde-c1b2-4ea7-a787-7e26bfd0d93c",
   "metadata": {},
   "outputs": [
    {
     "name": "stdout",
     "output_type": "stream",
     "text": [
      "[10 20 30]\n"
     ]
    }
   ],
   "source": [
    "# 배열의 처음 3개 값을 꺼내서 출력하세요.\n",
    "print(arr[:3])"
   ]
  },
  {
   "cell_type": "code",
   "execution_count": null,
   "id": "7569f480-c914-4dda-ad17-43ee716cdd78",
   "metadata": {},
   "outputs": [],
   "source": [
    "array([1,2,3])"
   ]
  },
  {
   "cell_type": "code",
   "execution_count": null,
   "id": "61bebe37-865c-4ee2-8c64-26b3e0aa4157",
   "metadata": {},
   "outputs": [],
   "source": [
    "# 1 꺼내기\n"
   ]
  },
  {
   "cell_type": "code",
   "execution_count": null,
   "id": "88c5fe7b-790e-423d-a932-3093f5f0697a",
   "metadata": {},
   "outputs": [],
   "source": []
  },
  {
   "cell_type": "code",
   "execution_count": null,
   "id": "1c5f8caa-eed1-4df4-bda6-b4b6c663e129",
   "metadata": {},
   "outputs": [],
   "source": [
    "arr = np.array([10, 20, 30, 40, 50, 60, 70])"
   ]
  },
  {
   "cell_type": "code",
   "execution_count": 18,
   "id": "929152bc-c8cd-40f5-bcbe-c97588bd26b4",
   "metadata": {},
   "outputs": [
    {
     "name": "stdout",
     "output_type": "stream",
     "text": [
      "[40 50 60 70]\n"
     ]
    }
   ],
   "source": [
    "print(arr[arr > 30])"
   ]
  },
  {
   "cell_type": "code",
   "execution_count": 19,
   "id": "cb879422-c305-4a30-a444-3118c49860e9",
   "metadata": {},
   "outputs": [
    {
     "name": "stdout",
     "output_type": "stream",
     "text": [
      "[10 20 30 40 50 60 70]\n"
     ]
    }
   ],
   "source": [
    "print(arr[arr % 2 == 0])"
   ]
  },
  {
   "cell_type": "code",
   "execution_count": 26,
   "id": "f9de4e38-e001-41d7-8ba8-74f28a9df666",
   "metadata": {},
   "outputs": [],
   "source": [
    "arr[arr > 50] = 999"
   ]
  },
  {
   "cell_type": "code",
   "execution_count": 27,
   "id": "b2c16893-e616-495d-8c43-57c8d0b9c109",
   "metadata": {},
   "outputs": [
    {
     "name": "stdout",
     "output_type": "stream",
     "text": [
      "[ 10  20  30  40  50 999 999]\n"
     ]
    }
   ],
   "source": [
    "print(arr)"
   ]
  },
  {
   "cell_type": "code",
   "execution_count": null,
   "id": "2d657306-e343-4c2e-af84-465c998551d8",
   "metadata": {},
   "outputs": [],
   "source": []
  },
  {
   "cell_type": "code",
   "execution_count": null,
   "id": "9d26391c-8a31-4c04-977e-1c747d63ad8d",
   "metadata": {},
   "outputs": [],
   "source": []
  },
  {
   "cell_type": "code",
   "execution_count": 4,
   "id": "f6ed50fb-e9be-4277-a9de-be438fd6dbcf",
   "metadata": {},
   "outputs": [],
   "source": [
    "employees = np.array(['짱구','철수','유리','맹구','훈이'])\n",
    "\n",
    "salaries = np.array([250,320,280,400,150])"
   ]
  },
  {
   "cell_type": "code",
   "execution_count": 16,
   "id": "ae4bd7f0-8067-4350-a18b-8a4177f846b3",
   "metadata": {},
   "outputs": [
    {
     "data": {
      "text/plain": [
       "array([False,  True])"
      ]
     },
     "execution_count": 16,
     "metadata": {},
     "output_type": "execute_result"
    }
   ],
   "source": [
    "employees == '맹구'"
   ]
  },
  {
   "cell_type": "code",
   "execution_count": 17,
   "id": "03fce824-93d0-4ea9-abb1-2b47c4d95df0",
   "metadata": {},
   "outputs": [
    {
     "data": {
      "text/plain": [
       "array([False,  True, False,  True, False])"
      ]
     },
     "execution_count": 17,
     "metadata": {},
     "output_type": "execute_result"
    }
   ],
   "source": [
    "salaries >= 300"
   ]
  },
  {
   "cell_type": "code",
   "execution_count": 20,
   "id": "a5243e0a-9515-4b68-b33d-9682e5796c8b",
   "metadata": {},
   "outputs": [],
   "source": [
    "# employees[salaries >= 300] => 오류남 "
   ]
  },
  {
   "cell_type": "code",
   "execution_count": null,
   "id": "135f8974-9091-442e-b33c-6bb8ffa89d52",
   "metadata": {},
   "outputs": [],
   "source": []
  },
  {
   "cell_type": "code",
   "execution_count": 29,
   "id": "ea8a29af-0e69-444e-bd8c-088afaeb61bf",
   "metadata": {},
   "outputs": [
    {
     "data": {
      "text/plain": [
       "array([  0, 100,   0, 100,   0])"
      ]
     },
     "execution_count": 29,
     "metadata": {},
     "output_type": "execute_result"
    }
   ],
   "source": [
    "arr = np.array([5,12,7,20,3])\n",
    "\n",
    "result = np.where(arr > 10, 100, 0)\n",
    "result"
   ]
  },
  {
   "cell_type": "code",
   "execution_count": null,
   "id": "3f74c719-1d51-405d-a90c-d7bcf85b1e88",
   "metadata": {},
   "outputs": [],
   "source": []
  },
  {
   "cell_type": "code",
   "execution_count": 31,
   "id": "424613ba-0625-4b85-b8f2-6948b76ddd15",
   "metadata": {},
   "outputs": [
    {
     "data": {
      "text/plain": [
       "array([-1,  1,  1,  1, -1])"
      ]
     },
     "execution_count": 31,
     "metadata": {},
     "output_type": "execute_result"
    }
   ],
   "source": [
    "arr = np.array([15,8,22,6,13])\n",
    "\n",
    "result = np.where(arr %2 == 0, 1, -1)\n",
    "result"
   ]
  },
  {
   "cell_type": "code",
   "execution_count": null,
   "id": "66aba2ef-36c6-4539-9f76-ed184ad2b521",
   "metadata": {},
   "outputs": [],
   "source": []
  },
  {
   "cell_type": "code",
   "execution_count": 32,
   "id": "87dc2920-ae5a-4a1f-8663-805ceaa2c9ee",
   "metadata": {},
   "outputs": [
    {
     "data": {
      "text/plain": [
       "array([10,  2, 30,  4, 50])"
      ]
     },
     "execution_count": 32,
     "metadata": {},
     "output_type": "execute_result"
    }
   ],
   "source": [
    "arr1 = np.array([10, 20, 30, 40, 50])\n",
    "arr2 = np.array([1, 2, 3, 4, 5])\n",
    "cond = np.array([True, False, True, False, True])\n",
    "\n",
    "np.where(cond, arr1, arr2)"
   ]
  },
  {
   "cell_type": "code",
   "execution_count": null,
   "id": "f8aceb94-20c3-4bff-a849-6085f5ffa8f5",
   "metadata": {},
   "outputs": [],
   "source": []
  },
  {
   "cell_type": "code",
   "execution_count": null,
   "id": "1872a4ac-18a4-434d-963e-9e4ed456c954",
   "metadata": {},
   "outputs": [],
   "source": []
  },
  {
   "cell_type": "code",
   "execution_count": 40,
   "id": "6aee407e-9ab3-4ebd-a471-9445f7585c9e",
   "metadata": {},
   "outputs": [
    {
     "name": "stdout",
     "output_type": "stream",
     "text": [
      "총 칼로리: 2000\n",
      "평균 칼로리: 500.0\n",
      "가장 높은 칼로리: 800\n",
      "가장 낮은 칼로리: 250\n"
     ]
    }
   ],
   "source": [
    "# 아래는 하루 동안 먹은 음식들의 칼로리(Kcal)이다.\n",
    "# • 김밥: 250\n",
    "# • 라면: 550\n",
    "# • 떡볶이: 400\n",
    "# • 치킨: 800\n",
    "calories = np.array([250, 550, 400, 800])\n",
    "\n",
    "# 1. 총 칼로리 합계\n",
    "total_calories = np.sum(calories)\n",
    "\n",
    "# 2. 평균 칼로리\n",
    "average_calories = np.mean(calories)\n",
    "\n",
    "# 3. 가장 높은 칼로리\n",
    "max_calories = np.max(calories)\n",
    "\n",
    "# 4. 가장 낮은 칼로리\n",
    "min_calories = np.min(calories)\n",
    "\n",
    "print(f\"총 칼로리: {total_calories}\")\n",
    "print(f\"평균 칼로리: {average_calories}\")\n",
    "print(f\"가장 높은 칼로리: {max_calories}\")\n",
    "print(f\"가장 낮은 칼로리: {min_calories}\")"
   ]
  },
  {
   "cell_type": "code",
   "execution_count": null,
   "id": "c0ba35bd-e9b4-41dd-a065-92e90475ae5f",
   "metadata": {},
   "outputs": [],
   "source": []
  },
  {
   "cell_type": "code",
   "execution_count": null,
   "id": "a50167c6-5043-48ae-8510-821ff65bbdd4",
   "metadata": {},
   "outputs": [],
   "source": []
  },
  {
   "cell_type": "code",
   "execution_count": null,
   "id": "47c4d7d8-6a70-40e0-bd48-4162b7146a0d",
   "metadata": {},
   "outputs": [],
   "source": []
  },
  {
   "cell_type": "code",
   "execution_count": null,
   "id": "34cb618d-e28e-4e19-838d-4e3ae2c0c769",
   "metadata": {},
   "outputs": [],
   "source": []
  },
  {
   "cell_type": "code",
   "execution_count": null,
   "id": "7548d20d-4caf-4bc7-8226-8d03e7a16629",
   "metadata": {},
   "outputs": [],
   "source": []
  },
  {
   "cell_type": "code",
   "execution_count": null,
   "id": "abd34a7b-2083-4bea-a785-2c34ebed2c0e",
   "metadata": {},
   "outputs": [],
   "source": []
  }
 ],
 "metadata": {
  "kernelspec": {
   "display_name": "Python 3 (ipykernel)",
   "language": "python",
   "name": "python3"
  },
  "language_info": {
   "codemirror_mode": {
    "name": "ipython",
    "version": 3
   },
   "file_extension": ".py",
   "mimetype": "text/x-python",
   "name": "python",
   "nbconvert_exporter": "python",
   "pygments_lexer": "ipython3",
   "version": "3.10.18"
  }
 },
 "nbformat": 4,
 "nbformat_minor": 5
}
